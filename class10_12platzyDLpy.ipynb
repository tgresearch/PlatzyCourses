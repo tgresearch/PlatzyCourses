{
  "nbformat": 4,
  "nbformat_minor": 0,
  "metadata": {
    "colab": {
      "name": "class10_12platzyDLpy.ipynb",
      "provenance": [],
      "collapsed_sections": [],
      "authorship_tag": "ABX9TyNRH3DltFQDgGW2bLVAiNBl",
      "include_colab_link": true
    },
    "kernelspec": {
      "name": "python3",
      "display_name": "Python 3"
    },
    "language_info": {
      "name": "python"
    },
    "accelerator": "GPU"
  },
  "cells": [
    {
      "cell_type": "markdown",
      "metadata": {
        "id": "view-in-github",
        "colab_type": "text"
      },
      "source": [
        "<a href=\"https://colab.research.google.com/github/tgresearch/PlatzyCourses/blob/main/class10_12platzyDLpy.ipynb\" target=\"_parent\"><img src=\"https://colab.research.google.com/assets/colab-badge.svg\" alt=\"Open In Colab\"/></a>"
      ]
    },
    {
      "cell_type": "markdown",
      "metadata": {
        "id": "L-1wLyIoXmqJ"
      },
      "source": [
        "\n",
        "\n",
        "```\n",
        "## Class 9\n",
        "```\n",
        "\n"
      ]
    },
    {
      "cell_type": "code",
      "metadata": {
        "id": "tvFYNieTN5YZ"
      },
      "source": [
        "import torch\n",
        "import torch.nn as nn\n",
        "import torch.nn.functional as F #capas sin parametros\n"
      ],
      "execution_count": 1,
      "outputs": []
    },
    {
      "cell_type": "code",
      "metadata": {
        "id": "jxJj47z1UHMH"
      },
      "source": [
        "class Net(nn.Module):\n",
        "  def __init__(self, num_channels):\n",
        "    super(Net,self).__init__()\n",
        "    \n",
        "    self.num_channels = num_channels\n",
        "    \n",
        "    self.conv1 = nn.Conv2d(3, self.num_channels, 3, stride = 1, padding = 1)\n",
        "    self.conv2 = nn.Conv2d(self.num_channels, self.num_channels*2, 3, stride = 1, padding = 1)\n",
        "    self.conv3 = nn.Conv2d(self.num_channels*2, self.num_channels*4, 3, stride = 1, padding = 1)\n",
        "    \n",
        "    self.fc1 = nn.Linear(self.num_channels*4*8*8, self.num_channels*4)\n",
        "    self.fc2 = nn.Linear(self.num_channels*4, 6)\n",
        "    \n",
        "  def forward(self,x):\n",
        "      #Empieza 3x64x64\n",
        "      x = self.conv1(x) # num_channels x 64 x 64\n",
        "      x = F.relu(F.max_pool2d(x, 2)) # num_channels x 32 x 32\n",
        "      x = self.conv2(x) # num_channels*2 x 32 x32\n",
        "      x = F.relu(F.max_pool2d(x, 2)) #num_channels*2 x 16 x 16\n",
        "      x = self.conv3(x) # num_channels*4 x16x16\n",
        "      x = F.relu(F.max_pool2d(x, 2)) # num_channels*4 x 8 x 8\n",
        "\n",
        "      #flatten\n",
        "      x = x.view(-1, self.num_channels*4*8*8)\n",
        "\n",
        "      #fc\n",
        "      x = self.fc1(x)\n",
        "      x = F.relu(x)\n",
        "      x = self.fc2(x)\n",
        "\n",
        "      #log_softmax\n",
        "\n",
        "      x = F.log_softmax(x, dim=1)\n",
        "\n",
        "      return x     "
      ],
      "execution_count": 2,
      "outputs": []
    },
    {
      "cell_type": "code",
      "metadata": {
        "colab": {
          "base_uri": "https://localhost:8080/"
        },
        "id": "E2Ko9-U4UXIc",
        "outputId": "dddb6363-65c2-487f-e251-4a8d8a414844"
      },
      "source": [
        "from google.colab import drive\n",
        "drive.mount('/gdrive')"
      ],
      "execution_count": 3,
      "outputs": [
        {
          "output_type": "stream",
          "name": "stdout",
          "text": [
            "Drive already mounted at /gdrive; to attempt to forcibly remount, call drive.mount(\"/gdrive\", force_remount=True).\n"
          ]
        }
      ]
    },
    {
      "cell_type": "code",
      "metadata": {
        "colab": {
          "base_uri": "https://localhost:8080/"
        },
        "id": "SEoa1t-YcrHi",
        "outputId": "b6cea670-fafc-4a6c-be1e-23cb238fe59d"
      },
      "source": [
        "!ls '/gdrive/My Drive/dl-pytorch/datasets/64x64_SIGNS'"
      ],
      "execution_count": 4,
      "outputs": [
        {
          "output_type": "stream",
          "name": "stdout",
          "text": [
            "test_signs  train_signs  val_signs\n"
          ]
        }
      ]
    },
    {
      "cell_type": "code",
      "metadata": {
        "id": "05HJJWPbcsHz"
      },
      "source": [
        "import sys\n",
        "sys.path.append('/gdrive/My Drive/dl-pytorch/')"
      ],
      "execution_count": 5,
      "outputs": []
    },
    {
      "cell_type": "code",
      "metadata": {
        "id": "N0a8cM8kcsEl"
      },
      "source": [
        "from plot_helpers import imshow"
      ],
      "execution_count": 6,
      "outputs": []
    },
    {
      "cell_type": "code",
      "metadata": {
        "id": "VqnIqdtGcsBl"
      },
      "source": [
        "import os\n",
        "from PIL import Image\n",
        "from torch.utils.data import Dataset, DataLoader\n",
        "\n",
        "class SIGNSDataset(Dataset):\n",
        "  def __init__(self, base_dir, split='train',transform=None):\n",
        "    path = os.path.join(base_dir, \"{}_signs\".format(split))\n",
        "    files = os.listdir(path)\n",
        "\n",
        "    self.filenames = [os.path.join(path,f) for f in files if f.endswith(\".jpg\")]\n",
        "\n",
        "    self.targets = [int(f[0]) for f in files]\n",
        "    self.transform = transform\n",
        "  \n",
        "  def __len__(self):\n",
        "    return len(self.filenames)\n",
        "\n",
        "  def __getitem__(self,idx):\n",
        "    image = Image.open(self.filenames[idx])\n",
        "    if self.transform:\n",
        "      image = self.transform(image)\n",
        "    return image, self.targets[idx]\n",
        "\n"
      ],
      "execution_count": 7,
      "outputs": []
    },
    {
      "cell_type": "code",
      "metadata": {
        "id": "jar4cBIqcr-r"
      },
      "source": [
        "signs = SIGNSDataset('/gdrive/My Drive/dl-pytorch/datasets/64x64_SIGNS', split='train')"
      ],
      "execution_count": 8,
      "outputs": []
    },
    {
      "cell_type": "code",
      "metadata": {
        "colab": {
          "base_uri": "https://localhost:8080/"
        },
        "id": "pCFouYTxgIg-",
        "outputId": "e4c091d1-037f-40c5-e5a8-76dd5af5d86f"
      },
      "source": [
        "len(signs)"
      ],
      "execution_count": 9,
      "outputs": [
        {
          "output_type": "execute_result",
          "data": {
            "text/plain": [
              "864"
            ]
          },
          "metadata": {},
          "execution_count": 9
        }
      ]
    },
    {
      "cell_type": "code",
      "metadata": {
        "colab": {
          "base_uri": "https://localhost:8080/",
          "height": 81
        },
        "id": "JC-f1VOHgId9",
        "outputId": "8e0af7ac-2a94-4c97-9bdc-70968fe3cbcb"
      },
      "source": [
        "signs[0][0]"
      ],
      "execution_count": 10,
      "outputs": [
        {
          "output_type": "execute_result",
          "data": {
            "image/png": "[encoded data removed]",
            "text/plain": [
              "<PIL.JpegImagePlugin.JpegImageFile image mode=RGB size=64x64 at 0x7F30E40CCA10>"
            ]
          },
          "metadata": {},
          "execution_count": 10
        }
      ]
    },
    {
      "cell_type": "markdown",
      "metadata": {
        "id": "8Ey1UG9QoHYo"
      },
      "source": [
        "##Class #11"
      ]
    },
    {
      "cell_type": "code",
      "metadata": {
        "id": "16zxY9AMcr7r"
      },
      "source": [
        "import torchvision.transforms as transforms"
      ],
      "execution_count": 11,
      "outputs": []
    },
    {
      "cell_type": "code",
      "metadata": {
        "id": "eDh2oRQ4oG6C"
      },
      "source": [
        "trainset = SIGNSDataset('/gdrive/My Drive/dl-pytorch/datasets/64x64_SIGNS', split='train', transform= transforms.ToTensor())"
      ],
      "execution_count": 12,
      "outputs": []
    },
    {
      "cell_type": "code",
      "metadata": {
        "id": "W5QV0JcmoG3J"
      },
      "source": [
        "dataloader = DataLoader(trainset, batch_size=32)"
      ],
      "execution_count": 13,
      "outputs": []
    },
    {
      "cell_type": "code",
      "metadata": {
        "colab": {
          "base_uri": "https://localhost:8080/",
          "height": 254
        },
        "id": "G4R2HgpZoG0z",
        "outputId": "132a372e-33de-4671-99e7-78d53f59c844"
      },
      "source": [
        "from torchvision.utils import make_grid\n",
        "\n",
        "for inputs, targets in dataloader:\n",
        "  out = make_grid(inputs)\n",
        "  imshow(out)\n",
        "  print(targets)\n",
        "  break"
      ],
      "execution_count": 14,
      "outputs": [
        {
          "output_type": "display_data",
          "data": {
            "image/png": "[encoded data removed]",
            "text/plain": [
              "<Figure size 432x288 with 1 Axes>"
            ]
          },
          "metadata": {
            "needs_background": "light"
          }
        },
        {
          "output_type": "stream",
          "name": "stdout",
          "text": [
            "tensor([1, 2, 1, 1, 0, 2, 3, 1, 3, 2, 4, 4, 1, 5, 4, 1, 5, 1, 3, 4, 2, 1, 4, 3,\n",
            "        2, 0, 3, 1, 5, 5, 0, 4])\n"
          ]
        }
      ]
    },
    {
      "cell_type": "code",
      "metadata": {
        "id": "v4MHhgCqoGxt"
      },
      "source": [
        "import torch.optim as optim"
      ],
      "execution_count": 15,
      "outputs": []
    },
    {
      "cell_type": "code",
      "metadata": {
        "id": "Rk5nvRL3pN1K"
      },
      "source": [
        "device = torch.device('cuda')"
      ],
      "execution_count": 16,
      "outputs": []
    },
    {
      "cell_type": "code",
      "metadata": {
        "colab": {
          "base_uri": "https://localhost:8080/"
        },
        "id": "llrhc6VuptaI",
        "outputId": "3048d51b-3e36-4a06-a38a-a6517a34d07c"
      },
      "source": [
        "device"
      ],
      "execution_count": 17,
      "outputs": [
        {
          "output_type": "execute_result",
          "data": {
            "text/plain": [
              "device(type='cuda')"
            ]
          },
          "metadata": {},
          "execution_count": 17
        }
      ]
    },
    {
      "cell_type": "code",
      "metadata": {
        "id": "w2vGebXtoGu0"
      },
      "source": [
        "net = Net(32).to(device)\n",
        "\n",
        "loss_fn = nn.NLLLoss()\n",
        "optimizer = optim.SGD(net.parameters(), lr=1e-3, momentum = 0.9)"
      ],
      "execution_count": 18,
      "outputs": []
    },
    {
      "cell_type": "code",
      "metadata": {
        "id": "a1abPfJhoGsQ"
      },
      "source": [
        "class RunningMetric():\n",
        "  def __init__(self):\n",
        "    self.S = 0\n",
        "    self.N = 0\n",
        "\n",
        "  def update(self,val,size):\n",
        "    self.S += val\n",
        "    self.N += batch_size\n",
        "\n",
        "  def __call__(self):\n",
        "    return self.S/float(self.N)"
      ],
      "execution_count": 19,
      "outputs": []
    },
    {
      "cell_type": "markdown",
      "metadata": {
        "id": "9U6MyGkmwrpa"
      },
      "source": [
        "##Clase #12"
      ]
    },
    {
      "cell_type": "code",
      "metadata": {
        "id": "GpRAcfK9oGpG"
      },
      "source": [
        "num_epochs = 100"
      ],
      "execution_count": 20,
      "outputs": []
    },
    {
      "cell_type": "code",
      "metadata": {
        "colab": {
          "base_uri": "https://localhost:8080/"
        },
        "id": "27xt89N9oGmT",
        "outputId": "4da752b7-eb6f-4847-f8c0-6eb0b8bca068"
      },
      "source": [
        "for epoch in range(num_epochs):\n",
        "  print('Epoch {}/{}'.format(epoch+1, num_epochs))\n",
        "  print('-'*10)\n",
        "  \n",
        "  running_loss = RunningMetric() # perdida\n",
        "  running_acc = RunningMetric() #precision\n",
        "  \n",
        "  for inputs, targets in dataloader:\n",
        "    inputs, targets = inputs.to(device), targets.to(device)\n",
        "    optimizer.zero_grad()\n",
        "    \n",
        "    outputs = net(inputs)\n",
        "    _, preds = torch.max(outputs,1)\n",
        "    loss = loss_fn(outputs, targets)\n",
        "    \n",
        "    loss.backward() #magias: gradientes calculados automaticamente\n",
        "    optimizer.step() #magia2: actualiza las perillas o los parametros\n",
        "    \n",
        "    batch_size = inputs.size()[0]\n",
        "    running_loss.update(loss.item()*batch_size,\n",
        "                       batch_size)\n",
        "    running_acc.update(torch.sum(preds == targets).float(),\n",
        "                       batch_size)\n",
        "  print(\"Loss: {:.4f} Acc: {:.4f} \".format(running_loss(),\n",
        "                                          running_acc()))"
      ],
      "execution_count": 22,
      "outputs": [
        {
          "output_type": "stream",
          "name": "stdout",
          "text": [
            "Epoch 1/100\n",
            "----------\n",
            "Loss: 1.7933 Acc: 0.1609 \n",
            "Epoch 2/100\n",
            "----------\n",
            "Loss: 1.7922 Acc: 0.1736 \n",
            "Epoch 3/100\n",
            "----------\n",
            "Loss: 1.7915 Acc: 0.1806 \n",
            "Epoch 4/100\n",
            "----------\n",
            "Loss: 1.7910 Acc: 0.1863 \n",
            "Epoch 5/100\n",
            "----------\n",
            "Loss: 1.7906 Acc: 0.1991 \n",
            "Epoch 6/100\n",
            "----------\n",
            "Loss: 1.7903 Acc: 0.1817 \n",
            "Epoch 7/100\n",
            "----------\n",
            "Loss: 1.7900 Acc: 0.1713 \n",
            "Epoch 8/100\n",
            "----------\n",
            "Loss: 1.7897 Acc: 0.1725 \n",
            "Epoch 9/100\n",
            "----------\n",
            "Loss: 1.7894 Acc: 0.1725 \n",
            "Epoch 10/100\n",
            "----------\n",
            "Loss: 1.7891 Acc: 0.1725 \n",
            "Epoch 11/100\n",
            "----------\n",
            "Loss: 1.7888 Acc: 0.1725 \n",
            "Epoch 12/100\n",
            "----------\n",
            "Loss: 1.7884 Acc: 0.1725 \n",
            "Epoch 13/100\n",
            "----------\n",
            "Loss: 1.7880 Acc: 0.1725 \n",
            "Epoch 14/100\n",
            "----------\n",
            "Loss: 1.7877 Acc: 0.1725 \n",
            "Epoch 15/100\n",
            "----------\n",
            "Loss: 1.7872 Acc: 0.1725 \n",
            "Epoch 16/100\n",
            "----------\n",
            "Loss: 1.7868 Acc: 0.1725 \n",
            "Epoch 17/100\n",
            "----------\n",
            "Loss: 1.7863 Acc: 0.1736 \n",
            "Epoch 18/100\n",
            "----------\n",
            "Loss: 1.7857 Acc: 0.1736 \n",
            "Epoch 19/100\n",
            "----------\n",
            "Loss: 1.7851 Acc: 0.1840 \n",
            "Epoch 20/100\n",
            "----------\n",
            "Loss: 1.7845 Acc: 0.1863 \n",
            "Epoch 21/100\n",
            "----------\n",
            "Loss: 1.7837 Acc: 0.1991 \n",
            "Epoch 22/100\n",
            "----------\n",
            "Loss: 1.7828 Acc: 0.2106 \n",
            "Epoch 23/100\n",
            "----------\n",
            "Loss: 1.7819 Acc: 0.2199 \n",
            "Epoch 24/100\n",
            "----------\n",
            "Loss: 1.7807 Acc: 0.2303 \n",
            "Epoch 25/100\n",
            "----------\n",
            "Loss: 1.7794 Acc: 0.2488 \n",
            "Epoch 26/100\n",
            "----------\n",
            "Loss: 1.7779 Acc: 0.2697 \n",
            "Epoch 27/100\n",
            "----------\n",
            "Loss: 1.7761 Acc: 0.2905 \n",
            "Epoch 28/100\n",
            "----------\n",
            "Loss: 1.7739 Acc: 0.2940 \n",
            "Epoch 29/100\n",
            "----------\n",
            "Loss: 1.7713 Acc: 0.3090 \n",
            "Epoch 30/100\n",
            "----------\n",
            "Loss: 1.7683 Acc: 0.3125 \n",
            "Epoch 31/100\n",
            "----------\n",
            "Loss: 1.7644 Acc: 0.3079 \n",
            "Epoch 32/100\n",
            "----------\n",
            "Loss: 1.7597 Acc: 0.3067 \n",
            "Epoch 33/100\n",
            "----------\n",
            "Loss: 1.7539 Acc: 0.2998 \n",
            "Epoch 34/100\n",
            "----------\n",
            "Loss: 1.7467 Acc: 0.2847 \n",
            "Epoch 35/100\n",
            "----------\n",
            "Loss: 1.7377 Acc: 0.2812 \n",
            "Epoch 36/100\n",
            "----------\n",
            "Loss: 1.7271 Acc: 0.2766 \n",
            "Epoch 37/100\n",
            "----------\n",
            "Loss: 1.7142 Acc: 0.2720 \n",
            "Epoch 38/100\n",
            "----------\n",
            "Loss: 1.6975 Acc: 0.2917 \n",
            "Epoch 39/100\n",
            "----------\n",
            "Loss: 1.6774 Acc: 0.2905 \n",
            "Epoch 40/100\n",
            "----------\n",
            "Loss: 1.6515 Acc: 0.3056 \n",
            "Epoch 41/100\n",
            "----------\n",
            "Loss: 1.6146 Acc: 0.3310 \n",
            "Epoch 42/100\n",
            "----------\n",
            "Loss: 1.5751 Acc: 0.3542 \n",
            "Epoch 43/100\n",
            "----------\n",
            "Loss: 1.5305 Acc: 0.3750 \n",
            "Epoch 44/100\n",
            "----------\n",
            "Loss: 1.4809 Acc: 0.3924 \n",
            "Epoch 45/100\n",
            "----------\n",
            "Loss: 1.4037 Acc: 0.4468 \n",
            "Epoch 46/100\n",
            "----------\n",
            "Loss: 1.3336 Acc: 0.4514 \n",
            "Epoch 47/100\n",
            "----------\n",
            "Loss: 1.3013 Acc: 0.4525 \n",
            "Epoch 48/100\n",
            "----------\n",
            "Loss: 1.2867 Acc: 0.4595 \n",
            "Epoch 49/100\n",
            "----------\n",
            "Loss: 1.2357 Acc: 0.4688 \n",
            "Epoch 50/100\n",
            "----------\n",
            "Loss: 1.1727 Acc: 0.5104 \n",
            "Epoch 51/100\n",
            "----------\n",
            "Loss: 1.1515 Acc: 0.5185 \n",
            "Epoch 52/100\n",
            "----------\n",
            "Loss: 1.0910 Acc: 0.5532 \n",
            "Epoch 53/100\n",
            "----------\n",
            "Loss: 1.0361 Acc: 0.5775 \n",
            "Epoch 54/100\n",
            "----------\n",
            "Loss: 1.0098 Acc: 0.5845 \n",
            "Epoch 55/100\n",
            "----------\n",
            "Loss: 0.9779 Acc: 0.5961 \n",
            "Epoch 56/100\n",
            "----------\n",
            "Loss: 0.9190 Acc: 0.6215 \n",
            "Epoch 57/100\n",
            "----------\n",
            "Loss: 0.9238 Acc: 0.6111 \n",
            "Epoch 58/100\n",
            "----------\n",
            "Loss: 0.9195 Acc: 0.6088 \n",
            "Epoch 59/100\n",
            "----------\n",
            "Loss: 0.8531 Acc: 0.6458 \n",
            "Epoch 60/100\n",
            "----------\n",
            "Loss: 0.7864 Acc: 0.6806 \n",
            "Epoch 61/100\n",
            "----------\n",
            "Loss: 0.7934 Acc: 0.6748 \n",
            "Epoch 62/100\n",
            "----------\n",
            "Loss: 0.7389 Acc: 0.7049 \n",
            "Epoch 63/100\n",
            "----------\n",
            "Loss: 0.7235 Acc: 0.7118 \n",
            "Epoch 64/100\n",
            "----------\n",
            "Loss: 0.6928 Acc: 0.7315 \n",
            "Epoch 65/100\n",
            "----------\n",
            "Loss: 0.6688 Acc: 0.7465 \n",
            "Epoch 66/100\n",
            "----------\n",
            "Loss: 0.6465 Acc: 0.7523 \n",
            "Epoch 67/100\n",
            "----------\n",
            "Loss: 0.6200 Acc: 0.7639 \n",
            "Epoch 68/100\n",
            "----------\n",
            "Loss: 0.5907 Acc: 0.7789 \n",
            "Epoch 69/100\n",
            "----------\n",
            "Loss: 0.5654 Acc: 0.7963 \n",
            "Epoch 70/100\n",
            "----------\n",
            "Loss: 0.5372 Acc: 0.8032 \n",
            "Epoch 71/100\n",
            "----------\n",
            "Loss: 0.5115 Acc: 0.8171 \n",
            "Epoch 72/100\n",
            "----------\n",
            "Loss: 0.4895 Acc: 0.8241 \n",
            "Epoch 73/100\n",
            "----------\n",
            "Loss: 0.4691 Acc: 0.8322 \n",
            "Epoch 74/100\n",
            "----------\n",
            "Loss: 0.4470 Acc: 0.8414 \n",
            "Epoch 75/100\n",
            "----------\n",
            "Loss: 0.4338 Acc: 0.8472 \n",
            "Epoch 76/100\n",
            "----------\n",
            "Loss: 0.4106 Acc: 0.8519 \n",
            "Epoch 77/100\n",
            "----------\n",
            "Loss: 0.3974 Acc: 0.8530 \n",
            "Epoch 78/100\n",
            "----------\n",
            "Loss: 0.3760 Acc: 0.8646 \n",
            "Epoch 79/100\n",
            "----------\n",
            "Loss: 0.3628 Acc: 0.8646 \n",
            "Epoch 80/100\n",
            "----------\n",
            "Loss: 0.3415 Acc: 0.8762 \n",
            "Epoch 81/100\n",
            "----------\n",
            "Loss: 0.3275 Acc: 0.8877 \n",
            "Epoch 82/100\n",
            "----------\n",
            "Loss: 0.3128 Acc: 0.8924 \n",
            "Epoch 83/100\n",
            "----------\n",
            "Loss: 0.3011 Acc: 0.8981 \n",
            "Epoch 84/100\n",
            "----------\n",
            "Loss: 0.2850 Acc: 0.9016 \n",
            "Epoch 85/100\n",
            "----------\n",
            "Loss: 0.2788 Acc: 0.8970 \n",
            "Epoch 86/100\n",
            "----------\n",
            "Loss: 0.2653 Acc: 0.9051 \n",
            "Epoch 87/100\n",
            "----------\n",
            "Loss: 0.2584 Acc: 0.9039 \n",
            "Epoch 88/100\n",
            "----------\n",
            "Loss: 0.2457 Acc: 0.9144 \n",
            "Epoch 89/100\n",
            "----------\n",
            "Loss: 0.2369 Acc: 0.9178 \n",
            "Epoch 90/100\n",
            "----------\n",
            "Loss: 0.2300 Acc: 0.9190 \n",
            "Epoch 91/100\n",
            "----------\n",
            "Loss: 0.2327 Acc: 0.9190 \n",
            "Epoch 92/100\n",
            "----------\n",
            "Loss: 0.2321 Acc: 0.9097 \n",
            "Epoch 93/100\n",
            "----------\n",
            "Loss: 0.2225 Acc: 0.9190 \n",
            "Epoch 94/100\n",
            "----------\n",
            "Loss: 0.2188 Acc: 0.9236 \n",
            "Epoch 95/100\n",
            "----------\n",
            "Loss: 0.2101 Acc: 0.9282 \n",
            "Epoch 96/100\n",
            "----------\n",
            "Loss: 0.1979 Acc: 0.9317 \n",
            "Epoch 97/100\n",
            "----------\n",
            "Loss: 0.1885 Acc: 0.9340 \n",
            "Epoch 98/100\n",
            "----------\n",
            "Loss: 0.1750 Acc: 0.9363 \n",
            "Epoch 99/100\n",
            "----------\n",
            "Loss: 0.1752 Acc: 0.9444 \n",
            "Epoch 100/100\n",
            "----------\n",
            "Loss: 0.1796 Acc: 0.9444 \n"
          ]
        }
      ]
    }
  ]
}