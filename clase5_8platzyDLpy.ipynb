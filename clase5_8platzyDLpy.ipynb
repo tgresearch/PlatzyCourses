{
  "nbformat": 4,
  "nbformat_minor": 0,
  "metadata": {
    "colab": {
      "name": "clase5-8platzyDLpy.ipynb",
      "provenance": [],
      "authorship_tag": "ABX9TyM4+WthXszx4JxVHVNYZrKw",
      "include_colab_link": true
    },
    "kernelspec": {
      "name": "python3",
      "display_name": "Python 3"
    },
    "language_info": {
      "name": "python"
    },
    "accelerator": "GPU",
    "widgets": {
      "application/vnd.jupyter.widget-state+json": {
        "434668bf4f5842108ff554619c5d63b6": {
          "model_module": "@jupyter-widgets/controls",
          "model_name": "HBoxModel",
          "model_module_version": "1.5.0",
          "state": {
            "_view_name": "HBoxView",
            "_dom_classes": [],
            "_model_name": "HBoxModel",
            "_view_module": "@jupyter-widgets/controls",
            "_model_module_version": "1.5.0",
            "_view_count": null,
            "_view_module_version": "1.5.0",
            "box_style": "",
            "layout": "IPY_MODEL_418ea749190c4dd89cf2c8515fbe23f0",
            "_model_module": "@jupyter-widgets/controls",
            "children": [
              "IPY_MODEL_4211da71449147ceace2b342d0627ef8",
              "IPY_MODEL_320287f4c5e6484aae93f8094c822e30",
              "IPY_MODEL_9d7b1722b8984fd586ee414b4e8037ad"
            ]
          }
        },
        "418ea749190c4dd89cf2c8515fbe23f0": {
          "model_module": "@jupyter-widgets/base",
          "model_name": "LayoutModel",
          "model_module_version": "1.2.0",
          "state": {
            "_view_name": "LayoutView",
            "grid_template_rows": null,
            "right": null,
            "justify_content": null,
            "_view_module": "@jupyter-widgets/base",
            "overflow": null,
            "_model_module_version": "1.2.0",
            "_view_count": null,
            "flex_flow": null,
            "width": null,
            "min_width": null,
            "border": null,
            "align_items": null,
            "bottom": null,
            "_model_module": "@jupyter-widgets/base",
            "top": null,
            "grid_column": null,
            "overflow_y": null,
            "overflow_x": null,
            "grid_auto_flow": null,
            "grid_area": null,
            "grid_template_columns": null,
            "flex": null,
            "_model_name": "LayoutModel",
            "justify_items": null,
            "grid_row": null,
            "max_height": null,
            "align_content": null,
            "visibility": null,
            "align_self": null,
            "height": null,
            "min_height": null,
            "padding": null,
            "grid_auto_rows": null,
            "grid_gap": null,
            "max_width": null,
            "order": null,
            "_view_module_version": "1.2.0",
            "grid_template_areas": null,
            "object_position": null,
            "object_fit": null,
            "grid_auto_columns": null,
            "margin": null,
            "display": null,
            "left": null
          }
        },
        "4211da71449147ceace2b342d0627ef8": {
          "model_module": "@jupyter-widgets/controls",
          "model_name": "HTMLModel",
          "model_module_version": "1.5.0",
          "state": {
            "_view_name": "HTMLView",
            "style": "IPY_MODEL_af0b5ef296a44994bc5170b05743404b",
            "_dom_classes": [],
            "description": "",
            "_model_name": "HTMLModel",
            "placeholder": "​",
            "_view_module": "@jupyter-widgets/controls",
            "_model_module_version": "1.5.0",
            "value": "",
            "_view_count": null,
            "_view_module_version": "1.5.0",
            "description_tooltip": null,
            "_model_module": "@jupyter-widgets/controls",
            "layout": "IPY_MODEL_b746acfddf1644c6ae7eb4b55ca47bd7"
          }
        },
        "320287f4c5e6484aae93f8094c822e30": {
          "model_module": "@jupyter-widgets/controls",
          "model_name": "FloatProgressModel",
          "model_module_version": "1.5.0",
          "state": {
            "_view_name": "ProgressView",
            "style": "IPY_MODEL_fe857afac60a4b9abbf219ad2fd9342e",
            "_dom_classes": [],
            "description": "",
            "_model_name": "FloatProgressModel",
            "bar_style": "success",
            "max": 170498071,
            "_view_module": "@jupyter-widgets/controls",
            "_model_module_version": "1.5.0",
            "value": 170498071,
            "_view_count": null,
            "_view_module_version": "1.5.0",
            "orientation": "horizontal",
            "min": 0,
            "description_tooltip": null,
            "_model_module": "@jupyter-widgets/controls",
            "layout": "IPY_MODEL_eaa3fd0866834f4e8c7d09d3483eab8f"
          }
        },
        "9d7b1722b8984fd586ee414b4e8037ad": {
          "model_module": "@jupyter-widgets/controls",
          "model_name": "HTMLModel",
          "model_module_version": "1.5.0",
          "state": {
            "_view_name": "HTMLView",
            "style": "IPY_MODEL_f132b389de614346bd97d18e4a5ef450",
            "_dom_classes": [],
            "description": "",
            "_model_name": "HTMLModel",
            "placeholder": "​",
            "_view_module": "@jupyter-widgets/controls",
            "_model_module_version": "1.5.0",
            "value": " 170499072/? [00:03&lt;00:00, 54681043.03it/s]",
            "_view_count": null,
            "_view_module_version": "1.5.0",
            "description_tooltip": null,
            "_model_module": "@jupyter-widgets/controls",
            "layout": "IPY_MODEL_3d52c9cea69841e89406da90a51dcf64"
          }
        },
        "af0b5ef296a44994bc5170b05743404b": {
          "model_module": "@jupyter-widgets/controls",
          "model_name": "DescriptionStyleModel",
          "model_module_version": "1.5.0",
          "state": {
            "_view_name": "StyleView",
            "_model_name": "DescriptionStyleModel",
            "description_width": "",
            "_view_module": "@jupyter-widgets/base",
            "_model_module_version": "1.5.0",
            "_view_count": null,
            "_view_module_version": "1.2.0",
            "_model_module": "@jupyter-widgets/controls"
          }
        },
        "b746acfddf1644c6ae7eb4b55ca47bd7": {
          "model_module": "@jupyter-widgets/base",
          "model_name": "LayoutModel",
          "model_module_version": "1.2.0",
          "state": {
            "_view_name": "LayoutView",
            "grid_template_rows": null,
            "right": null,
            "justify_content": null,
            "_view_module": "@jupyter-widgets/base",
            "overflow": null,
            "_model_module_version": "1.2.0",
            "_view_count": null,
            "flex_flow": null,
            "width": null,
            "min_width": null,
            "border": null,
            "align_items": null,
            "bottom": null,
            "_model_module": "@jupyter-widgets/base",
            "top": null,
            "grid_column": null,
            "overflow_y": null,
            "overflow_x": null,
            "grid_auto_flow": null,
            "grid_area": null,
            "grid_template_columns": null,
            "flex": null,
            "_model_name": "LayoutModel",
            "justify_items": null,
            "grid_row": null,
            "max_height": null,
            "align_content": null,
            "visibility": null,
            "align_self": null,
            "height": null,
            "min_height": null,
            "padding": null,
            "grid_auto_rows": null,
            "grid_gap": null,
            "max_width": null,
            "order": null,
            "_view_module_version": "1.2.0",
            "grid_template_areas": null,
            "object_position": null,
            "object_fit": null,
            "grid_auto_columns": null,
            "margin": null,
            "display": null,
            "left": null
          }
        },
        "fe857afac60a4b9abbf219ad2fd9342e": {
          "model_module": "@jupyter-widgets/controls",
          "model_name": "ProgressStyleModel",
          "model_module_version": "1.5.0",
          "state": {
            "_view_name": "StyleView",
            "_model_name": "ProgressStyleModel",
            "description_width": "",
            "_view_module": "@jupyter-widgets/base",
            "_model_module_version": "1.5.0",
            "_view_count": null,
            "_view_module_version": "1.2.0",
            "bar_color": null,
            "_model_module": "@jupyter-widgets/controls"
          }
        },
        "eaa3fd0866834f4e8c7d09d3483eab8f": {
          "model_module": "@jupyter-widgets/base",
          "model_name": "LayoutModel",
          "model_module_version": "1.2.0",
          "state": {
            "_view_name": "LayoutView",
            "grid_template_rows": null,
            "right": null,
            "justify_content": null,
            "_view_module": "@jupyter-widgets/base",
            "overflow": null,
            "_model_module_version": "1.2.0",
            "_view_count": null,
            "flex_flow": null,
            "width": null,
            "min_width": null,
            "border": null,
            "align_items": null,
            "bottom": null,
            "_model_module": "@jupyter-widgets/base",
            "top": null,
            "grid_column": null,
            "overflow_y": null,
            "overflow_x": null,
            "grid_auto_flow": null,
            "grid_area": null,
            "grid_template_columns": null,
            "flex": null,
            "_model_name": "LayoutModel",
            "justify_items": null,
            "grid_row": null,
            "max_height": null,
            "align_content": null,
            "visibility": null,
            "align_self": null,
            "height": null,
            "min_height": null,
            "padding": null,
            "grid_auto_rows": null,
            "grid_gap": null,
            "max_width": null,
            "order": null,
            "_view_module_version": "1.2.0",
            "grid_template_areas": null,
            "object_position": null,
            "object_fit": null,
            "grid_auto_columns": null,
            "margin": null,
            "display": null,
            "left": null
          }
        },
        "f132b389de614346bd97d18e4a5ef450": {
          "model_module": "@jupyter-widgets/controls",
          "model_name": "DescriptionStyleModel",
          "model_module_version": "1.5.0",
          "state": {
            "_view_name": "StyleView",
            "_model_name": "DescriptionStyleModel",
            "description_width": "",
            "_view_module": "@jupyter-widgets/base",
            "_model_module_version": "1.5.0",
            "_view_count": null,
            "_view_module_version": "1.2.0",
            "_model_module": "@jupyter-widgets/controls"
          }
        },
        "3d52c9cea69841e89406da90a51dcf64": {
          "model_module": "@jupyter-widgets/base",
          "model_name": "LayoutModel",
          "model_module_version": "1.2.0",
          "state": {
            "_view_name": "LayoutView",
            "grid_template_rows": null,
            "right": null,
            "justify_content": null,
            "_view_module": "@jupyter-widgets/base",
            "overflow": null,
            "_model_module_version": "1.2.0",
            "_view_count": null,
            "flex_flow": null,
            "width": null,
            "min_width": null,
            "border": null,
            "align_items": null,
            "bottom": null,
            "_model_module": "@jupyter-widgets/base",
            "top": null,
            "grid_column": null,
            "overflow_y": null,
            "overflow_x": null,
            "grid_auto_flow": null,
            "grid_area": null,
            "grid_template_columns": null,
            "flex": null,
            "_model_name": "LayoutModel",
            "justify_items": null,
            "grid_row": null,
            "max_height": null,
            "align_content": null,
            "visibility": null,
            "align_self": null,
            "height": null,
            "min_height": null,
            "padding": null,
            "grid_auto_rows": null,
            "grid_gap": null,
            "max_width": null,
            "order": null,
            "_view_module_version": "1.2.0",
            "grid_template_areas": null,
            "object_position": null,
            "object_fit": null,
            "grid_auto_columns": null,
            "margin": null,
            "display": null,
            "left": null
          }
        }
      }
    }
  },
  "cells": [
    {
      "cell_type": "markdown",
      "metadata": {
        "id": "view-in-github",
        "colab_type": "text"
      },
      "source": [
        "<a href=\"https://colab.research.google.com/github/tgresearch/PlatzyCourses/blob/main/clase5_8platzyDLpy.ipynb\" target=\"_parent\"><img src=\"https://colab.research.google.com/assets/colab-badge.svg\" alt=\"Open In Colab\"/></a>"
      ]
    },
    {
      "cell_type": "code",
      "metadata": {
        "colab": {
          "base_uri": "https://localhost:8080/"
        },
        "id": "tcZXzwVtBD00",
        "outputId": "8c18df80-7773-4efb-9feb-b8206f3b6f09"
      },
      "source": [
        "from google.colab import drive\n",
        "drive.mount('/gdrive')"
      ],
      "execution_count": null,
      "outputs": [
        {
          "output_type": "stream",
          "name": "stdout",
          "text": [
            "Mounted at /gdrive\n"
          ]
        }
      ]
    },
    {
      "cell_type": "markdown",
      "metadata": {
        "id": "Eq83ao9XJWLY"
      },
      "source": [
        "##CLASE # 5"
      ]
    },
    {
      "cell_type": "code",
      "metadata": {
        "colab": {
          "base_uri": "https://localhost:8080/"
        },
        "id": "LgTKU2pBHsxq",
        "outputId": "1462db91-429b-48d6-bb7f-e10644bb43a7"
      },
      "source": [
        "%cd '/gdrive/My Drive'"
      ],
      "execution_count": null,
      "outputs": [
        {
          "output_type": "stream",
          "name": "stdout",
          "text": [
            "/gdrive/My Drive\n"
          ]
        }
      ]
    },
    {
      "cell_type": "code",
      "metadata": {
        "colab": {
          "base_uri": "https://localhost:8080/"
        },
        "id": "CBhiPbyyHs0D",
        "outputId": "305f00bd-89c3-47ba-ec11-223740f3dcde"
      },
      "source": [
        "!git clone https://github.com/JuanPabloMF/dl-pytorch"
      ],
      "execution_count": null,
      "outputs": [
        {
          "output_type": "stream",
          "name": "stdout",
          "text": [
            "Cloning into 'dl-pytorch'...\n",
            "remote: Enumerating objects: 36, done.\u001b[K\n",
            "remote: Counting objects: 100% (36/36), done.\u001b[K\n",
            "remote: Compressing objects: 100% (26/26), done.\u001b[K\n",
            "remote: Total 36 (delta 18), reused 27 (delta 9), pack-reused 0\u001b[K\n",
            "Unpacking objects: 100% (36/36), done.\n"
          ]
        }
      ]
    },
    {
      "cell_type": "code",
      "metadata": {
        "colab": {
          "base_uri": "https://localhost:8080/"
        },
        "id": "xIvj-vXwHs2o",
        "outputId": "1beeeea6-043d-4535-cdd3-550883b15677"
      },
      "source": [
        "%cd dl-pytorch!     "
      ],
      "execution_count": null,
      "outputs": [
        {
          "output_type": "stream",
          "name": "stdout",
          "text": [
            "[Errno 2] No such file or directory: 'dl-pytorch!ls'\n",
            "/gdrive/My Drive/dl-pytorch\n"
          ]
        }
      ]
    },
    {
      "cell_type": "code",
      "metadata": {
        "colab": {
          "base_uri": "https://localhost:8080/"
        },
        "id": "gzkGvT46Hs5J",
        "outputId": "edc1bad4-9852-4a88-d7e3-780c9ed1032a"
      },
      "source": [
        "!ls"
      ],
      "execution_count": null,
      "outputs": [
        {
          "output_type": "stream",
          "name": "stdout",
          "text": [
            "datasets  optimizers_viz.py  plot_helpers.py  utils.py\n"
          ]
        }
      ]
    },
    {
      "cell_type": "code",
      "metadata": {
        "colab": {
          "base_uri": "https://localhost:8080/"
        },
        "id": "RydFszblHs7a",
        "outputId": "522a856b-6c43-4ce5-8425-a1821347da0f"
      },
      "source": [
        "%cd datasets"
      ],
      "execution_count": null,
      "outputs": [
        {
          "output_type": "stream",
          "name": "stdout",
          "text": [
            "/gdrive/My Drive/dl-pytorch/datasets\n"
          ]
        }
      ]
    },
    {
      "cell_type": "code",
      "metadata": {
        "colab": {
          "base_uri": "https://localhost:8080/"
        },
        "id": "qfjf_6CgHtM-",
        "outputId": "38aef78b-8372-462f-9716-49c0fe2a4856"
      },
      "source": [
        "!ls"
      ],
      "execution_count": null,
      "outputs": [
        {
          "output_type": "stream",
          "name": "stdout",
          "text": [
            "64x64_SIGNS.zip\n"
          ]
        }
      ]
    },
    {
      "cell_type": "code",
      "metadata": {
        "colab": {
          "base_uri": "https://localhost:8080/"
        },
        "id": "nAzn3F4EIWWl",
        "outputId": "d272e658-8cf6-49ba-a522-0afbce3f25bf"
      },
      "source": [
        "!unzip 64x64_SIGNS.zip"
      ],
      "execution_count": null,
      "outputs": [
        {
          "output_type": "stream",
          "name": "stdout",
          "text": [
            "Archive:  64x64_SIGNS.zip\n",
            "   creating: 64x64_SIGNS/\n",
            "  inflating: 64x64_SIGNS/.DS_Store   \n",
            "   creating: 64x64_SIGNS/train_signs/\n",
            "  inflating: 64x64_SIGNS/train_signs/5_IMG_5556.jpg  \n",
            "  inflating: 64x64_SIGNS/train_signs/3_IMG_6138.jpg  \n",
            "  inflating: 64x64_SIGNS/train_signs/3_IMG_6104.jpg  \n",
            "  inflating: 64x64_SIGNS/train_signs/5_IMG_5595.jpg  \n",
            "  inflating: 64x64_SIGNS/train_signs/5_IMG_5581.jpg  \n",
            "  inflating: 64x64_SIGNS/train_signs/1_IMG_4495.jpg  \n",
            "  inflating: 64x64_SIGNS/train_signs/4_IMG_5357.jpg  \n",
            "  inflating: 64x64_SIGNS/train_signs/2_IMG_4648.jpg  \n",
            "  inflating: 64x64_SIGNS/train_signs/4_IMG_5343.jpg  \n",
            "  inflating: 64x64_SIGNS/train_signs/2_IMG_4660.jpg  \n",
            "  inflating: 64x64_SIGNS/train_signs/4_IMG_5419.jpg  \n",
            "  inflating: 64x64_SIGNS/train_signs/1_IMG_4456.jpg  \n",
            "  inflating: 64x64_SIGNS/train_signs/4_IMG_5394.jpg  \n",
            "  inflating: 64x64_SIGNS/train_signs/1_IMG_4442.jpg  \n",
            "  inflating: 64x64_SIGNS/train_signs/5_IMG_5620.jpg  \n",
            "  inflating: 64x64_SIGNS/train_signs/2_IMG_4728.jpg  \n",
            "  inflating: 64x64_SIGNS/train_signs/2_IMG_4700.jpg  \n",
            "  inflating: 64x64_SIGNS/train_signs/2_IMG_4714.jpg  \n",
            "  inflating: 64x64_SIGNS/train_signs/5_IMG_5608.jpg  \n",
            "  inflating: 64x64_SIGNS/train_signs/1_IMG_4522.jpg  \n",
            "  inflating: 64x64_SIGNS/train_signs/0_IMG_5940.jpg  \n",
            "  inflating: 64x64_SIGNS/train_signs/3_IMG_6058.jpg  \n",
            "  inflating: 64x64_SIGNS/train_signs/3_IMG_6070.jpg  \n",
            "  inflating: 64x64_SIGNS/train_signs/3_IMG_6064.jpg  \n",
            "  inflating: 64x64_SIGNS/train_signs/0_IMG_5968.jpg  \n",
            "  inflating: 64x64_SIGNS/train_signs/0_IMG_6252.jpg  \n",
            "  inflating: 64x64_SIGNS/train_signs/0_IMG_5983.jpg  \n",
            "  inflating: 64x64_SIGNS/train_signs/0_IMG_6246.jpg  \n",
            "  inflating: 64x64_SIGNS/train_signs/0_IMG_6247.jpg  \n",
            "  inflating: 64x64_SIGNS/train_signs/0_IMG_5982.jpg  \n",
            "  inflating: 64x64_SIGNS/train_signs/0_IMG_6253.jpg  \n",
            "  inflating: 64x64_SIGNS/train_signs/3_IMG_6071.jpg  \n",
            "  inflating: 64x64_SIGNS/train_signs/5_IMG_5437.jpg  \n",
            "  inflating: 64x64_SIGNS/train_signs/0_IMG_5941.jpg  \n",
            "  inflating: 64x64_SIGNS/train_signs/1_IMG_4537.jpg  \n",
            "  inflating: 64x64_SIGNS/train_signs/5_IMG_5609.jpg  \n",
            "  inflating: 64x64_SIGNS/train_signs/2_IMG_4715.jpg  \n",
            "  inflating: 64x64_SIGNS/train_signs/2_IMG_4701.jpg  \n",
            "  inflating: 64x64_SIGNS/train_signs/4_IMG_5236.jpg  \n",
            "  inflating: 64x64_SIGNS/train_signs/2_IMG_4729.jpg  \n",
            "  inflating: 64x64_SIGNS/train_signs/1_IMG_4443.jpg  \n",
            "  inflating: 64x64_SIGNS/train_signs/4_IMG_5418.jpg  \n",
            "  inflating: 64x64_SIGNS/train_signs/2_IMG_4675.jpg  \n",
            "  inflating: 64x64_SIGNS/train_signs/4_IMG_5342.jpg  \n",
            "  inflating: 64x64_SIGNS/train_signs/4_IMG_5424.jpg  \n",
            "  inflating: 64x64_SIGNS/train_signs/4_IMG_5430.jpg  \n",
            "  inflating: 64x64_SIGNS/train_signs/1_IMG_4494.jpg  \n",
            "  inflating: 64x64_SIGNS/train_signs/5_IMG_5580.jpg  \n",
            "  inflating: 64x64_SIGNS/train_signs/5_IMG_5594.jpg  \n",
            "  inflating: 64x64_SIGNS/train_signs/5_IMG_5543.jpg  \n",
            "  inflating: 64x64_SIGNS/train_signs/5_IMG_5557.jpg  \n",
            "  inflating: 64x64_SIGNS/train_signs/3_IMG_6139.jpg  \n",
            "  inflating: 64x64_SIGNS/train_signs/5_IMG_5541.jpg  \n",
            "  inflating: 64x64_SIGNS/train_signs/5_IMG_5555.jpg  \n",
            "  inflating: 64x64_SIGNS/train_signs/3_IMG_6113.jpg  \n",
            "  inflating: 64x64_SIGNS/train_signs/3_IMG_6107.jpg  \n",
            "  inflating: 64x64_SIGNS/train_signs/5_IMG_5582.jpg  \n",
            "  inflating: 64x64_SIGNS/train_signs/5_IMG_5596.jpg  \n",
            "  inflating: 64x64_SIGNS/train_signs/0_IMG_6237 (1).jpg  \n",
            "  inflating: 64x64_SIGNS/train_signs/0_IMG_6227 (1).jpg  \n",
            "  inflating: 64x64_SIGNS/train_signs/4_IMG_5426.jpg  \n",
            "  inflating: 64x64_SIGNS/train_signs/4_IMG_5354.jpg  \n",
            "  inflating: 64x64_SIGNS/train_signs/1_IMG_4441.jpg  \n",
            "  inflating: 64x64_SIGNS/train_signs/4_IMG_5383.jpg  \n",
            "  inflating: 64x64_SIGNS/train_signs/2_IMG_4688.jpg  \n",
            "  inflating: 64x64_SIGNS/train_signs/1_IMG_4455.jpg  \n",
            "  inflating: 64x64_SIGNS/train_signs/1_IMG_4469.jpg  \n",
            "  inflating: 64x64_SIGNS/train_signs/4_IMG_5234.jpg  \n",
            "  inflating: 64x64_SIGNS/train_signs/5_IMG_5623.jpg  \n",
            "  inflating: 64x64_SIGNS/train_signs/2_IMG_4703.jpg  \n",
            "  inflating: 64x64_SIGNS/train_signs/1_IMG_4535.jpg  \n",
            "  inflating: 64x64_SIGNS/train_signs/1_IMG_4521.jpg  \n",
            "  inflating: 64x64_SIGNS/train_signs/5_IMG_5435.jpg  \n",
            "  inflating: 64x64_SIGNS/train_signs/0_IMG_5957.jpg  \n",
            "  inflating: 64x64_SIGNS/train_signs/3_IMG_6067.jpg  \n",
            "  inflating: 64x64_SIGNS/train_signs/3_IMG_6073.jpg  \n",
            "  inflating: 64x64_SIGNS/train_signs/0_IMG_6245.jpg  \n",
            "  inflating: 64x64_SIGNS/train_signs/3_IMG_6098.jpg  \n",
            "  inflating: 64x64_SIGNS/train_signs/0_IMG_6251.jpg  \n",
            "  inflating: 64x64_SIGNS/train_signs/0_IMG_5980.jpg  \n",
            "  inflating: 64x64_SIGNS/train_signs/0_IMG_6279.jpg  \n",
            "  inflating: 64x64_SIGNS/train_signs/0_IMG_6244.jpg  \n",
            "  inflating: 64x64_SIGNS/train_signs/3_IMG_6072.jpg  \n",
            "  inflating: 64x64_SIGNS/train_signs/3_IMG_6066.jpg  \n",
            "  inflating: 64x64_SIGNS/train_signs/5_IMG_5434.jpg  \n",
            "  inflating: 64x64_SIGNS/train_signs/1_IMG_4508.jpg  \n",
            "  inflating: 64x64_SIGNS/train_signs/1_IMG_4520.jpg  \n",
            "  inflating: 64x64_SIGNS/train_signs/1_IMG_4534.jpg  \n",
            "  inflating: 64x64_SIGNS/train_signs/2_IMG_4702.jpg  \n",
            "  inflating: 64x64_SIGNS/train_signs/2_IMG_4716.jpg  \n",
            "  inflating: 64x64_SIGNS/train_signs/5_IMG_5622.jpg  \n",
            "  inflating: 64x64_SIGNS/train_signs/1_IMG_4468.jpg  \n",
            "  inflating: 64x64_SIGNS/train_signs/2_IMG_4689.jpg  \n",
            "  inflating: 64x64_SIGNS/train_signs/1_IMG_4454.jpg  \n",
            "  inflating: 64x64_SIGNS/train_signs/1_IMG_4440.jpg  \n",
            "  inflating: 64x64_SIGNS/train_signs/4_IMG_5382.jpg  \n",
            "  inflating: 64x64_SIGNS/train_signs/2_IMG_4676.jpg  \n",
            "  inflating: 64x64_SIGNS/train_signs/2_IMG_4662.jpg  \n",
            "  inflating: 64x64_SIGNS/train_signs/1_IMG_4497.jpg  \n",
            "  inflating: 64x64_SIGNS/train_signs/4_IMG_5427.jpg  \n",
            "  inflating: 64x64_SIGNS/train_signs/1_IMG_4483.jpg  \n",
            "  inflating: 64x64_SIGNS/train_signs/4_IMG_5341.jpg  \n",
            "  inflating: 64x64_SIGNS/train_signs/0_IMG_5958 (1).jpg  \n",
            "  inflating: 64x64_SIGNS/train_signs/5_IMG_5597.jpg  \n",
            "  inflating: 64x64_SIGNS/train_signs/5_IMG_5583.jpg  \n",
            "  inflating: 64x64_SIGNS/train_signs/5_IMG_5568.jpg  \n",
            "  inflating: 64x64_SIGNS/train_signs/3_IMG_6112.jpg  \n",
            "  inflating: 64x64_SIGNS/train_signs/5_IMG_5554.jpg  \n",
            "  inflating: 64x64_SIGNS/train_signs/5_IMG_5578.jpg  \n",
            "  inflating: 64x64_SIGNS/train_signs/3_IMG_6102.jpg  \n",
            "  inflating: 64x64_SIGNS/train_signs/5_IMG_5550.jpg  \n",
            "  inflating: 64x64_SIGNS/train_signs/5_IMG_5587.jpg  \n",
            "  inflating: 64x64_SIGNS/train_signs/5_IMG_5593.jpg  \n",
            "  inflating: 64x64_SIGNS/train_signs/4_IMG_5379.jpg  \n",
            "  inflating: 64x64_SIGNS/train_signs/2_IMG_4672.jpg  \n",
            "  inflating: 64x64_SIGNS/train_signs/4_IMG_5345.jpg  \n",
            "  inflating: 64x64_SIGNS/train_signs/1_IMG_4487.jpg  \n",
            "  inflating: 64x64_SIGNS/train_signs/4_IMG_5423.jpg  \n",
            "  inflating: 64x64_SIGNS/train_signs/1_IMG_4493.jpg  \n",
            "  inflating: 64x64_SIGNS/train_signs/4_IMG_5351.jpg  \n",
            "  inflating: 64x64_SIGNS/train_signs/0_IMG_6236 (1).jpg  \n",
            "  inflating: 64x64_SIGNS/train_signs/4_IMG_5386.jpg  \n",
            "  inflating: 64x64_SIGNS/train_signs/1_IMG_4444.jpg  \n",
            "  inflating: 64x64_SIGNS/train_signs/4_IMG_5392.jpg  \n",
            "  inflating: 64x64_SIGNS/train_signs/2_IMG_4712.jpg  \n",
            "  inflating: 64x64_SIGNS/train_signs/2_IMG_4706.jpg  \n",
            "  inflating: 64x64_SIGNS/train_signs/4_IMG_5231.jpg  \n",
            "  inflating: 64x64_SIGNS/train_signs/0_IMG_6254 (1).jpg  \n",
            "  inflating: 64x64_SIGNS/train_signs/4_IMG_5225.jpg  \n",
            "  inflating: 64x64_SIGNS/train_signs/5_IMG_5626.jpg  \n",
            "  inflating: 64x64_SIGNS/train_signs/1_IMG_4530.jpg  \n",
            "  inflating: 64x64_SIGNS/train_signs/3_IMG_6062.jpg  \n",
            "  inflating: 64x64_SIGNS/train_signs/3_IMG_6076.jpg  \n",
            "  inflating: 64x64_SIGNS/train_signs/0_IMG_5952.jpg  \n",
            "  inflating: 64x64_SIGNS/train_signs/0_IMG_5946.jpg  \n",
            "  inflating: 64x64_SIGNS/train_signs/0_IMG_6268.jpg  \n",
            "  inflating: 64x64_SIGNS/train_signs/0_IMG_5991.jpg  \n",
            "  inflating: 64x64_SIGNS/train_signs/0_IMG_5976 (1).jpg  \n",
            "  inflating: 64x64_SIGNS/train_signs/0_IMG_6254.jpg  \n",
            "  inflating: 64x64_SIGNS/train_signs/0_IMG_5985.jpg  \n",
            "  inflating: 64x64_SIGNS/train_signs/3_IMG_6089.jpg  \n",
            "  inflating: 64x64_SIGNS/train_signs/0_IMG_6255.jpg  \n",
            "  inflating: 64x64_SIGNS/train_signs/3_IMG_6088.jpg  \n",
            "  inflating: 64x64_SIGNS/train_signs/0_IMG_6241.jpg  \n",
            "  inflating: 64x64_SIGNS/train_signs/0_IMG_6269.jpg  \n",
            "  inflating: 64x64_SIGNS/train_signs/3_IMG_6077.jpg  \n",
            "  inflating: 64x64_SIGNS/train_signs/1_IMG_4525.jpg  \n",
            "  inflating: 64x64_SIGNS/train_signs/1_IMG_4531.jpg  \n",
            "  inflating: 64x64_SIGNS/train_signs/5_IMG_5627.jpg  \n",
            "  inflating: 64x64_SIGNS/train_signs/4_IMG_5230.jpg  \n",
            "  inflating: 64x64_SIGNS/train_signs/2_IMG_4707.jpg  \n",
            "  inflating: 64x64_SIGNS/train_signs/1_IMG_4451.jpg  \n",
            "  inflating: 64x64_SIGNS/train_signs/4_IMG_5393.jpg  \n",
            "  inflating: 64x64_SIGNS/train_signs/4_IMG_5387.jpg  \n",
            "  inflating: 64x64_SIGNS/train_signs/2_IMG_4698.jpg  \n",
            "  inflating: 64x64_SIGNS/train_signs/1_IMG_4445.jpg  \n",
            "  inflating: 64x64_SIGNS/train_signs/0_IMG_5959 (1).jpg  \n",
            "  inflating: 64x64_SIGNS/train_signs/1_IMG_4479.jpg  \n",
            "  inflating: 64x64_SIGNS/train_signs/1_IMG_4492.jpg  \n",
            "  inflating: 64x64_SIGNS/train_signs/4_IMG_5344.jpg  \n",
            "  inflating: 64x64_SIGNS/train_signs/4_IMG_5422.jpg  \n",
            "  inflating: 64x64_SIGNS/train_signs/1_IMG_4486.jpg  \n",
            "  inflating: 64x64_SIGNS/train_signs/2_IMG_4667.jpg  \n",
            "  inflating: 64x64_SIGNS/train_signs/4_IMG_5378.jpg  \n",
            "  inflating: 64x64_SIGNS/train_signs/5_IMG_5592.jpg  \n",
            "  inflating: 64x64_SIGNS/train_signs/5_IMG_5551.jpg  \n",
            "  inflating: 64x64_SIGNS/train_signs/3_IMG_6103.jpg  \n",
            "  inflating: 64x64_SIGNS/train_signs/5_IMG_5579.jpg  \n",
            "  inflating: 64x64_SIGNS/train_signs/3_IMG_6101.jpg  \n",
            "  inflating: 64x64_SIGNS/train_signs/3_IMG_6115.jpg  \n",
            "  inflating: 64x64_SIGNS/train_signs/5_IMG_5553.jpg  \n",
            "  inflating: 64x64_SIGNS/train_signs/5_IMG_5547.jpg  \n",
            "  inflating: 64x64_SIGNS/train_signs/3_IMG_6129.jpg  \n",
            "  inflating: 64x64_SIGNS/train_signs/5_IMG_5584.jpg  \n",
            "  inflating: 64x64_SIGNS/train_signs/2_IMG_4671.jpg  \n",
            "  inflating: 64x64_SIGNS/train_signs/4_IMG_5408.jpg  \n",
            "  inflating: 64x64_SIGNS/train_signs/2_IMG_4665.jpg  \n",
            "  inflating: 64x64_SIGNS/train_signs/1_IMG_4490.jpg  \n",
            "  inflating: 64x64_SIGNS/train_signs/1_IMG_4484.jpg  \n",
            "  inflating: 64x64_SIGNS/train_signs/4_IMG_5346.jpg  \n",
            "  inflating: 64x64_SIGNS/train_signs/2_IMG_4659.jpg  \n",
            "  inflating: 64x64_SIGNS/train_signs/4_IMG_5391.jpg  \n",
            "  inflating: 64x64_SIGNS/train_signs/1_IMG_4453.jpg  \n",
            "  inflating: 64x64_SIGNS/train_signs/1_IMG_4447.jpg  \n",
            "  inflating: 64x64_SIGNS/train_signs/4_IMG_5385.jpg  \n",
            "  inflating: 64x64_SIGNS/train_signs/5_IMG_5619.jpg  \n",
            "  inflating: 64x64_SIGNS/train_signs/2_IMG_4705.jpg  \n",
            "  inflating: 64x64_SIGNS/train_signs/2_IMG_4739.jpg  \n",
            "  inflating: 64x64_SIGNS/train_signs/5_IMG_5631.jpg  \n",
            "  inflating: 64x64_SIGNS/train_signs/4_IMG_5232.jpg  \n",
            "  inflating: 64x64_SIGNS/train_signs/1_IMG_4527.jpg  \n",
            "  inflating: 64x64_SIGNS/train_signs/1_IMG_4533.jpg  \n",
            "  inflating: 64x64_SIGNS/train_signs/3_IMG_6075.jpg  \n",
            "  inflating: 64x64_SIGNS/train_signs/0_IMG_5979.jpg  \n",
            "  inflating: 64x64_SIGNS/train_signs/3_IMG_6061.jpg  \n",
            "  inflating: 64x64_SIGNS/train_signs/3_IMG_6049.jpg  \n",
            "  inflating: 64x64_SIGNS/train_signs/0_IMG_5951.jpg  \n",
            "  inflating: 64x64_SIGNS/train_signs/0_IMG_6257.jpg  \n",
            "  inflating: 64x64_SIGNS/train_signs/0_IMG_5986.jpg  \n",
            "  inflating: 64x64_SIGNS/train_signs/0_IMG_6243.jpg  \n",
            "  inflating: 64x64_SIGNS/train_signs/0_IMG_6256.jpg  \n",
            "  inflating: 64x64_SIGNS/train_signs/0_IMG_5950.jpg  \n",
            "  inflating: 64x64_SIGNS/train_signs/5_IMG_5432.jpg  \n",
            "  inflating: 64x64_SIGNS/train_signs/0_IMG_5944.jpg  \n",
            "  inflating: 64x64_SIGNS/train_signs/4_IMG_5233.jpg  \n",
            "  inflating: 64x64_SIGNS/train_signs/5_IMG_5630.jpg  \n",
            "  inflating: 64x64_SIGNS/train_signs/5_IMG_5624.jpg  \n",
            "  inflating: 64x64_SIGNS/train_signs/4_IMG_5227.jpg  \n",
            "  inflating: 64x64_SIGNS/train_signs/2_IMG_4738.jpg  \n",
            "  inflating: 64x64_SIGNS/train_signs/5_IMG_5618.jpg  \n",
            "  inflating: 64x64_SIGNS/train_signs/1_IMG_4446.jpg  \n",
            "  inflating: 64x64_SIGNS/train_signs/4_IMG_5384.jpg  \n",
            "  inflating: 64x64_SIGNS/train_signs/4_IMG_5390.jpg  \n",
            "  inflating: 64x64_SIGNS/train_signs/1_IMG_4452.jpg  \n",
            "  inflating: 64x64_SIGNS/train_signs/4_IMG_5421.jpg  \n",
            "  inflating: 64x64_SIGNS/train_signs/1_IMG_4485.jpg  \n",
            "  inflating: 64x64_SIGNS/train_signs/4_IMG_5347.jpg  \n",
            "  inflating: 64x64_SIGNS/train_signs/2_IMG_4664.jpg  \n",
            "  inflating: 64x64_SIGNS/train_signs/2_IMG_4670.jpg  \n",
            "  inflating: 64x64_SIGNS/train_signs/4_IMG_5409.jpg  \n",
            "  inflating: 64x64_SIGNS/train_signs/5_IMG_5585.jpg  \n",
            "  inflating: 64x64_SIGNS/train_signs/5_IMG_5591.jpg  \n",
            "  inflating: 64x64_SIGNS/train_signs/3_IMG_6128.jpg  \n",
            "  inflating: 64x64_SIGNS/train_signs/5_IMG_5552.jpg  \n",
            "  inflating: 64x64_SIGNS/train_signs/3_IMG_6114.jpg  \n",
            "  inflating: 64x64_SIGNS/train_signs/5_IMG_5535.jpg  \n",
            "  inflating: 64x64_SIGNS/train_signs/5_IMG_5521.jpg  \n",
            "  inflating: 64x64_SIGNS/train_signs/3_IMG_6173.jpg  \n",
            "  inflating: 64x64_SIGNS/train_signs/0_IMG_5894.jpg  \n",
            "  inflating: 64x64_SIGNS/train_signs/0_IMG_6246 (1).jpg  \n",
            "  inflating: 64x64_SIGNS/train_signs/4_IMG_5334.jpg  \n",
            "  inflating: 64x64_SIGNS/train_signs/0_IMG_5964 (1).jpg  \n",
            "  inflating: 64x64_SIGNS/train_signs/4_IMG_5320.jpg  \n",
            "  inflating: 64x64_SIGNS/train_signs/0_IMG_5974 (1).jpg  \n",
            "  inflating: 64x64_SIGNS/train_signs/4_IMG_5308.jpg  \n",
            "  inflating: 64x64_SIGNS/train_signs/2_IMG_4603.jpg  \n",
            "  inflating: 64x64_SIGNS/train_signs/1_IMG_4435.jpg  \n",
            "  inflating: 64x64_SIGNS/train_signs/1_IMG_4421.jpg  \n",
            "  inflating: 64x64_SIGNS/train_signs/1_IMG_4409.jpg  \n",
            "  inflating: 64x64_SIGNS/train_signs/4_IMG_5240.jpg  \n",
            "  inflating: 64x64_SIGNS/train_signs/1_IMG_4582.jpg  \n",
            "  inflating: 64x64_SIGNS/train_signs/4_IMG_5254.jpg  \n",
            "  inflating: 64x64_SIGNS/train_signs/2_IMG_4763.jpg  \n",
            "  inflating: 64x64_SIGNS/train_signs/3_IMG_6205.jpg  \n",
            "  inflating: 64x64_SIGNS/train_signs/4_IMG_5268.jpg  \n",
            "  inflating: 64x64_SIGNS/train_signs/4_IMG_5283.jpg  \n",
            "  inflating: 64x64_SIGNS/train_signs/1_IMG_4541.jpg  \n",
            "  inflating: 64x64_SIGNS/train_signs/4_IMG_5297.jpg  \n",
            "  inflating: 64x64_SIGNS/train_signs/2_IMG_4788.jpg  \n",
            "  inflating: 64x64_SIGNS/train_signs/1_IMG_4569.jpg  \n",
            "  inflating: 64x64_SIGNS/train_signs/0_IMG_5923.jpg  \n",
            "  inflating: 64x64_SIGNS/train_signs/0_IMG_5937.jpg  \n",
            "  inflating: 64x64_SIGNS/train_signs/3_IMG_6013.jpg  \n",
            "  inflating: 64x64_SIGNS/train_signs/5_IMG_5469.jpg  \n",
            "  inflating: 64x64_SIGNS/train_signs/5_IMG_5482.jpg  \n",
            "  inflating: 64x64_SIGNS/train_signs/5_IMG_5496.jpg  \n",
            "  inflating: 64x64_SIGNS/train_signs/5_IMG_5497.jpg  \n",
            "  inflating: 64x64_SIGNS/train_signs/5_IMG_5483.jpg  \n",
            "  inflating: 64x64_SIGNS/train_signs/5_IMG_5468.jpg  \n",
            "  inflating: 64x64_SIGNS/train_signs/3_IMG_6012.jpg  \n",
            "  inflating: 64x64_SIGNS/train_signs/0_IMG_5936.jpg  \n",
            "  inflating: 64x64_SIGNS/train_signs/5_IMG_5454.jpg  \n",
            "  inflating: 64x64_SIGNS/train_signs/0_IMG_5922.jpg  \n",
            "  inflating: 64x64_SIGNS/train_signs/1_IMG_4568.jpg  \n",
            "  inflating: 64x64_SIGNS/train_signs/0_IMG_6269 (1).jpg  \n",
            "  inflating: 64x64_SIGNS/train_signs/0_IMG_6279 (1).jpg  \n",
            "  inflating: 64x64_SIGNS/train_signs/1_IMG_4554.jpg  \n",
            "  inflating: 64x64_SIGNS/train_signs/2_IMG_4789.jpg  \n",
            "  inflating: 64x64_SIGNS/train_signs/4_IMG_5282.jpg  \n",
            "  inflating: 64x64_SIGNS/train_signs/1_IMG_4540.jpg  \n",
            "  inflating: 64x64_SIGNS/train_signs/3_IMG_6204.jpg  \n",
            "  inflating: 64x64_SIGNS/train_signs/4_IMG_5269.jpg  \n",
            "  inflating: 64x64_SIGNS/train_signs/2_IMG_4776.jpg  \n",
            "  inflating: 64x64_SIGNS/train_signs/3_IMG_6210.jpg  \n",
            "  inflating: 64x64_SIGNS/train_signs/4_IMG_5255.jpg  \n",
            "  inflating: 64x64_SIGNS/train_signs/4_IMG_5241.jpg  \n",
            "  inflating: 64x64_SIGNS/train_signs/1_IMG_4583.jpg  \n",
            "  inflating: 64x64_SIGNS/train_signs/1_IMG_4408.jpg  \n",
            "  inflating: 64x64_SIGNS/train_signs/1_IMG_4434.jpg  \n",
            "  inflating: 64x64_SIGNS/train_signs/2_IMG_4602.jpg  \n",
            "  inflating: 64x64_SIGNS/train_signs/1_IMG_4385.jpg  \n",
            "  inflating: 64x64_SIGNS/train_signs/4_IMG_5321.jpg  \n",
            "  inflating: 64x64_SIGNS/train_signs/1_IMG_4391.jpg  \n",
            "  inflating: 64x64_SIGNS/train_signs/4_IMG_5335.jpg  \n",
            "  inflating: 64x64_SIGNS/train_signs/3_IMG_6199.jpg  \n",
            "  inflating: 64x64_SIGNS/train_signs/5_IMG_5508.jpg  \n",
            "  inflating: 64x64_SIGNS/train_signs/5_IMG_5534.jpg  \n",
            "  inflating: 64x64_SIGNS/train_signs/5_IMG_5522.jpg  \n",
            "  inflating: 64x64_SIGNS/train_signs/5_IMG_5536.jpg  \n",
            "  inflating: 64x64_SIGNS/train_signs/3_IMG_6158.jpg  \n",
            "  inflating: 64x64_SIGNS/train_signs/3_IMG_6170.jpg  \n",
            "  inflating: 64x64_SIGNS/train_signs/3_IMG_6164.jpg  \n",
            "  inflating: 64x64_SIGNS/train_signs/0_IMG_5897.jpg  \n",
            "  inflating: 64x64_SIGNS/train_signs/4_IMG_5323.jpg  \n",
            "  inflating: 64x64_SIGNS/train_signs/1_IMG_4387.jpg  \n",
            "  inflating: 64x64_SIGNS/train_signs/1_IMG_4393.jpg  \n",
            "  inflating: 64x64_SIGNS/train_signs/2_IMG_4614.jpg  \n",
            "  inflating: 64x64_SIGNS/train_signs/1_IMG_4422.jpg  \n",
            "  inflating: 64x64_SIGNS/train_signs/2_IMG_4748.jpg  \n",
            "  inflating: 64x64_SIGNS/train_signs/4_IMG_5257.jpg  \n",
            "  inflating: 64x64_SIGNS/train_signs/4_IMG_5243.jpg  \n",
            "  inflating: 64x64_SIGNS/train_signs/2_IMG_4774.jpg  \n",
            "  inflating: 64x64_SIGNS/train_signs/3_IMG_6206.jpg  \n",
            "  inflating: 64x64_SIGNS/train_signs/2_IMG_4760.jpg  \n",
            "  inflating: 64x64_SIGNS/train_signs/1_IMG_4556.jpg  \n",
            "  inflating: 64x64_SIGNS/train_signs/4_IMG_5280.jpg  \n",
            "  inflating: 64x64_SIGNS/train_signs/5_IMG_5456.jpg  \n",
            "  inflating: 64x64_SIGNS/train_signs/0_IMG_5934.jpg  \n",
            "  inflating: 64x64_SIGNS/train_signs/2_IMG_4589.jpg  \n",
            "  inflating: 64x64_SIGNS/train_signs/0_IMG_6226.jpg  \n",
            "  inflating: 64x64_SIGNS/train_signs/5_IMG_5495.jpg  \n",
            "  inflating: 64x64_SIGNS/train_signs/5_IMG_5481.jpg  \n",
            "  inflating: 64x64_SIGNS/train_signs/5_IMG_5480.jpg  \n",
            "  inflating: 64x64_SIGNS/train_signs/5_IMG_5494.jpg  \n",
            "  inflating: 64x64_SIGNS/train_signs/2_IMG_4588.jpg  \n",
            "  inflating: 64x64_SIGNS/train_signs/3_IMG_6011.jpg  \n",
            "  inflating: 64x64_SIGNS/train_signs/3_IMG_6005.jpg  \n",
            "  inflating: 64x64_SIGNS/train_signs/0_IMG_5909.jpg  \n",
            "  inflating: 64x64_SIGNS/train_signs/0_IMG_5935.jpg  \n",
            "  inflating: 64x64_SIGNS/train_signs/0_IMG_5989 (1).jpg  \n",
            "  inflating: 64x64_SIGNS/train_signs/5_IMG_5457.jpg  \n",
            "  inflating: 64x64_SIGNS/train_signs/1_IMG_4543.jpg  \n",
            "  inflating: 64x64_SIGNS/train_signs/4_IMG_5281.jpg  \n",
            "  inflating: 64x64_SIGNS/train_signs/1_IMG_4557.jpg  \n",
            "  inflating: 64x64_SIGNS/train_signs/3_IMG_6213.jpg  \n",
            "  inflating: 64x64_SIGNS/train_signs/2_IMG_4775.jpg  \n",
            "  inflating: 64x64_SIGNS/train_signs/1_IMG_4379.jpg  \n",
            "  inflating: 64x64_SIGNS/train_signs/1_IMG_4437.jpg  \n",
            "  inflating: 64x64_SIGNS/train_signs/1_IMG_4423.jpg  \n",
            "  inflating: 64x64_SIGNS/train_signs/2_IMG_4601.jpg  \n",
            "  inflating: 64x64_SIGNS/train_signs/2_IMG_4629.jpg  \n",
            "  inflating: 64x64_SIGNS/train_signs/4_IMG_5336.jpg  \n",
            "  inflating: 64x64_SIGNS/train_signs/1_IMG_4386.jpg  \n",
            "  inflating: 64x64_SIGNS/train_signs/4_IMG_5322.jpg  \n",
            "  inflating: 64x64_SIGNS/train_signs/0_IMG_6270 (1).jpg  \n",
            "  inflating: 64x64_SIGNS/train_signs/0_IMG_5896.jpg  \n",
            "  inflating: 64x64_SIGNS/train_signs/5_IMG_5537.jpg  \n",
            "  inflating: 64x64_SIGNS/train_signs/5_IMG_5523.jpg  \n",
            "  inflating: 64x64_SIGNS/train_signs/3_IMG_6175.jpg  \n",
            "  inflating: 64x64_SIGNS/train_signs/3_IMG_6161.jpg  \n",
            "  inflating: 64x64_SIGNS/train_signs/5_IMG_5527.jpg  \n",
            "  inflating: 64x64_SIGNS/train_signs/5_IMG_5533.jpg  \n",
            "  inflating: 64x64_SIGNS/train_signs/0_IMG_5892.jpg  \n",
            "  inflating: 64x64_SIGNS/train_signs/2_IMG_4605.jpg  \n",
            "  inflating: 64x64_SIGNS/train_signs/2_IMG_4611.jpg  \n",
            "  inflating: 64x64_SIGNS/train_signs/4_IMG_5326.jpg  \n",
            "  inflating: 64x64_SIGNS/train_signs/2_IMG_4639.jpg  \n",
            "  inflating: 64x64_SIGNS/train_signs/1_IMG_4396.jpg  \n",
            "  inflating: 64x64_SIGNS/train_signs/1_IMG_4427.jpg  \n",
            "  inflating: 64x64_SIGNS/train_signs/1_IMG_4433.jpg  \n",
            "  inflating: 64x64_SIGNS/train_signs/2_IMG_4771.jpg  \n",
            "  inflating: 64x64_SIGNS/train_signs/2_IMG_4765.jpg  \n",
            "  inflating: 64x64_SIGNS/train_signs/4_IMG_5252.jpg  \n",
            "  inflating: 64x64_SIGNS/train_signs/4_IMG_5246.jpg  \n",
            "  inflating: 64x64_SIGNS/train_signs/1_IMG_4553.jpg  \n",
            "  inflating: 64x64_SIGNS/train_signs/4_IMG_5291.jpg  \n",
            "  inflating: 64x64_SIGNS/train_signs/1_IMG_4547.jpg  \n",
            "  inflating: 64x64_SIGNS/train_signs/3_IMG_6001.jpg  \n",
            "  inflating: 64x64_SIGNS/train_signs/3_IMG_6015.jpg  \n",
            "  inflating: 64x64_SIGNS/train_signs/3_IMG_6029.jpg  \n",
            "  inflating: 64x64_SIGNS/train_signs/0_IMG_5925.jpg  \n",
            "  inflating: 64x64_SIGNS/train_signs/5_IMG_5490.jpg  \n",
            "  inflating: 64x64_SIGNS/train_signs/2_IMG_4599.jpg  \n",
            "  inflating: 64x64_SIGNS/train_signs/0_IMG_6236.jpg  \n",
            "  inflating: 64x64_SIGNS/train_signs/5_IMG_5491.jpg  \n",
            "  inflating: 64x64_SIGNS/train_signs/3_IMG_6028.jpg  \n",
            "  inflating: 64x64_SIGNS/train_signs/0_IMG_5924.jpg  \n",
            "  inflating: 64x64_SIGNS/train_signs/0_IMG_5930.jpg  \n",
            "  inflating: 64x64_SIGNS/train_signs/0_IMG_5918.jpg  \n",
            "  inflating: 64x64_SIGNS/train_signs/4_IMG_5290.jpg  \n",
            "  inflating: 64x64_SIGNS/train_signs/4_IMG_5247.jpg  \n",
            "  inflating: 64x64_SIGNS/train_signs/4_IMG_5253.jpg  \n",
            "  inflating: 64x64_SIGNS/train_signs/2_IMG_4764.jpg  \n",
            "  inflating: 64x64_SIGNS/train_signs/3_IMG_6216.jpg  \n",
            "  inflating: 64x64_SIGNS/train_signs/3_IMG_6202.jpg  \n",
            "  inflating: 64x64_SIGNS/train_signs/2_IMG_4770.jpg  \n",
            "  inflating: 64x64_SIGNS/train_signs/1_IMG_4426.jpg  \n",
            "  inflating: 64x64_SIGNS/train_signs/0_IMG_6261 (1).jpg  \n",
            "  inflating: 64x64_SIGNS/train_signs/1_IMG_4397.jpg  \n",
            "  inflating: 64x64_SIGNS/train_signs/1_IMG_4383.jpg  \n",
            "  inflating: 64x64_SIGNS/train_signs/4_IMG_5327.jpg  \n",
            "  inflating: 64x64_SIGNS/train_signs/2_IMG_4604.jpg  \n",
            "  inflating: 64x64_SIGNS/train_signs/0_IMG_5893.jpg  \n",
            "  inflating: 64x64_SIGNS/train_signs/5_IMG_5526.jpg  \n",
            "  inflating: 64x64_SIGNS/train_signs/3_IMG_6148.jpg  \n",
            "  inflating: 64x64_SIGNS/train_signs/3_IMG_6160.jpg  \n",
            "  inflating: 64x64_SIGNS/train_signs/3_IMG_6162.jpg  \n",
            "  inflating: 64x64_SIGNS/train_signs/3_IMG_6176.jpg  \n",
            "  inflating: 64x64_SIGNS/train_signs/5_IMG_5518.jpg  \n",
            "  inflating: 64x64_SIGNS/train_signs/5_IMG_5524.jpg  \n",
            "  inflating: 64x64_SIGNS/train_signs/3_IMG_6189.jpg  \n",
            "  inflating: 64x64_SIGNS/train_signs/4_IMG_5319.jpg  \n",
            "  inflating: 64x64_SIGNS/train_signs/2_IMG_4606.jpg  \n",
            "  inflating: 64x64_SIGNS/train_signs/1_IMG_4395.jpg  \n",
            "  inflating: 64x64_SIGNS/train_signs/4_IMG_5325.jpg  \n",
            "  inflating: 64x64_SIGNS/train_signs/1_IMG_4381.jpg  \n",
            "  inflating: 64x64_SIGNS/train_signs/0_IMG_6257 (1).jpg  \n",
            "  inflating: 64x64_SIGNS/train_signs/1_IMG_4424.jpg  \n",
            "  inflating: 64x64_SIGNS/train_signs/2_IMG_4766.jpg  \n",
            "  inflating: 64x64_SIGNS/train_signs/4_IMG_5279.jpg  \n",
            "  inflating: 64x64_SIGNS/train_signs/2_IMG_4772.jpg  \n",
            "  inflating: 64x64_SIGNS/train_signs/4_IMG_5245.jpg  \n",
            "  inflating: 64x64_SIGNS/train_signs/4_IMG_5251.jpg  \n",
            "  inflating: 64x64_SIGNS/train_signs/1_IMG_4578.jpg  \n",
            "  inflating: 64x64_SIGNS/train_signs/4_IMG_5286.jpg  \n",
            "  inflating: 64x64_SIGNS/train_signs/1_IMG_4550.jpg  \n",
            "  inflating: 64x64_SIGNS/train_signs/5_IMG_5478.jpg  \n",
            "  inflating: 64x64_SIGNS/train_signs/3_IMG_6002.jpg  \n",
            "  inflating: 64x64_SIGNS/train_signs/5_IMG_5444.jpg  \n",
            "  inflating: 64x64_SIGNS/train_signs/0_IMG_5926.jpg  \n",
            "  inflating: 64x64_SIGNS/train_signs/0_IMG_5932.jpg  \n",
            "  inflating: 64x64_SIGNS/train_signs/5_IMG_5487.jpg  \n",
            "  inflating: 64x64_SIGNS/train_signs/5_IMG_5493.jpg  \n",
            "  inflating: 64x64_SIGNS/train_signs/5_IMG_5486.jpg  \n",
            "  inflating: 64x64_SIGNS/train_signs/0_IMG_6278 (1).jpg  \n",
            "  inflating: 64x64_SIGNS/train_signs/5_IMG_5451.jpg  \n",
            "  inflating: 64x64_SIGNS/train_signs/0_IMG_5927.jpg  \n",
            "  inflating: 64x64_SIGNS/train_signs/5_IMG_5445.jpg  \n",
            "  inflating: 64x64_SIGNS/train_signs/3_IMG_6003.jpg  \n",
            "  inflating: 64x64_SIGNS/train_signs/4_IMG_5293.jpg  \n",
            "  inflating: 64x64_SIGNS/train_signs/1_IMG_4551.jpg  \n",
            "  inflating: 64x64_SIGNS/train_signs/2_IMG_4798.jpg  \n",
            "  inflating: 64x64_SIGNS/train_signs/4_IMG_5287.jpg  \n",
            "  inflating: 64x64_SIGNS/train_signs/1_IMG_4579.jpg  \n",
            "  inflating: 64x64_SIGNS/train_signs/2_IMG_4773.jpg  \n",
            "  inflating: 64x64_SIGNS/train_signs/4_IMG_5278.jpg  \n",
            "  inflating: 64x64_SIGNS/train_signs/2_IMG_4767.jpg  \n",
            "  inflating: 64x64_SIGNS/train_signs/1_IMG_4425.jpg  \n",
            "  inflating: 64x64_SIGNS/train_signs/1_IMG_4419.jpg  \n",
            "  inflating: 64x64_SIGNS/train_signs/1_IMG_4380.jpg  \n",
            "  inflating: 64x64_SIGNS/train_signs/4_IMG_5324.jpg  \n",
            "  inflating: 64x64_SIGNS/train_signs/4_IMG_5330.jpg  \n",
            "  inflating: 64x64_SIGNS/train_signs/4_IMG_5318.jpg  \n",
            "  inflating: 64x64_SIGNS/train_signs/2_IMG_4613.jpg  \n",
            "  inflating: 64x64_SIGNS/train_signs/3_IMG_6188.jpg  \n",
            "  inflating: 64x64_SIGNS/train_signs/0_IMG_5991 (1).jpg  \n",
            "  inflating: 64x64_SIGNS/train_signs/5_IMG_5531.jpg  \n",
            "  inflating: 64x64_SIGNS/train_signs/3_IMG_6177.jpg  \n",
            "  inflating: 64x64_SIGNS/train_signs/5_IMG_5519.jpg  \n",
            "  inflating: 64x64_SIGNS/train_signs/5_IMG_5514.jpg  \n",
            "  inflating: 64x64_SIGNS/train_signs/5_IMG_5528.jpg  \n",
            "  inflating: 64x64_SIGNS/train_signs/3_IMG_6185.jpg  \n",
            "  inflating: 64x64_SIGNS/train_signs/3_IMG_6191.jpg  \n",
            "  inflating: 64x64_SIGNS/train_signs/4_IMG_5301.jpg  \n",
            "  inflating: 64x64_SIGNS/train_signs/2_IMG_4622.jpg  \n",
            "  inflating: 64x64_SIGNS/train_signs/1_IMG_4414.jpg  \n",
            "  inflating: 64x64_SIGNS/train_signs/2_IMG_4805.jpg  \n",
            "  inflating: 64x64_SIGNS/train_signs/1_IMG_4428.jpg  \n",
            "  inflating: 64x64_SIGNS/train_signs/3_IMG_6218.jpg  \n",
            "  inflating: 64x64_SIGNS/train_signs/4_IMG_5275.jpg  \n",
            "  inflating: 64x64_SIGNS/train_signs/4_IMG_5249.jpg  \n",
            "  inflating: 64x64_SIGNS/train_signs/1_IMG_4560.jpg  \n",
            "  inflating: 64x64_SIGNS/train_signs/2_IMG_4781.jpg  \n",
            "  inflating: 64x64_SIGNS/train_signs/1_IMG_4548.jpg  \n",
            "  inflating: 64x64_SIGNS/train_signs/5_IMG_5460.jpg  \n",
            "  inflating: 64x64_SIGNS/train_signs/0_IMG_5902.jpg  \n",
            "  inflating: 64x64_SIGNS/train_signs/5_IMG_5474.jpg  \n",
            "  inflating: 64x64_SIGNS/train_signs/0_IMG_5916.jpg  \n",
            "  inflating: 64x64_SIGNS/train_signs/5_IMG_5448.jpg  \n",
            "  inflating: 64x64_SIGNS/train_signs/3_IMG_6026.jpg  \n",
            "  inflating: 64x64_SIGNS/train_signs/0_IMG_6239.jpg  \n",
            "  inflating: 64x64_SIGNS/train_signs/2_IMG_4596.jpg  \n",
            "  inflating: 64x64_SIGNS/train_signs/5_IMG_5449.jpg  \n",
            "  inflating: 64x64_SIGNS/train_signs/3_IMG_6027.jpg  \n",
            "  inflating: 64x64_SIGNS/train_signs/0_IMG_5917.jpg  \n",
            "  inflating: 64x64_SIGNS/train_signs/5_IMG_5475.jpg  \n",
            "  inflating: 64x64_SIGNS/train_signs/0_IMG_5960 (1).jpg  \n",
            "  inflating: 64x64_SIGNS/train_signs/0_IMG_5970 (1).jpg  \n",
            "  inflating: 64x64_SIGNS/train_signs/0_IMG_5903.jpg  \n",
            "  inflating: 64x64_SIGNS/train_signs/5_IMG_5461.jpg  \n",
            "  inflating: 64x64_SIGNS/train_signs/1_IMG_4549.jpg  \n",
            "  inflating: 64x64_SIGNS/train_signs/2_IMG_4794.jpg  \n",
            "  inflating: 64x64_SIGNS/train_signs/2_IMG_4780.jpg  \n",
            "  inflating: 64x64_SIGNS/train_signs/1_IMG_4575.jpg  \n",
            "  inflating: 64x64_SIGNS/train_signs/1_IMG_4561.jpg  \n",
            "  inflating: 64x64_SIGNS/train_signs/2_IMG_4743.jpg  \n",
            "  inflating: 64x64_SIGNS/train_signs/4_IMG_5274.jpg  \n",
            "  inflating: 64x64_SIGNS/train_signs/4_IMG_5260.jpg  \n",
            "  inflating: 64x64_SIGNS/train_signs/1_IMG_4429.jpg  \n",
            "  inflating: 64x64_SIGNS/train_signs/1_IMG_4401.jpg  \n",
            "  inflating: 64x64_SIGNS/train_signs/1_IMG_4398.jpg  \n",
            "  inflating: 64x64_SIGNS/train_signs/2_IMG_4623.jpg  \n",
            "  inflating: 64x64_SIGNS/train_signs/2_IMG_4637.jpg  \n",
            "  inflating: 64x64_SIGNS/train_signs/4_IMG_5300.jpg  \n",
            "  inflating: 64x64_SIGNS/train_signs/3_IMG_6190.jpg  \n",
            "  inflating: 64x64_SIGNS/train_signs/3_IMG_6184.jpg  \n",
            "  inflating: 64x64_SIGNS/train_signs/3_IMG_6153.jpg  \n",
            "  inflating: 64x64_SIGNS/train_signs/3_IMG_6147.jpg  \n",
            "  inflating: 64x64_SIGNS/train_signs/5_IMG_5529.jpg  \n",
            "  inflating: 64x64_SIGNS/train_signs/5_IMG_5501.jpg  \n",
            "  inflating: 64x64_SIGNS/train_signs/5_IMG_5503.jpg  \n",
            "  inflating: 64x64_SIGNS/train_signs/5_IMG_5517.jpg  \n",
            "  inflating: 64x64_SIGNS/train_signs/3_IMG_6179.jpg  \n",
            "  inflating: 64x64_SIGNS/train_signs/3_IMG_6151.jpg  \n",
            "  inflating: 64x64_SIGNS/train_signs/3_IMG_6145.jpg  \n",
            "  inflating: 64x64_SIGNS/train_signs/3_IMG_6192.jpg  \n",
            "  inflating: 64x64_SIGNS/train_signs/3_IMG_6186.jpg  \n",
            "  inflating: 64x64_SIGNS/train_signs/4_IMG_5316.jpg  \n",
            "  inflating: 64x64_SIGNS/train_signs/1_IMG_4403.jpg  \n",
            "  inflating: 64x64_SIGNS/train_signs/2_IMG_4769.jpg  \n",
            "  inflating: 64x64_SIGNS/train_signs/4_IMG_5276.jpg  \n",
            "  inflating: 64x64_SIGNS/train_signs/4_IMG_5262.jpg  \n",
            "  inflating: 64x64_SIGNS/train_signs/2_IMG_4741.jpg  \n",
            "  inflating: 64x64_SIGNS/train_signs/1_IMG_4577.jpg  \n",
            "  inflating: 64x64_SIGNS/train_signs/1_IMG_4563.jpg  \n",
            "  inflating: 64x64_SIGNS/train_signs/4_IMG_5289.jpg  \n",
            "  inflating: 64x64_SIGNS/train_signs/0_IMG_6274 (1).jpg  \n",
            "  inflating: 64x64_SIGNS/train_signs/2_IMG_4782.jpg  \n",
            "  inflating: 64x64_SIGNS/train_signs/0_IMG_6264 (1).jpg  \n",
            "  inflating: 64x64_SIGNS/train_signs/3_IMG_6019.jpg  \n",
            "  inflating: 64x64_SIGNS/train_signs/5_IMG_5477.jpg  \n",
            "  inflating: 64x64_SIGNS/train_signs/5_IMG_5463.jpg  \n",
            "  inflating: 64x64_SIGNS/train_signs/0_IMG_5901.jpg  \n",
            "  inflating: 64x64_SIGNS/train_signs/3_IMG_6025.jpg  \n",
            "  inflating: 64x64_SIGNS/train_signs/3_IMG_6031.jpg  \n",
            "  inflating: 64x64_SIGNS/train_signs/2_IMG_4594.jpg  \n",
            "  inflating: 64x64_SIGNS/train_signs/5_IMG_5488.jpg  \n",
            "  inflating: 64x64_SIGNS/train_signs/5_IMG_5489.jpg  \n",
            "  inflating: 64x64_SIGNS/train_signs/3_IMG_6030.jpg  \n",
            "  inflating: 64x64_SIGNS/train_signs/0_IMG_6239 (1).jpg  \n",
            "  inflating: 64x64_SIGNS/train_signs/0_IMG_5928.jpg  \n",
            "  inflating: 64x64_SIGNS/train_signs/0_IMG_5914.jpg  \n",
            "  inflating: 64x64_SIGNS/train_signs/2_IMG_4797.jpg  \n",
            "  inflating: 64x64_SIGNS/train_signs/0_IMG_6280 (1).jpg  \n",
            "  inflating: 64x64_SIGNS/train_signs/1_IMG_4576.jpg  \n",
            "  inflating: 64x64_SIGNS/train_signs/2_IMG_4740.jpg  \n",
            "  inflating: 64x64_SIGNS/train_signs/2_IMG_4754.jpg  \n",
            "  inflating: 64x64_SIGNS/train_signs/4_IMG_5277.jpg  \n",
            "  inflating: 64x64_SIGNS/train_signs/2_IMG_4634.jpg  \n",
            "  inflating: 64x64_SIGNS/train_signs/2_IMG_4620.jpg  \n",
            "  inflating: 64x64_SIGNS/train_signs/0_IMG_5979 (1).jpg  \n",
            "  inflating: 64x64_SIGNS/train_signs/2_IMG_4608.jpg  \n",
            "  inflating: 64x64_SIGNS/train_signs/4_IMG_5317.jpg  \n",
            "  inflating: 64x64_SIGNS/train_signs/4_IMG_5303.jpg  \n",
            "  inflating: 64x64_SIGNS/train_signs/0_IMG_5969 (1).jpg  \n",
            "  inflating: 64x64_SIGNS/train_signs/3_IMG_6150.jpg  \n",
            "  inflating: 64x64_SIGNS/train_signs/5_IMG_5516.jpg  \n",
            "  inflating: 64x64_SIGNS/train_signs/5_IMG_5502.jpg  \n",
            "  inflating: 64x64_SIGNS/train_signs/3_IMG_6154.jpg  \n",
            "  inflating: 64x64_SIGNS/train_signs/0_IMG_5864.jpg  \n",
            "  inflating: 64x64_SIGNS/train_signs/5_IMG_5506.jpg  \n",
            "  inflating: 64x64_SIGNS/train_signs/3_IMG_6168.jpg  \n",
            "  inflating: 64x64_SIGNS/train_signs/3_IMG_6197.jpg  \n",
            "  inflating: 64x64_SIGNS/train_signs/3_IMG_6183.jpg  \n",
            "  inflating: 64x64_SIGNS/train_signs/2_IMG_4624.jpg  \n",
            "  inflating: 64x64_SIGNS/train_signs/2_IMG_4630.jpg  \n",
            "  inflating: 64x64_SIGNS/train_signs/2_IMG_4618.jpg  \n",
            "  inflating: 64x64_SIGNS/train_signs/4_IMG_5313.jpg  \n",
            "  inflating: 64x64_SIGNS/train_signs/1_IMG_4406.jpg  \n",
            "  inflating: 64x64_SIGNS/train_signs/2_IMG_4803.jpg  \n",
            "  inflating: 64x64_SIGNS/train_signs/1_IMG_4412.jpg  \n",
            "  inflating: 64x64_SIGNS/train_signs/0_IMG_5957 (1).jpg  \n",
            "  inflating: 64x64_SIGNS/train_signs/2_IMG_4750.jpg  \n",
            "  inflating: 64x64_SIGNS/train_signs/2_IMG_4744.jpg  \n",
            "  inflating: 64x64_SIGNS/train_signs/4_IMG_5273.jpg  \n",
            "  inflating: 64x64_SIGNS/train_signs/2_IMG_4778.jpg  \n",
            "  inflating: 64x64_SIGNS/train_signs/4_IMG_5298.jpg  \n",
            "  inflating: 64x64_SIGNS/train_signs/1_IMG_4572.jpg  \n",
            "  inflating: 64x64_SIGNS/train_signs/1_IMG_4566.jpg  \n",
            "  inflating: 64x64_SIGNS/train_signs/5_IMG_5472.jpg  \n",
            "  inflating: 64x64_SIGNS/train_signs/0_IMG_5910.jpg  \n",
            "  inflating: 64x64_SIGNS/train_signs/5_IMG_5466.jpg  \n",
            "  inflating: 64x64_SIGNS/train_signs/0_IMG_5904.jpg  \n",
            "  inflating: 64x64_SIGNS/train_signs/0_IMG_6265 (1).jpg  \n",
            "  inflating: 64x64_SIGNS/train_signs/0_IMG_6275 (1).jpg  \n",
            "  inflating: 64x64_SIGNS/train_signs/5_IMG_5499.jpg  \n",
            "  inflating: 64x64_SIGNS/train_signs/2_IMG_4585.jpg  \n",
            "  inflating: 64x64_SIGNS/train_signs/2_IMG_4584.jpg  \n",
            "  inflating: 64x64_SIGNS/train_signs/5_IMG_5498.jpg  \n",
            "  inflating: 64x64_SIGNS/train_signs/2_IMG_4590.jpg  \n",
            "  inflating: 64x64_SIGNS/train_signs/0_IMG_5905.jpg  \n",
            "  inflating: 64x64_SIGNS/train_signs/0_IMG_5911.jpg  \n",
            "  inflating: 64x64_SIGNS/train_signs/5_IMG_5473.jpg  \n",
            "  inflating: 64x64_SIGNS/train_signs/0_IMG_5939.jpg  \n",
            "  inflating: 64x64_SIGNS/train_signs/3_IMG_6021.jpg  \n",
            "  inflating: 64x64_SIGNS/train_signs/1_IMG_4573.jpg  \n",
            "  inflating: 64x64_SIGNS/train_signs/4_IMG_5299.jpg  \n",
            "  inflating: 64x64_SIGNS/train_signs/2_IMG_4792.jpg  \n",
            "  inflating: 64x64_SIGNS/train_signs/2_IMG_4779.jpg  \n",
            "  inflating: 64x64_SIGNS/train_signs/4_IMG_5272.jpg  \n",
            "  inflating: 64x64_SIGNS/train_signs/2_IMG_4745.jpg  \n",
            "  inflating: 64x64_SIGNS/train_signs/2_IMG_4751.jpg  \n",
            "  inflating: 64x64_SIGNS/train_signs/1_IMG_4413.jpg  \n",
            "  inflating: 64x64_SIGNS/train_signs/2_IMG_4802.jpg  \n",
            "  inflating: 64x64_SIGNS/train_signs/4_IMG_5306.jpg  \n",
            "  inflating: 64x64_SIGNS/train_signs/2_IMG_4631.jpg  \n",
            "  inflating: 64x64_SIGNS/train_signs/2_IMG_4625.jpg  \n",
            "  inflating: 64x64_SIGNS/train_signs/3_IMG_6182.jpg  \n",
            "  inflating: 64x64_SIGNS/train_signs/0_IMG_5968 (1).jpg  \n",
            "  inflating: 64x64_SIGNS/train_signs/3_IMG_6169.jpg  \n",
            "  inflating: 64x64_SIGNS/train_signs/0_IMG_5978 (1).jpg  \n",
            "  inflating: 64x64_SIGNS/train_signs/3_IMG_6157.jpg  \n",
            "  inflating: 64x64_SIGNS/train_signs/5_IMG_5539.jpg  \n",
            "  inflating: 64x64_SIGNS/train_signs/5_IMG_5511.jpg  \n",
            "  inflating: 64x64_SIGNS/train_signs/5_IMG_5505.jpg  \n",
            "  inflating: 64x64_SIGNS/train_signs/3_IMG_6194.jpg  \n",
            "  inflating: 64x64_SIGNS/train_signs/0_IMG_5898.jpg  \n",
            "  inflating: 64x64_SIGNS/train_signs/1_IMG_4388.jpg  \n",
            "  inflating: 64x64_SIGNS/train_signs/2_IMG_4633.jpg  \n",
            "  inflating: 64x64_SIGNS/train_signs/2_IMG_4627.jpg  \n",
            "  inflating: 64x64_SIGNS/train_signs/4_IMG_5310.jpg  \n",
            "  inflating: 64x64_SIGNS/train_signs/1_IMG_4405.jpg  \n",
            "  inflating: 64x64_SIGNS/train_signs/2_IMG_4747.jpg  \n",
            "  inflating: 64x64_SIGNS/train_signs/2_IMG_4753.jpg  \n",
            "  inflating: 64x64_SIGNS/train_signs/4_IMG_5264.jpg  \n",
            "  inflating: 64x64_SIGNS/train_signs/4_IMG_5270.jpg  \n",
            "  inflating: 64x64_SIGNS/train_signs/2_IMG_4784.jpg  \n",
            "  inflating: 64x64_SIGNS/train_signs/2_IMG_4790.jpg  \n",
            "  inflating: 64x64_SIGNS/train_signs/5_IMG_5459.jpg  \n",
            "  inflating: 64x64_SIGNS/train_signs/5_IMG_5465.jpg  \n",
            "  inflating: 64x64_SIGNS/train_signs/0_IMG_5907.jpg  \n",
            "  inflating: 64x64_SIGNS/train_signs/5_IMG_5471.jpg  \n",
            "  inflating: 64x64_SIGNS/train_signs/2_IMG_4592.jpg  \n",
            "  inflating: 64x64_SIGNS/train_signs/2_IMG_4593.jpg  \n",
            "  inflating: 64x64_SIGNS/train_signs/0_IMG_5912.jpg  \n",
            "  inflating: 64x64_SIGNS/train_signs/0_IMG_5906.jpg  \n",
            "  inflating: 64x64_SIGNS/train_signs/3_IMG_6022.jpg  \n",
            "  inflating: 64x64_SIGNS/train_signs/5_IMG_5458.jpg  \n",
            "  inflating: 64x64_SIGNS/train_signs/3_IMG_6036.jpg  \n",
            "  inflating: 64x64_SIGNS/train_signs/1_IMG_4570.jpg  \n",
            "  inflating: 64x64_SIGNS/train_signs/1_IMG_4564.jpg  \n",
            "  inflating: 64x64_SIGNS/train_signs/2_IMG_4791.jpg  \n",
            "  inflating: 64x64_SIGNS/train_signs/1_IMG_4558.jpg  \n",
            "  inflating: 64x64_SIGNS/train_signs/2_IMG_4785.jpg  \n",
            "  inflating: 64x64_SIGNS/train_signs/3_IMG_6208.jpg  \n",
            "  inflating: 64x64_SIGNS/train_signs/4_IMG_5265.jpg  \n",
            "  inflating: 64x64_SIGNS/train_signs/2_IMG_4752.jpg  \n",
            "  inflating: 64x64_SIGNS/train_signs/3_IMG_6220.jpg  \n",
            "  inflating: 64x64_SIGNS/train_signs/4_IMG_5259.jpg  \n",
            "  inflating: 64x64_SIGNS/train_signs/2_IMG_4746.jpg  \n",
            "  inflating: 64x64_SIGNS/train_signs/2_IMG_4801.jpg  \n",
            "  inflating: 64x64_SIGNS/train_signs/1_IMG_4404.jpg  \n",
            "  inflating: 64x64_SIGNS/train_signs/1_IMG_4410.jpg  \n",
            "  inflating: 64x64_SIGNS/train_signs/1_IMG_4438.jpg  \n",
            "  inflating: 64x64_SIGNS/train_signs/4_IMG_5305.jpg  \n",
            "  inflating: 64x64_SIGNS/train_signs/4_IMG_5311.jpg  \n",
            "  inflating: 64x64_SIGNS/train_signs/2_IMG_4626.jpg  \n",
            "  inflating: 64x64_SIGNS/train_signs/4_IMG_5339.jpg  \n",
            "  inflating: 64x64_SIGNS/train_signs/2_IMG_4632.jpg  \n",
            "  inflating: 64x64_SIGNS/train_signs/1_IMG_4389.jpg  \n",
            "  inflating: 64x64_SIGNS/train_signs/3_IMG_6181.jpg  \n",
            "  inflating: 64x64_SIGNS/train_signs/5_IMG_5504.jpg  \n",
            "  inflating: 64x64_SIGNS/train_signs/5_IMG_5510.jpg  \n",
            "  inflating: 64x64_SIGNS/train_signs/3_IMG_6156.jpg  \n",
            "  inflating: 64x64_SIGNS/train_signs/5_IMG_5538.jpg  \n",
            "  inflating: 64x64_SIGNS/train_signs/3_IMG_6119.jpg  \n",
            "  inflating: 64x64_SIGNS/train_signs/5_IMG_5563.jpg  \n",
            "  inflating: 64x64_SIGNS/train_signs/1_IMG_4581 (1).jpg  \n",
            "  inflating: 64x64_SIGNS/train_signs/3_IMG_6125.jpg  \n",
            "  inflating: 64x64_SIGNS/train_signs/3_IMG_6131.jpg  \n",
            "  inflating: 64x64_SIGNS/train_signs/5_IMG_5588.jpg  \n",
            "  inflating: 64x64_SIGNS/train_signs/4_IMG_5410.jpg  \n",
            "  inflating: 64x64_SIGNS/train_signs/4_IMG_5376.jpg  \n",
            "  inflating: 64x64_SIGNS/train_signs/2_IMG_4669.jpg  \n",
            "  inflating: 64x64_SIGNS/train_signs/4_IMG_5362.jpg  \n",
            "  inflating: 64x64_SIGNS/train_signs/1_IMG_4488.jpg  \n",
            "  inflating: 64x64_SIGNS/train_signs/2_IMG_4655.jpg  \n",
            "  inflating: 64x64_SIGNS/train_signs/1_IMG_4463.jpg  \n",
            "  inflating: 64x64_SIGNS/train_signs/2_IMG_4696.jpg  \n",
            "  inflating: 64x64_SIGNS/train_signs/5_IMG_5601.jpg  \n",
            "  inflating: 64x64_SIGNS/train_signs/2_IMG_4721.jpg  \n",
            "  inflating: 64x64_SIGNS/train_signs/5_IMG_5629.jpg  \n",
            "  inflating: 64x64_SIGNS/train_signs/2_IMG_4735.jpg  \n",
            "  inflating: 64x64_SIGNS/train_signs/1_IMG_4503.jpg  \n",
            "  inflating: 64x64_SIGNS/train_signs/1_IMG_4517.jpg  \n",
            "  inflating: 64x64_SIGNS/train_signs/0_IMG_5975.jpg  \n",
            "  inflating: 64x64_SIGNS/train_signs/3_IMG_6051.jpg  \n",
            "  inflating: 64x64_SIGNS/train_signs/0_IMG_5949.jpg  \n",
            "  inflating: 64x64_SIGNS/train_signs/0_IMG_6273.jpg  \n",
            "  inflating: 64x64_SIGNS/train_signs/0_IMG_6267.jpg  \n",
            "  inflating: 64x64_SIGNS/train_signs/3_IMG_6086.jpg  \n",
            "  inflating: 64x64_SIGNS/train_signs/3_IMG_6087.jpg  \n",
            "  inflating: 64x64_SIGNS/train_signs/3_IMG_6093.jpg  \n",
            "  inflating: 64x64_SIGNS/train_signs/0_IMG_6266.jpg  \n",
            "  inflating: 64x64_SIGNS/train_signs/0_IMG_6272.jpg  \n",
            "  inflating: 64x64_SIGNS/train_signs/3_IMG_6044.jpg  \n",
            "  inflating: 64x64_SIGNS/train_signs/0_IMG_5948.jpg  \n",
            "  inflating: 64x64_SIGNS/train_signs/3_IMG_6050.jpg  \n",
            "  inflating: 64x64_SIGNS/train_signs/0_IMG_5974.jpg  \n",
            "  inflating: 64x64_SIGNS/train_signs/0_IMG_5960.jpg  \n",
            "  inflating: 64x64_SIGNS/train_signs/5_IMG_5628.jpg  \n",
            "  inflating: 64x64_SIGNS/train_signs/5_IMG_5614.jpg  \n",
            "  inflating: 64x64_SIGNS/train_signs/2_IMG_4683.jpg  \n",
            "  inflating: 64x64_SIGNS/train_signs/4_IMG_5388.jpg  \n",
            "  inflating: 64x64_SIGNS/train_signs/2_IMG_4697.jpg  \n",
            "  inflating: 64x64_SIGNS/train_signs/1_IMG_4462.jpg  \n",
            "  inflating: 64x64_SIGNS/train_signs/1_IMG_4476.jpg  \n",
            "  inflating: 64x64_SIGNS/train_signs/1_IMG_4489.jpg  \n",
            "  inflating: 64x64_SIGNS/train_signs/2_IMG_4654.jpg  \n",
            "  inflating: 64x64_SIGNS/train_signs/4_IMG_5405.jpg  \n",
            "  inflating: 64x64_SIGNS/train_signs/4_IMG_5411.jpg  \n",
            "  inflating: 64x64_SIGNS/train_signs/2_IMG_4668.jpg  \n",
            "  inflating: 64x64_SIGNS/train_signs/3_IMG_6130.jpg  \n",
            "  inflating: 64x64_SIGNS/train_signs/5_IMG_5562.jpg  \n",
            "  inflating: 64x64_SIGNS/train_signs/5_IMG_5576.jpg  \n",
            "  inflating: 64x64_SIGNS/train_signs/3_IMG_6118.jpg  \n",
            "  inflating: 64x64_SIGNS/train_signs/5_IMG_5574.jpg  \n",
            "  inflating: 64x64_SIGNS/train_signs/3_IMG_6132.jpg  \n",
            "  inflating: 64x64_SIGNS/train_signs/3_IMG_6126.jpg  \n",
            "  inflating: 64x64_SIGNS/train_signs/5_IMG_5548.jpg  \n",
            "  inflating: 64x64_SIGNS/train_signs/0_IMG_5987 (1).jpg  \n",
            "  inflating: 64x64_SIGNS/train_signs/4_IMG_5407.jpg  \n",
            "  inflating: 64x64_SIGNS/train_signs/4_IMG_5375.jpg  \n",
            "  inflating: 64x64_SIGNS/train_signs/4_IMG_5413.jpg  \n",
            "  inflating: 64x64_SIGNS/train_signs/4_IMG_5349.jpg  \n",
            "  inflating: 64x64_SIGNS/train_signs/2_IMG_4656.jpg  \n",
            "  inflating: 64x64_SIGNS/train_signs/1_IMG_4460.jpg  \n",
            "  inflating: 64x64_SIGNS/train_signs/1_IMG_4474.jpg  \n",
            "  inflating: 64x64_SIGNS/train_signs/2_IMG_4681.jpg  \n",
            "  inflating: 64x64_SIGNS/train_signs/1_IMG_4448.jpg  \n",
            "  inflating: 64x64_SIGNS/train_signs/5_IMG_5616.jpg  \n",
            "  inflating: 64x64_SIGNS/train_signs/5_IMG_5602.jpg  \n",
            "  inflating: 64x64_SIGNS/train_signs/3_IMG_5995.jpg  \n",
            "  inflating: 64x64_SIGNS/train_signs/2_IMG_4736.jpg  \n",
            "  inflating: 64x64_SIGNS/train_signs/4_IMG_5229.jpg  \n",
            "  inflating: 64x64_SIGNS/train_signs/2_IMG_4722.jpg  \n",
            "  inflating: 64x64_SIGNS/train_signs/1_IMG_4514.jpg  \n",
            "  inflating: 64x64_SIGNS/train_signs/1_IMG_4500.jpg  \n",
            "  inflating: 64x64_SIGNS/train_signs/1_IMG_4528.jpg  \n",
            "  inflating: 64x64_SIGNS/train_signs/0_IMG_5962.jpg  \n",
            "  inflating: 64x64_SIGNS/train_signs/3_IMG_6052.jpg  \n",
            "  inflating: 64x64_SIGNS/train_signs/0_IMG_6264.jpg  \n",
            "  inflating: 64x64_SIGNS/train_signs/0_IMG_6270.jpg  \n",
            "  inflating: 64x64_SIGNS/train_signs/0_IMG_5989.jpg  \n",
            "  inflating: 64x64_SIGNS/train_signs/3_IMG_6085.jpg  \n",
            "  inflating: 64x64_SIGNS/train_signs/3_IMG_6091.jpg  \n",
            "  inflating: 64x64_SIGNS/train_signs/3_IMG_6090.jpg  \n",
            "  inflating: 64x64_SIGNS/train_signs/0_IMG_6259.jpg  \n",
            "  inflating: 64x64_SIGNS/train_signs/0_IMG_5988.jpg  \n",
            "  inflating: 64x64_SIGNS/train_signs/3_IMG_6084.jpg  \n",
            "  inflating: 64x64_SIGNS/train_signs/0_IMG_6271.jpg  \n",
            "  inflating: 64x64_SIGNS/train_signs/0_IMG_6265.jpg  \n",
            "  inflating: 64x64_SIGNS/train_signs/3_IMG_6053.jpg  \n",
            "  inflating: 64x64_SIGNS/train_signs/3_IMG_6047.jpg  \n",
            "  inflating: 64x64_SIGNS/train_signs/0_IMG_5963.jpg  \n",
            "  inflating: 64x64_SIGNS/train_signs/0_IMG_6233 (1).jpg  \n",
            "  inflating: 64x64_SIGNS/train_signs/1_IMG_4501.jpg  \n",
            "  inflating: 64x64_SIGNS/train_signs/1_IMG_4515.jpg  \n",
            "  inflating: 64x64_SIGNS/train_signs/2_IMG_4723.jpg  \n",
            "  inflating: 64x64_SIGNS/train_signs/3_IMG_5994.jpg  \n",
            "  inflating: 64x64_SIGNS/train_signs/4_IMG_5228.jpg  \n",
            "  inflating: 64x64_SIGNS/train_signs/5_IMG_5603.jpg  \n",
            "  inflating: 64x64_SIGNS/train_signs/5_IMG_5617.jpg  \n",
            "  inflating: 64x64_SIGNS/train_signs/2_IMG_4694.jpg  \n",
            "  inflating: 64x64_SIGNS/train_signs/1_IMG_4449.jpg  \n",
            "  inflating: 64x64_SIGNS/train_signs/2_IMG_4680.jpg  \n",
            "  inflating: 64x64_SIGNS/train_signs/1_IMG_4475.jpg  \n",
            "  inflating: 64x64_SIGNS/train_signs/4_IMG_5348.jpg  \n",
            "  inflating: 64x64_SIGNS/train_signs/0_IMG_6251 (1).jpg  \n",
            "  inflating: 64x64_SIGNS/train_signs/4_IMG_5406.jpg  \n",
            "  inflating: 64x64_SIGNS/train_signs/0_IMG_6241 (1).jpg  \n",
            "  inflating: 64x64_SIGNS/train_signs/4_IMG_5360.jpg  \n",
            "  inflating: 64x64_SIGNS/train_signs/0_IMG_5963 (1).jpg  \n",
            "  inflating: 64x64_SIGNS/train_signs/0_IMG_5973 (1).jpg  \n",
            "  inflating: 64x64_SIGNS/train_signs/3_IMG_6127.jpg  \n",
            "  inflating: 64x64_SIGNS/train_signs/5_IMG_5549.jpg  \n",
            "  inflating: 64x64_SIGNS/train_signs/3_IMG_6133.jpg  \n",
            "  inflating: 64x64_SIGNS/train_signs/5_IMG_5575.jpg  \n",
            "  inflating: 64x64_SIGNS/train_signs/3_IMG_6137.jpg  \n",
            "  inflating: 64x64_SIGNS/train_signs/5_IMG_5559.jpg  \n",
            "  inflating: 64x64_SIGNS/train_signs/5_IMG_5565.jpg  \n",
            "  inflating: 64x64_SIGNS/train_signs/5_IMG_5571.jpg  \n",
            "  inflating: 64x64_SIGNS/train_signs/4_IMG_5358.jpg  \n",
            "  inflating: 64x64_SIGNS/train_signs/4_IMG_5364.jpg  \n",
            "  inflating: 64x64_SIGNS/train_signs/4_IMG_5402.jpg  \n",
            "  inflating: 64x64_SIGNS/train_signs/4_IMG_5416.jpg  \n",
            "  inflating: 64x64_SIGNS/train_signs/4_IMG_5370.jpg  \n",
            "  inflating: 64x64_SIGNS/train_signs/2_IMG_4684.jpg  \n",
            "  inflating: 64x64_SIGNS/train_signs/1_IMG_4459.jpg  \n",
            "  inflating: 64x64_SIGNS/train_signs/1_IMG_4465.jpg  \n",
            "  inflating: 64x64_SIGNS/train_signs/0_IMG_5986 (1).jpg  \n",
            "  inflating: 64x64_SIGNS/train_signs/2_IMG_4727.jpg  \n",
            "  inflating: 64x64_SIGNS/train_signs/5_IMG_5613.jpg  \n",
            "  inflating: 64x64_SIGNS/train_signs/5_IMG_5607.jpg  \n",
            "  inflating: 64x64_SIGNS/train_signs/1_IMG_4511.jpg  \n",
            "  inflating: 64x64_SIGNS/train_signs/1_IMG_4505.jpg  \n",
            "  inflating: 64x64_SIGNS/train_signs/3_IMG_6043.jpg  \n",
            "  inflating: 64x64_SIGNS/train_signs/5_IMG_5439.jpg  \n",
            "  inflating: 64x64_SIGNS/train_signs/3_IMG_6057.jpg  \n",
            "  inflating: 64x64_SIGNS/train_signs/0_IMG_5973.jpg  \n",
            "  inflating: 64x64_SIGNS/train_signs/0_IMG_5967.jpg  \n",
            "  inflating: 64x64_SIGNS/train_signs/3_IMG_6080.jpg  \n",
            "  inflating: 64x64_SIGNS/train_signs/0_IMG_6249.jpg  \n",
            "  inflating: 64x64_SIGNS/train_signs/0_IMG_6275.jpg  \n",
            "  inflating: 64x64_SIGNS/train_signs/0_IMG_6274.jpg  \n",
            "  inflating: 64x64_SIGNS/train_signs/0_IMG_6260.jpg  \n",
            "  inflating: 64x64_SIGNS/train_signs/0_IMG_6248.jpg  \n",
            "  inflating: 64x64_SIGNS/train_signs/3_IMG_6095.jpg  \n",
            "  inflating: 64x64_SIGNS/train_signs/3_IMG_6081.jpg  \n",
            "  inflating: 64x64_SIGNS/train_signs/0_IMG_5966.jpg  \n",
            "  inflating: 64x64_SIGNS/train_signs/5_IMG_5438.jpg  \n",
            "  inflating: 64x64_SIGNS/train_signs/3_IMG_6042.jpg  \n",
            "  inflating: 64x64_SIGNS/train_signs/1_IMG_4504.jpg  \n",
            "  inflating: 64x64_SIGNS/train_signs/1_IMG_4510.jpg  \n",
            "  inflating: 64x64_SIGNS/train_signs/1_IMG_4538.jpg  \n",
            "  inflating: 64x64_SIGNS/train_signs/5_IMG_5612.jpg  \n",
            "  inflating: 64x64_SIGNS/train_signs/2_IMG_4726.jpg  \n",
            "  inflating: 64x64_SIGNS/train_signs/1_IMG_4470.jpg  \n",
            "  inflating: 64x64_SIGNS/train_signs/1_IMG_4464.jpg  \n",
            "  inflating: 64x64_SIGNS/train_signs/2_IMG_4691.jpg  \n",
            "  inflating: 64x64_SIGNS/train_signs/1_IMG_4458.jpg  \n",
            "  inflating: 64x64_SIGNS/train_signs/4_IMG_5417.jpg  \n",
            "  inflating: 64x64_SIGNS/train_signs/4_IMG_5371.jpg  \n",
            "  inflating: 64x64_SIGNS/train_signs/4_IMG_5365.jpg  \n",
            "  inflating: 64x64_SIGNS/train_signs/4_IMG_5403.jpg  \n",
            "  inflating: 64x64_SIGNS/train_signs/2_IMG_4646.jpg  \n",
            "  inflating: 64x64_SIGNS/train_signs/4_IMG_5359.jpg  \n",
            "  inflating: 64x64_SIGNS/train_signs/5_IMG_5570.jpg  \n",
            "  inflating: 64x64_SIGNS/train_signs/5_IMG_5564.jpg  \n",
            "  inflating: 64x64_SIGNS/train_signs/3_IMG_6122.jpg  \n",
            "  inflating: 64x64_SIGNS/train_signs/3_IMG_6136.jpg  \n",
            "  inflating: 64x64_SIGNS/train_signs/5_IMG_5558.jpg  \n",
            "  inflating: 64x64_SIGNS/train_signs/3_IMG_6120.jpg  \n",
            "  inflating: 64x64_SIGNS/train_signs/0_IMG_6266 (1).jpg  \n",
            "  inflating: 64x64_SIGNS/train_signs/3_IMG_6134.jpg  \n",
            "  inflating: 64x64_SIGNS/train_signs/5_IMG_5566.jpg  \n",
            "  inflating: 64x64_SIGNS/train_signs/3_IMG_6108.jpg  \n",
            "  inflating: 64x64_SIGNS/train_signs/4_IMG_5429.jpg  \n",
            "  inflating: 64x64_SIGNS/train_signs/1_IMG_4499.jpg  \n",
            "  inflating: 64x64_SIGNS/train_signs/2_IMG_4644.jpg  \n",
            "  inflating: 64x64_SIGNS/train_signs/4_IMG_5373.jpg  \n",
            "  inflating: 64x64_SIGNS/train_signs/4_IMG_5415.jpg  \n",
            "  inflating: 64x64_SIGNS/train_signs/4_IMG_5401.jpg  \n",
            "  inflating: 64x64_SIGNS/train_signs/4_IMG_5367.jpg  \n",
            "  inflating: 64x64_SIGNS/train_signs/2_IMG_4678.jpg  \n",
            "  inflating: 64x64_SIGNS/train_signs/2_IMG_4693.jpg  \n",
            "  inflating: 64x64_SIGNS/train_signs/2_IMG_4687.jpg  \n",
            "  inflating: 64x64_SIGNS/train_signs/4_IMG_5398.jpg  \n",
            "  inflating: 64x64_SIGNS/train_signs/1_IMG_4472.jpg  \n",
            "  inflating: 64x64_SIGNS/train_signs/1_IMG_4466.jpg  \n",
            "  inflating: 64x64_SIGNS/train_signs/2_IMG_4730.jpg  \n",
            "  inflating: 64x64_SIGNS/train_signs/5_IMG_5604.jpg  \n",
            "  inflating: 64x64_SIGNS/train_signs/5_IMG_5610.jpg  \n",
            "  inflating: 64x64_SIGNS/train_signs/1_IMG_4506.jpg  \n",
            "  inflating: 64x64_SIGNS/train_signs/1_IMG_4512.jpg  \n",
            "  inflating: 64x64_SIGNS/train_signs/3_IMG_6054.jpg  \n",
            "  inflating: 64x64_SIGNS/train_signs/3_IMG_6040.jpg  \n",
            "  inflating: 64x64_SIGNS/train_signs/3_IMG_6068.jpg  \n",
            "  inflating: 64x64_SIGNS/train_signs/3_IMG_6097.jpg  \n",
            "  inflating: 64x64_SIGNS/train_signs/3_IMG_6083.jpg  \n",
            "  inflating: 64x64_SIGNS/train_signs/0_IMG_6262.jpg  \n",
            "  inflating: 64x64_SIGNS/train_signs/0_IMG_6277.jpg  \n",
            "  inflating: 64x64_SIGNS/train_signs/3_IMG_6082.jpg  \n",
            "  inflating: 64x64_SIGNS/train_signs/0_IMG_5971.jpg  \n",
            "  inflating: 64x64_SIGNS/train_signs/3_IMG_6069.jpg  \n",
            "  inflating: 64x64_SIGNS/train_signs/0_IMG_5965.jpg  \n",
            "  inflating: 64x64_SIGNS/train_signs/3_IMG_6041.jpg  \n",
            "  inflating: 64x64_SIGNS/train_signs/3_IMG_6055.jpg  \n",
            "  inflating: 64x64_SIGNS/train_signs/0_IMG_5959.jpg  \n",
            "  inflating: 64x64_SIGNS/train_signs/1_IMG_4507.jpg  \n",
            "  inflating: 64x64_SIGNS/train_signs/5_IMG_5611.jpg  \n",
            "  inflating: 64x64_SIGNS/train_signs/2_IMG_4719.jpg  \n",
            "  inflating: 64x64_SIGNS/train_signs/5_IMG_5605.jpg  \n",
            "  inflating: 64x64_SIGNS/train_signs/1_IMG_4473.jpg  \n",
            "  inflating: 64x64_SIGNS/train_signs/2_IMG_4686.jpg  \n",
            "  inflating: 64x64_SIGNS/train_signs/2_IMG_4692.jpg  \n",
            "  inflating: 64x64_SIGNS/train_signs/4_IMG_5366.jpg  \n",
            "  inflating: 64x64_SIGNS/train_signs/4_IMG_5372.jpg  \n",
            "  inflating: 64x64_SIGNS/train_signs/4_IMG_5414.jpg  \n",
            "  inflating: 64x64_SIGNS/train_signs/2_IMG_4651.jpg  \n",
            "  inflating: 64x64_SIGNS/train_signs/5_IMG_5598.jpg  \n",
            "  inflating: 64x64_SIGNS/train_signs/5_IMG_5567.jpg  \n",
            "  inflating: 64x64_SIGNS/train_signs/3_IMG_6109.jpg  \n",
            "  inflating: 64x64_SIGNS/train_signs/3_IMG_6135.jpg  \n",
            "   creating: 64x64_SIGNS/val_signs/\n",
            "  inflating: 64x64_SIGNS/val_signs/5_IMG_5542.jpg  \n",
            "  inflating: 64x64_SIGNS/val_signs/1_IMG_4481.jpg  \n",
            "  inflating: 64x64_SIGNS/val_signs/4_IMG_5380.jpg  \n",
            "  inflating: 64x64_SIGNS/val_signs/1_IMG_4536.jpg  \n",
            "  inflating: 64x64_SIGNS/val_signs/5_IMG_5436.jpg  \n",
            "  inflating: 64x64_SIGNS/val_signs/3_IMG_6065.jpg  \n",
            "  inflating: 64x64_SIGNS/val_signs/0_IMG_6273 (1).jpg  \n",
            "  inflating: 64x64_SIGNS/val_signs/0_IMG_6263 (1).jpg  \n",
            "  inflating: 64x64_SIGNS/val_signs/3_IMG_6059.jpg  \n",
            "  inflating: 64x64_SIGNS/val_signs/4_IMG_5356.jpg  \n",
            "  inflating: 64x64_SIGNS/val_signs/3_IMG_6111.jpg  \n",
            "  inflating: 64x64_SIGNS/val_signs/3_IMG_6105.jpg  \n",
            "  inflating: 64x64_SIGNS/val_signs/5_IMG_5569.jpg  \n",
            "  inflating: 64x64_SIGNS/val_signs/1_IMG_4482.jpg  \n",
            "  inflating: 64x64_SIGNS/val_signs/1_IMG_4496.jpg  \n",
            "  inflating: 64x64_SIGNS/val_signs/2_IMG_4663.jpg  \n",
            "  inflating: 64x64_SIGNS/val_signs/4_IMG_5397.jpg  \n",
            "  inflating: 64x64_SIGNS/val_signs/0_IMG_5967 (1).jpg  \n",
            "  inflating: 64x64_SIGNS/val_signs/1_IMG_4509.jpg  \n",
            "  inflating: 64x64_SIGNS/val_signs/0_IMG_6245 (1).jpg  \n",
            "  inflating: 64x64_SIGNS/val_signs/0_IMG_5981.jpg  \n",
            "  inflating: 64x64_SIGNS/val_signs/0_IMG_6250.jpg  \n",
            "  inflating: 64x64_SIGNS/val_signs/4_IMG_5355.jpg  \n",
            "  inflating: 64x64_SIGNS/val_signs/3_IMG_6116.jpg  \n",
            "  inflating: 64x64_SIGNS/val_signs/5_IMG_5544.jpg  \n",
            "  inflating: 64x64_SIGNS/val_signs/2_IMG_4666.jpg  \n",
            "  inflating: 64x64_SIGNS/val_signs/1_IMG_4450.jpg  \n",
            "  inflating: 64x64_SIGNS/val_signs/0_IMG_6244 (1).jpg  \n",
            "  inflating: 64x64_SIGNS/val_signs/3_IMG_5999.jpg  \n",
            "  inflating: 64x64_SIGNS/val_signs/1_IMG_4518.jpg  \n",
            "  inflating: 64x64_SIGNS/val_signs/1_IMG_4524.jpg  \n",
            "  inflating: 64x64_SIGNS/val_signs/0_IMG_5984.jpg  \n",
            "  inflating: 64x64_SIGNS/val_signs/0_IMG_5953.jpg  \n",
            "  inflating: 64x64_SIGNS/val_signs/5_IMG_5431.jpg  \n",
            "  inflating: 64x64_SIGNS/val_signs/3_IMG_6063.jpg  \n",
            "  inflating: 64x64_SIGNS/val_signs/1_IMG_4519.jpg  \n",
            "  inflating: 64x64_SIGNS/val_signs/4_IMG_5224.jpg  \n",
            "  inflating: 64x64_SIGNS/val_signs/2_IMG_4713.jpg  \n",
            "  inflating: 64x64_SIGNS/val_signs/5_IMG_5586.jpg  \n",
            "  inflating: 64x64_SIGNS/val_signs/5_IMG_5545.jpg  \n",
            "  inflating: 64x64_SIGNS/val_signs/3_IMG_6117.jpg  \n",
            "  inflating: 64x64_SIGNS/val_signs/5_IMG_5590.jpg  \n",
            "  inflating: 64x64_SIGNS/val_signs/4_IMG_5352.jpg  \n",
            "  inflating: 64x64_SIGNS/val_signs/4_IMG_5420.jpg  \n",
            "  inflating: 64x64_SIGNS/val_signs/2_IMG_4711.jpg  \n",
            "  inflating: 64x64_SIGNS/val_signs/0_IMG_5945.jpg  \n",
            "  inflating: 64x64_SIGNS/val_signs/0_IMG_5987.jpg  \n",
            "  inflating: 64x64_SIGNS/val_signs/3_IMG_6060.jpg  \n",
            "  inflating: 64x64_SIGNS/val_signs/0_IMG_5978.jpg  \n",
            "  inflating: 64x64_SIGNS/val_signs/1_IMG_4532.jpg  \n",
            "  inflating: 64x64_SIGNS/val_signs/1_IMG_4526.jpg  \n",
            "  inflating: 64x64_SIGNS/val_signs/0_IMG_6262 (1).jpg  \n",
            "  inflating: 64x64_SIGNS/val_signs/2_IMG_4704.jpg  \n",
            "  inflating: 64x64_SIGNS/val_signs/4_IMG_5353.jpg  \n",
            "  inflating: 64x64_SIGNS/val_signs/3_IMG_6100.jpg  \n",
            "  inflating: 64x64_SIGNS/val_signs/5_IMG_5509.jpg  \n",
            "  inflating: 64x64_SIGNS/val_signs/1_IMG_4390.jpg  \n",
            "  inflating: 64x64_SIGNS/val_signs/2_IMG_4617.jpg  \n",
            "  inflating: 64x64_SIGNS/val_signs/3_IMG_6211.jpg  \n",
            "  inflating: 64x64_SIGNS/val_signs/2_IMG_4777.jpg  \n",
            "  inflating: 64x64_SIGNS/val_signs/1_IMG_4555.jpg  \n",
            "  inflating: 64x64_SIGNS/val_signs/5_IMG_5455.jpg  \n",
            "  inflating: 64x64_SIGNS/val_signs/0_IMG_6225.jpg  \n",
            "  inflating: 64x64_SIGNS/val_signs/2_IMG_4762.jpg  \n",
            "  inflating: 64x64_SIGNS/val_signs/1_IMG_4420.jpg  \n",
            "  inflating: 64x64_SIGNS/val_signs/2_IMG_4616.jpg  \n",
            "  inflating: 64x64_SIGNS/val_signs/4_IMG_5309.jpg  \n",
            "  inflating: 64x64_SIGNS/val_signs/5_IMG_5520.jpg  \n",
            "  inflating: 64x64_SIGNS/val_signs/4_IMG_5337.jpg  \n",
            "  inflating: 64x64_SIGNS/val_signs/1_IMG_4581.jpg  \n",
            "  inflating: 64x64_SIGNS/val_signs/1_IMG_4542.jpg  \n",
            "  inflating: 64x64_SIGNS/val_signs/5_IMG_5442.jpg  \n",
            "  inflating: 64x64_SIGNS/val_signs/3_IMG_6004.jpg  \n",
            "  inflating: 64x64_SIGNS/val_signs/0_IMG_5908.jpg  \n",
            "  inflating: 64x64_SIGNS/val_signs/0_IMG_6233.jpg  \n",
            "  inflating: 64x64_SIGNS/val_signs/5_IMG_5443.jpg  \n",
            "  inflating: 64x64_SIGNS/val_signs/4_IMG_5295.jpg  \n",
            "  inflating: 64x64_SIGNS/val_signs/2_IMG_4761.jpg  \n",
            "  inflating: 64x64_SIGNS/val_signs/3_IMG_6207.jpg  \n",
            "  inflating: 64x64_SIGNS/val_signs/4_IMG_5242.jpg  \n",
            "  inflating: 64x64_SIGNS/val_signs/4_IMG_5256.jpg  \n",
            "  inflating: 64x64_SIGNS/val_signs/2_IMG_4615.jpg  \n",
            "  inflating: 64x64_SIGNS/val_signs/3_IMG_6159.jpg  \n",
            "  inflating: 64x64_SIGNS/val_signs/1_IMG_4382.jpg  \n",
            "  inflating: 64x64_SIGNS/val_signs/4_IMG_5332.jpg  \n",
            "  inflating: 64x64_SIGNS/val_signs/3_IMG_6217.jpg  \n",
            "  inflating: 64x64_SIGNS/val_signs/2_IMG_4759.jpg  \n",
            "  inflating: 64x64_SIGNS/val_signs/0_IMG_5931.jpg  \n",
            "  inflating: 64x64_SIGNS/val_signs/2_IMG_4598.jpg  \n",
            "  inflating: 64x64_SIGNS/val_signs/5_IMG_5485.jpg  \n",
            "  inflating: 64x64_SIGNS/val_signs/5_IMG_5446.jpg  \n",
            "  inflating: 64x64_SIGNS/val_signs/5_IMG_5452.jpg  \n",
            "  inflating: 64x64_SIGNS/val_signs/4_IMG_5284.jpg  \n",
            "  inflating: 64x64_SIGNS/val_signs/1_IMG_4552.jpg  \n",
            "  inflating: 64x64_SIGNS/val_signs/2_IMG_4758.jpg  \n",
            "  inflating: 64x64_SIGNS/val_signs/1_IMG_4432.jpg  \n",
            "  inflating: 64x64_SIGNS/val_signs/2_IMG_4638.jpg  \n",
            "  inflating: 64x64_SIGNS/val_signs/5_IMG_5530.jpg  \n",
            "  inflating: 64x64_SIGNS/val_signs/0_IMG_5891.jpg  \n",
            "  inflating: 64x64_SIGNS/val_signs/4_IMG_5331.jpg  \n",
            "  inflating: 64x64_SIGNS/val_signs/1_IMG_4418.jpg  \n",
            "  inflating: 64x64_SIGNS/val_signs/3_IMG_6200.jpg  \n",
            "  inflating: 64x64_SIGNS/val_signs/4_IMG_5292.jpg  \n",
            "  inflating: 64x64_SIGNS/val_signs/3_IMG_6016.jpg  \n",
            "  inflating: 64x64_SIGNS/val_signs/5_IMG_5450.jpg  \n",
            "  inflating: 64x64_SIGNS/val_signs/0_IMG_6234.jpg  \n",
            "  inflating: 64x64_SIGNS/val_signs/0_IMG_6235.jpg  \n",
            "  inflating: 64x64_SIGNS/val_signs/0_IMG_5933.jpg  \n",
            "  inflating: 64x64_SIGNS/val_signs/5_IMG_5479.jpg  \n",
            "  inflating: 64x64_SIGNS/val_signs/1_IMG_4545.jpg  \n",
            "  inflating: 64x64_SIGNS/val_signs/4_IMG_5250.jpg  \n",
            "  inflating: 64x64_SIGNS/val_signs/4_IMG_5244.jpg  \n",
            "  inflating: 64x64_SIGNS/val_signs/1_IMG_4394.jpg  \n",
            "  inflating: 64x64_SIGNS/val_signs/3_IMG_6152.jpg  \n",
            "  inflating: 64x64_SIGNS/val_signs/4_IMG_5329.jpg  \n",
            "  inflating: 64x64_SIGNS/val_signs/1_IMG_4399.jpg  \n",
            "  inflating: 64x64_SIGNS/val_signs/1_IMG_4400.jpg  \n",
            "  inflating: 64x64_SIGNS/val_signs/4_IMG_5261.jpg  \n",
            "  inflating: 64x64_SIGNS/val_signs/2_IMG_4756.jpg  \n",
            "  inflating: 64x64_SIGNS/val_signs/1_IMG_4574.jpg  \n",
            "  inflating: 64x64_SIGNS/val_signs/3_IMG_6032.jpg  \n",
            "  inflating: 64x64_SIGNS/val_signs/3_IMG_6033.jpg  \n",
            "  inflating: 64x64_SIGNS/val_signs/4_IMG_5248.jpg  \n",
            "  inflating: 64x64_SIGNS/val_signs/3_IMG_6219.jpg  \n",
            "  inflating: 64x64_SIGNS/val_signs/4_IMG_5314.jpg  \n",
            "  inflating: 64x64_SIGNS/val_signs/5_IMG_5515.jpg  \n",
            "  inflating: 64x64_SIGNS/val_signs/4_IMG_5302.jpg  \n",
            "  inflating: 64x64_SIGNS/val_signs/2_IMG_4635.jpg  \n",
            "  inflating: 64x64_SIGNS/val_signs/1_IMG_4417.jpg  \n",
            "  inflating: 64x64_SIGNS/val_signs/2_IMG_4755.jpg  \n",
            "  inflating: 64x64_SIGNS/val_signs/2_IMG_4796.jpg  \n",
            "  inflating: 64x64_SIGNS/val_signs/0_IMG_5915.jpg  \n",
            "  inflating: 64x64_SIGNS/val_signs/0_IMG_5929.jpg  \n",
            "  inflating: 64x64_SIGNS/val_signs/0_IMG_6229 (1).jpg  \n",
            "  inflating: 64x64_SIGNS/val_signs/2_IMG_4783.jpg  \n",
            "  inflating: 64x64_SIGNS/val_signs/4_IMG_5288.jpg  \n",
            "  inflating: 64x64_SIGNS/val_signs/4_IMG_5263.jpg  \n",
            "  inflating: 64x64_SIGNS/val_signs/2_IMG_4768.jpg  \n",
            "  inflating: 64x64_SIGNS/val_signs/1_IMG_4416.jpg  \n",
            "  inflating: 64x64_SIGNS/val_signs/3_IMG_6187.jpg  \n",
            "  inflating: 64x64_SIGNS/val_signs/3_IMG_6193.jpg  \n",
            "  inflating: 64x64_SIGNS/val_signs/5_IMG_5512.jpg  \n",
            "  inflating: 64x64_SIGNS/val_signs/4_IMG_5307.jpg  \n",
            "  inflating: 64x64_SIGNS/val_signs/4_IMG_5267.jpg  \n",
            "  inflating: 64x64_SIGNS/val_signs/0_IMG_5938.jpg  \n",
            "  inflating: 64x64_SIGNS/val_signs/3_IMG_6009.jpg  \n",
            "  inflating: 64x64_SIGNS/val_signs/5_IMG_5467.jpg  \n",
            "  inflating: 64x64_SIGNS/val_signs/4_IMG_5266.jpg  \n",
            "  inflating: 64x64_SIGNS/val_signs/0_IMG_6228 (1).jpg  \n",
            "  inflating: 64x64_SIGNS/val_signs/4_IMG_5312.jpg  \n",
            "  inflating: 64x64_SIGNS/val_signs/0_IMG_5865.jpg  \n",
            "  inflating: 64x64_SIGNS/val_signs/3_IMG_6155.jpg  \n",
            "  inflating: 64x64_SIGNS/val_signs/3_IMG_6143.jpg  \n",
            "  inflating: 64x64_SIGNS/val_signs/4_IMG_5338.jpg  \n",
            "  inflating: 64x64_SIGNS/val_signs/1_IMG_4411.jpg  \n",
            "  inflating: 64x64_SIGNS/val_signs/2_IMG_4800.jpg  \n",
            "  inflating: 64x64_SIGNS/val_signs/3_IMG_6221.jpg  \n",
            "  inflating: 64x64_SIGNS/val_signs/3_IMG_6209.jpg  \n",
            "  inflating: 64x64_SIGNS/val_signs/1_IMG_4559.jpg  \n",
            "  inflating: 64x64_SIGNS/val_signs/1_IMG_4565.jpg  \n",
            "  inflating: 64x64_SIGNS/val_signs/3_IMG_6037.jpg  \n",
            "  inflating: 64x64_SIGNS/val_signs/0_IMG_5913.jpg  \n",
            "  inflating: 64x64_SIGNS/val_signs/0_IMG_6243 (1).jpg  \n",
            "  inflating: 64x64_SIGNS/val_signs/2_IMG_4587.jpg  \n",
            "  inflating: 64x64_SIGNS/val_signs/5_IMG_5464.jpg  \n",
            "  inflating: 64x64_SIGNS/val_signs/5_IMG_5577.jpg  \n",
            "  inflating: 64x64_SIGNS/val_signs/2_IMG_4641.jpg  \n",
            "  inflating: 64x64_SIGNS/val_signs/5_IMG_5615.jpg  \n",
            "  inflating: 64x64_SIGNS/val_signs/3_IMG_6092.jpg  \n",
            "  inflating: 64x64_SIGNS/val_signs/0_IMG_6258 (1).jpg  \n",
            "  inflating: 64x64_SIGNS/val_signs/1_IMG_4502.jpg  \n",
            "  inflating: 64x64_SIGNS/val_signs/2_IMG_4734.jpg  \n",
            "  inflating: 64x64_SIGNS/val_signs/2_IMG_4720.jpg  \n",
            "  inflating: 64x64_SIGNS/val_signs/5_IMG_5600.jpg  \n",
            "  inflating: 64x64_SIGNS/val_signs/2_IMG_4640.jpg  \n",
            "  inflating: 64x64_SIGNS/val_signs/4_IMG_5363.jpg  \n",
            "  inflating: 64x64_SIGNS/val_signs/4_IMG_5377.jpg  \n",
            "  inflating: 64x64_SIGNS/val_signs/5_IMG_5589.jpg  \n",
            "  inflating: 64x64_SIGNS/val_signs/3_IMG_6124.jpg  \n",
            "  inflating: 64x64_SIGNS/val_signs/5_IMG_5560.jpg  \n",
            "  inflating: 64x64_SIGNS/val_signs/2_IMG_4642.jpg  \n",
            "  inflating: 64x64_SIGNS/val_signs/2_IMG_4695.jpg  \n",
            "  inflating: 64x64_SIGNS/val_signs/3_IMG_6046.jpg  \n",
            "  inflating: 64x64_SIGNS/val_signs/0_IMG_6258.jpg  \n",
            "  inflating: 64x64_SIGNS/val_signs/1_IMG_4461.jpg  \n",
            "  inflating: 64x64_SIGNS/val_signs/2_IMG_4657.jpg  \n",
            "  inflating: 64x64_SIGNS/val_signs/2_IMG_4643.jpg  \n",
            "  inflating: 64x64_SIGNS/val_signs/5_IMG_5561.jpg  \n",
            "  inflating: 64x64_SIGNS/val_signs/3_IMG_6123.jpg  \n",
            "  inflating: 64x64_SIGNS/val_signs/2_IMG_4647.jpg  \n",
            "  inflating: 64x64_SIGNS/val_signs/2_IMG_4653.jpg  \n",
            "  inflating: 64x64_SIGNS/val_signs/1_IMG_4471.jpg  \n",
            "  inflating: 64x64_SIGNS/val_signs/3_IMG_6094.jpg  \n",
            "  inflating: 64x64_SIGNS/val_signs/0_IMG_6261.jpg  \n",
            "  inflating: 64x64_SIGNS/val_signs/0_IMG_5972.jpg  \n",
            "  inflating: 64x64_SIGNS/val_signs/3_IMG_6056.jpg  \n",
            "  inflating: 64x64_SIGNS/val_signs/5_IMG_5606.jpg  \n",
            "  inflating: 64x64_SIGNS/val_signs/2_IMG_4685.jpg  \n",
            "  inflating: 64x64_SIGNS/val_signs/2_IMG_4652.jpg  \n",
            "  inflating: 64x64_SIGNS/val_signs/0_IMG_6240 (1).jpg  \n",
            "  inflating: 64x64_SIGNS/val_signs/2_IMG_4724.jpg  \n",
            "  inflating: 64x64_SIGNS/val_signs/2_IMG_4718.jpg  \n",
            "  inflating: 64x64_SIGNS/val_signs/0_IMG_5958.jpg  \n",
            "  inflating: 64x64_SIGNS/val_signs/0_IMG_5964.jpg  \n",
            "  inflating: 64x64_SIGNS/val_signs/0_IMG_5970.jpg  \n",
            "  inflating: 64x64_SIGNS/val_signs/0_IMG_6276.jpg  \n",
            "  inflating: 64x64_SIGNS/val_signs/0_IMG_6263.jpg  \n",
            "  inflating: 64x64_SIGNS/val_signs/3_IMG_6096.jpg  \n",
            "  inflating: 64x64_SIGNS/val_signs/1_IMG_4513.jpg  \n",
            "  inflating: 64x64_SIGNS/val_signs/3_IMG_5992.jpg  \n",
            "  inflating: 64x64_SIGNS/val_signs/2_IMG_4725.jpg  \n",
            "  inflating: 64x64_SIGNS/val_signs/4_IMG_5399.jpg  \n",
            "  inflating: 64x64_SIGNS/val_signs/4_IMG_5400.jpg  \n",
            "  inflating: 64x64_SIGNS/val_signs/4_IMG_5428.jpg  \n",
            "  inflating: 64x64_SIGNS/val_signs/5_IMG_5573.jpg  \n",
            "  inflating: 64x64_SIGNS/val_signs/3_IMG_6121.jpg  \n",
            "   creating: 64x64_SIGNS/test_signs/\n",
            "  inflating: 64x64_SIGNS/test_signs/3_IMG_6110.jpg  \n",
            "  inflating: 64x64_SIGNS/test_signs/4_IMG_5425.jpg  \n",
            "  inflating: 64x64_SIGNS/test_signs/0_IMG_5969.jpg  \n",
            "  inflating: 64x64_SIGNS/test_signs/1_IMG_4523.jpg  \n",
            "  inflating: 64x64_SIGNS/test_signs/5_IMG_5621.jpg  \n",
            "  inflating: 64x64_SIGNS/test_signs/4_IMG_5381.jpg  \n",
            "  inflating: 64x64_SIGNS/test_signs/1_IMG_4457.jpg  \n",
            "  inflating: 64x64_SIGNS/test_signs/2_IMG_4661.jpg  \n",
            "  inflating: 64x64_SIGNS/test_signs/1_IMG_4480.jpg  \n",
            "  inflating: 64x64_SIGNS/test_signs/2_IMG_4649.jpg  \n",
            "  inflating: 64x64_SIGNS/test_signs/4_IMG_5340.jpg  \n",
            "  inflating: 64x64_SIGNS/test_signs/0_IMG_5943.jpg  \n",
            "  inflating: 64x64_SIGNS/test_signs/0_IMG_6278.jpg  \n",
            "  inflating: 64x64_SIGNS/test_signs/3_IMG_6099.jpg  \n",
            "  inflating: 64x64_SIGNS/test_signs/0_IMG_5942.jpg  \n",
            "  inflating: 64x64_SIGNS/test_signs/4_IMG_5235.jpg  \n",
            "  inflating: 64x64_SIGNS/test_signs/4_IMG_5396.jpg  \n",
            "  inflating: 64x64_SIGNS/test_signs/5_IMG_5540.jpg  \n",
            "  inflating: 64x64_SIGNS/test_signs/2_IMG_4699.jpg  \n",
            "  inflating: 64x64_SIGNS/test_signs/0_IMG_6240.jpg  \n",
            "  inflating: 64x64_SIGNS/test_signs/0_IMG_5990.jpg  \n",
            "  inflating: 64x64_SIGNS/test_signs/0_IMG_5947.jpg  \n",
            "  inflating: 64x64_SIGNS/test_signs/4_IMG_5350.jpg  \n",
            "  inflating: 64x64_SIGNS/test_signs/4_IMG_5226.jpg  \n",
            "  inflating: 64x64_SIGNS/test_signs/5_IMG_5625.jpg  \n",
            "  inflating: 64x64_SIGNS/test_signs/0_IMG_6280.jpg  \n",
            "  inflating: 64x64_SIGNS/test_signs/5_IMG_5433.jpg  \n",
            "  inflating: 64x64_SIGNS/test_signs/0_IMG_6242.jpg  \n",
            "  inflating: 64x64_SIGNS/test_signs/3_IMG_6048.jpg  \n",
            "  inflating: 64x64_SIGNS/test_signs/2_IMG_4710.jpg  \n",
            "  inflating: 64x64_SIGNS/test_signs/2_IMG_4658.jpg  \n",
            "  inflating: 64x64_SIGNS/test_signs/1_IMG_4491.jpg  \n",
            "  inflating: 64x64_SIGNS/test_signs/5_IMG_5546.jpg  \n",
            "  inflating: 64x64_SIGNS/test_signs/3_IMG_6198.jpg  \n",
            "  inflating: 64x64_SIGNS/test_signs/1_IMG_4384.jpg  \n",
            "  inflating: 64x64_SIGNS/test_signs/0_IMG_6224.jpg  \n",
            "  inflating: 64x64_SIGNS/test_signs/5_IMG_5440.jpg  \n",
            "  inflating: 64x64_SIGNS/test_signs/0_IMG_5980 (1).jpg  \n",
            "  inflating: 64x64_SIGNS/test_signs/0_IMG_5990 (1).jpg  \n",
            "  inflating: 64x64_SIGNS/test_signs/3_IMG_6172.jpg  \n",
            "  inflating: 64x64_SIGNS/test_signs/2_IMG_4628.jpg  \n",
            "  inflating: 64x64_SIGNS/test_signs/2_IMG_4600.jpg  \n",
            "  inflating: 64x64_SIGNS/test_signs/1_IMG_4436.jpg  \n",
            "  inflating: 64x64_SIGNS/test_signs/3_IMG_6212.jpg  \n",
            "  inflating: 64x64_SIGNS/test_signs/4_IMG_5294.jpg  \n",
            "  inflating: 64x64_SIGNS/test_signs/1_IMG_4580.jpg  \n",
            "  inflating: 64x64_SIGNS/test_signs/1_IMG_4392.jpg  \n",
            "  inflating: 64x64_SIGNS/test_signs/3_IMG_6171.jpg  \n",
            "  inflating: 64x64_SIGNS/test_signs/3_IMG_6149.jpg  \n",
            "  inflating: 64x64_SIGNS/test_signs/3_IMG_6203.jpg  \n",
            "  inflating: 64x64_SIGNS/test_signs/4_IMG_5285.jpg  \n",
            "  inflating: 64x64_SIGNS/test_signs/5_IMG_5453.jpg  \n",
            "  inflating: 64x64_SIGNS/test_signs/5_IMG_5447.jpg  \n",
            "  inflating: 64x64_SIGNS/test_signs/5_IMG_5484.jpg  \n",
            "  inflating: 64x64_SIGNS/test_signs/0_IMG_6237.jpg  \n",
            "  inflating: 64x64_SIGNS/test_signs/4_IMG_5333.jpg  \n",
            "  inflating: 64x64_SIGNS/test_signs/5_IMG_5532.jpg  \n",
            "  inflating: 64x64_SIGNS/test_signs/0_IMG_5975 (1).jpg  \n",
            "  inflating: 64x64_SIGNS/test_signs/2_IMG_4612.jpg  \n",
            "  inflating: 64x64_SIGNS/test_signs/3_IMG_6214.jpg  \n",
            "  inflating: 64x64_SIGNS/test_signs/1_IMG_4544.jpg  \n",
            "  inflating: 64x64_SIGNS/test_signs/2_IMG_4799.jpg  \n",
            "  inflating: 64x64_SIGNS/test_signs/5_IMG_5492.jpg  \n",
            "  inflating: 64x64_SIGNS/test_signs/3_IMG_6201.jpg  \n",
            "  inflating: 64x64_SIGNS/test_signs/3_IMG_6215.jpg  \n",
            "  inflating: 64x64_SIGNS/test_signs/1_IMG_4431.jpg  \n",
            "  inflating: 64x64_SIGNS/test_signs/2_IMG_4607.jpg  \n",
            "  inflating: 64x64_SIGNS/test_signs/5_IMG_5525.jpg  \n",
            "  inflating: 64x64_SIGNS/test_signs/5_IMG_5500.jpg  \n",
            "  inflating: 64x64_SIGNS/test_signs/3_IMG_6146.jpg  \n",
            "  inflating: 64x64_SIGNS/test_signs/4_IMG_5315.jpg  \n",
            "  inflating: 64x64_SIGNS/test_signs/2_IMG_4636.jpg  \n",
            "  inflating: 64x64_SIGNS/test_signs/2_IMG_4795.jpg  \n",
            "  inflating: 64x64_SIGNS/test_signs/0_IMG_6238.jpg  \n",
            "  inflating: 64x64_SIGNS/test_signs/0_IMG_6252 (1).jpg  \n",
            "  inflating: 64x64_SIGNS/test_signs/2_IMG_4757.jpg  \n",
            "  inflating: 64x64_SIGNS/test_signs/2_IMG_4804.jpg  \n",
            "  inflating: 64x64_SIGNS/test_signs/1_IMG_4415.jpg  \n",
            "  inflating: 64x64_SIGNS/test_signs/4_IMG_5328.jpg  \n",
            "  inflating: 64x64_SIGNS/test_signs/2_IMG_4621.jpg  \n",
            "  inflating: 64x64_SIGNS/test_signs/2_IMG_4595.jpg  \n",
            "  inflating: 64x64_SIGNS/test_signs/5_IMG_5462.jpg  \n",
            "  inflating: 64x64_SIGNS/test_signs/5_IMG_5476.jpg  \n",
            "  inflating: 64x64_SIGNS/test_signs/1_IMG_4562.jpg  \n",
            "  inflating: 64x64_SIGNS/test_signs/1_IMG_4402.jpg  \n",
            "  inflating: 64x64_SIGNS/test_signs/3_IMG_6144.jpg  \n",
            "  inflating: 64x64_SIGNS/test_signs/3_IMG_6140.jpg  \n",
            "  inflating: 64x64_SIGNS/test_signs/2_IMG_4787.jpg  \n",
            "  inflating: 64x64_SIGNS/test_signs/1_IMG_4407.jpg  \n",
            "  inflating: 64x64_SIGNS/test_signs/3_IMG_6196.jpg  \n",
            "  inflating: 64x64_SIGNS/test_signs/5_IMG_5513.jpg  \n",
            "  inflating: 64x64_SIGNS/test_signs/5_IMG_5507.jpg  \n",
            "  inflating: 64x64_SIGNS/test_signs/3_IMG_6141.jpg  \n",
            "  inflating: 64x64_SIGNS/test_signs/4_IMG_5304.jpg  \n",
            "  inflating: 64x64_SIGNS/test_signs/4_IMG_5258.jpg  \n",
            "  inflating: 64x64_SIGNS/test_signs/1_IMG_4571.jpg  \n",
            "  inflating: 64x64_SIGNS/test_signs/2_IMG_4586.jpg  \n",
            "  inflating: 64x64_SIGNS/test_signs/0_IMG_6253 (1).jpg  \n",
            "  inflating: 64x64_SIGNS/test_signs/5_IMG_5470.jpg  \n",
            "  inflating: 64x64_SIGNS/test_signs/4_IMG_5271.jpg  \n",
            "  inflating: 64x64_SIGNS/test_signs/3_IMG_6195.jpg  \n",
            "  inflating: 64x64_SIGNS/test_signs/3_IMG_6142.jpg  \n",
            "  inflating: 64x64_SIGNS/test_signs/4_IMG_5404.jpg  \n",
            "  inflating: 64x64_SIGNS/test_signs/4_IMG_5389.jpg  \n",
            "  inflating: 64x64_SIGNS/test_signs/3_IMG_6045.jpg  \n",
            "  inflating: 64x64_SIGNS/test_signs/1_IMG_4516.jpg  \n",
            "  inflating: 64x64_SIGNS/test_signs/4_IMG_5361.jpg  \n",
            "  inflating: 64x64_SIGNS/test_signs/0_IMG_5976.jpg  \n",
            "  inflating: 64x64_SIGNS/test_signs/1_IMG_4529.jpg  \n",
            "  inflating: 64x64_SIGNS/test_signs/4_IMG_5374.jpg  \n",
            "  inflating: 64x64_SIGNS/test_signs/4_IMG_5412.jpg  \n",
            "  inflating: 64x64_SIGNS/test_signs/1_IMG_4539.jpg  \n",
            "  inflating: 64x64_SIGNS/test_signs/0_IMG_6250 (1).jpg  \n",
            "  inflating: 64x64_SIGNS/test_signs/0_IMG_6276 (1).jpg  \n",
            "  inflating: 64x64_SIGNS/test_signs/5_IMG_5572.jpg  \n",
            "  inflating: 64x64_SIGNS/test_signs/5_IMG_5599.jpg  \n",
            "  inflating: 64x64_SIGNS/test_signs/2_IMG_4731.jpg  \n",
            "  inflating: 64x64_SIGNS/test_signs/1_IMG_4467.jpg  \n",
            "  inflating: 64x64_SIGNS/test_signs/2_IMG_4679.jpg  \n",
            "  inflating: 64x64_SIGNS/test_signs/1_IMG_4498.jpg  \n"
          ]
        }
      ]
    },
    {
      "cell_type": "code",
      "metadata": {
        "id": "n4XnaqbyIWZf"
      },
      "source": [
        "import sys\n",
        "course_path = '/gdrive/My Drive/dl-pytorch'\n",
        "sys.path.append(course_path)"
      ],
      "execution_count": null,
      "outputs": []
    },
    {
      "cell_type": "code",
      "metadata": {
        "id": "GZKYtAB6IWcn"
      },
      "source": [
        "import plot_helpers"
      ],
      "execution_count": null,
      "outputs": []
    },
    {
      "cell_type": "code",
      "metadata": {
        "colab": {
          "base_uri": "https://localhost:8080/"
        },
        "id": "-TiJd2VLIWgW",
        "outputId": "2198e69f-e162-4060-b4fb-0ce1c6716088"
      },
      "source": [
        "dir(plot_helpers)"
      ],
      "execution_count": null,
      "outputs": [
        {
          "output_type": "execute_result",
          "data": {
            "text/plain": [
              "['__builtins__',\n",
              " '__cached__',\n",
              " '__doc__',\n",
              " '__file__',\n",
              " '__loader__',\n",
              " '__name__',\n",
              " '__package__',\n",
              " '__spec__',\n",
              " 'french',\n",
              " 'imshow',\n",
              " 'io',\n",
              " 'np',\n",
              " 'plot_cube',\n",
              " 'plot_rgb_image',\n",
              " 'plt',\n",
              " 'torch',\n",
              " 'visualize_model']"
            ]
          },
          "metadata": {},
          "execution_count": 12
        }
      ]
    },
    {
      "cell_type": "markdown",
      "metadata": {
        "id": "Q3NGepuyJIbx"
      },
      "source": [
        "pasar a codigo en pytorch"
      ]
    },
    {
      "cell_type": "markdown",
      "metadata": {
        "id": "jC22D5C7JQlo"
      },
      "source": [
        "##CLASE # 6"
      ]
    },
    {
      "cell_type": "code",
      "metadata": {
        "id": "w0382NdgJITI"
      },
      "source": [
        "import torch"
      ],
      "execution_count": null,
      "outputs": []
    },
    {
      "cell_type": "code",
      "metadata": {
        "id": "5wQuwiXiJIQr"
      },
      "source": [
        "A =torch.randn((8,3,5))"
      ],
      "execution_count": null,
      "outputs": []
    },
    {
      "cell_type": "code",
      "metadata": {
        "colab": {
          "base_uri": "https://localhost:8080/"
        },
        "id": "iCvuAVt_JINd",
        "outputId": "fbe357c8-9c04-4096-e15e-3c946f860aed"
      },
      "source": [
        "A.size()"
      ],
      "execution_count": null,
      "outputs": [
        {
          "output_type": "execute_result",
          "data": {
            "text/plain": [
              "torch.Size([8, 3, 5])"
            ]
          },
          "metadata": {},
          "execution_count": 16
        }
      ]
    },
    {
      "cell_type": "code",
      "metadata": {
        "colab": {
          "base_uri": "https://localhost:8080/"
        },
        "id": "Fql-qbaLJIKp",
        "outputId": "614c258a-6adc-4deb-d347-f2fd99b860ff"
      },
      "source": [
        "A.size() == (8,3,5)"
      ],
      "execution_count": null,
      "outputs": [
        {
          "output_type": "execute_result",
          "data": {
            "text/plain": [
              "True"
            ]
          },
          "metadata": {},
          "execution_count": 17
        }
      ]
    },
    {
      "cell_type": "code",
      "metadata": {
        "colab": {
          "base_uri": "https://localhost:8080/"
        },
        "id": "qnyAYpxoJIHw",
        "outputId": "50aa8ceb-640e-4bb8-9d41-2a767e19e0f8"
      },
      "source": [
        "#A[0][0][0]\n",
        "#A[0,0,0]\n",
        "A[0,:,0]"
      ],
      "execution_count": null,
      "outputs": [
        {
          "output_type": "execute_result",
          "data": {
            "text/plain": [
              "tensor([-2.2072, -0.1922,  0.2146])"
            ]
          },
          "metadata": {},
          "execution_count": 23
        }
      ]
    },
    {
      "cell_type": "code",
      "metadata": {
        "id": "6Nl2hr85JIE9"
      },
      "source": [
        "C = torch.zeros((5,5))"
      ],
      "execution_count": null,
      "outputs": []
    },
    {
      "cell_type": "code",
      "metadata": {
        "colab": {
          "base_uri": "https://localhost:8080/"
        },
        "id": "H623hFxJK1Ll",
        "outputId": "239ae46c-708c-49e4-a216-4ec8858d7e24"
      },
      "source": [
        "C.dtype"
      ],
      "execution_count": null,
      "outputs": [
        {
          "output_type": "execute_result",
          "data": {
            "text/plain": [
              "torch.float32"
            ]
          },
          "metadata": {},
          "execution_count": 26
        }
      ]
    },
    {
      "cell_type": "code",
      "metadata": {
        "id": "1yl-U4MtK1F9"
      },
      "source": [
        "D = torch.randint(2,(5,5))"
      ],
      "execution_count": null,
      "outputs": []
    },
    {
      "cell_type": "code",
      "metadata": {
        "colab": {
          "base_uri": "https://localhost:8080/"
        },
        "id": "jX-xqVh3K1C0",
        "outputId": "df1879d2-ce9e-435a-ca56-b8270e488c1d"
      },
      "source": [
        "D"
      ],
      "execution_count": null,
      "outputs": [
        {
          "output_type": "execute_result",
          "data": {
            "text/plain": [
              "tensor([[1, 0, 1, 0, 0],\n",
              "        [0, 1, 0, 0, 0],\n",
              "        [1, 1, 0, 0, 0],\n",
              "        [1, 1, 0, 0, 1],\n",
              "        [0, 1, 0, 0, 1]])"
            ]
          },
          "metadata": {},
          "execution_count": 28
        }
      ]
    },
    {
      "cell_type": "code",
      "metadata": {
        "colab": {
          "base_uri": "https://localhost:8080/"
        },
        "id": "rRVGPLBqK09H",
        "outputId": "94563a88-1498-441a-eea6-b0079831fa0f"
      },
      "source": [
        "D.dtype"
      ],
      "execution_count": null,
      "outputs": [
        {
          "output_type": "execute_result",
          "data": {
            "text/plain": [
              "torch.int64"
            ]
          },
          "metadata": {},
          "execution_count": 29
        }
      ]
    },
    {
      "cell_type": "code",
      "metadata": {
        "colab": {
          "base_uri": "https://localhost:8080/"
        },
        "id": "-Wkcws2TK06h",
        "outputId": "60ef580b-bd8c-456a-d84d-1c9da2f97dd5"
      },
      "source": [
        "C + D\n",
        "#c +D.float()"
      ],
      "execution_count": null,
      "outputs": [
        {
          "output_type": "execute_result",
          "data": {
            "text/plain": [
              "tensor([[1., 0., 1., 0., 0.],\n",
              "        [0., 1., 0., 0., 0.],\n",
              "        [1., 1., 0., 0., 0.],\n",
              "        [1., 1., 0., 0., 1.],\n",
              "        [0., 1., 0., 0., 1.]])"
            ]
          },
          "metadata": {},
          "execution_count": 31
        }
      ]
    },
    {
      "cell_type": "code",
      "metadata": {
        "id": "15GtE2IiLdy2"
      },
      "source": [
        "torch.set_default_tensor_type('torch.FloatTensor')"
      ],
      "execution_count": null,
      "outputs": []
    },
    {
      "cell_type": "code",
      "metadata": {
        "colab": {
          "base_uri": "https://localhost:8080/"
        },
        "id": "hSRZfYsxLdwf",
        "outputId": "e61ad1ba-80af-417e-8615-0c86795e46b7"
      },
      "source": [
        "C.device\n",
        "D.device"
      ],
      "execution_count": null,
      "outputs": [
        {
          "output_type": "execute_result",
          "data": {
            "text/plain": [
              "device(type='cpu')"
            ]
          },
          "metadata": {},
          "execution_count": 36
        }
      ]
    },
    {
      "cell_type": "code",
      "metadata": {
        "colab": {
          "base_uri": "https://localhost:8080/"
        },
        "id": "zmDziM0iLdqu",
        "outputId": "d6951951-0f59-4401-db56-e930ee6cbe79"
      },
      "source": [
        "torch.cuda.is_available()"
      ],
      "execution_count": null,
      "outputs": [
        {
          "output_type": "execute_result",
          "data": {
            "text/plain": [
              "False"
            ]
          },
          "metadata": {},
          "execution_count": 42
        }
      ]
    },
    {
      "cell_type": "markdown",
      "metadata": {
        "id": "BXdMGr7HMA98"
      },
      "source": [
        "##CLASE #7"
      ]
    },
    {
      "cell_type": "code",
      "metadata": {
        "colab": {
          "base_uri": "https://localhost:8080/"
        },
        "id": "YwOeZ9hGLdn4",
        "outputId": "63b8b1d7-b62b-4422-931f-be11642a858a"
      },
      "source": [
        "# ir a entorno de ejecucion y activar GPU\n",
        "import torch\n",
        "torch.cuda.is_available()"
      ],
      "execution_count": null,
      "outputs": [
        {
          "output_type": "execute_result",
          "data": {
            "text/plain": [
              "True"
            ]
          },
          "metadata": {},
          "execution_count": 1
        }
      ]
    },
    {
      "cell_type": "code",
      "metadata": {
        "id": "xaIllrP6LdiU"
      },
      "source": [
        "device = torch.device('cuda' if torch.cuda.is_available() else 'cpu')"
      ],
      "execution_count": null,
      "outputs": []
    },
    {
      "cell_type": "code",
      "metadata": {
        "id": "zFjkWfvXNCN8"
      },
      "source": [
        "x=torch.randn(3,5)#cpu\n",
        "y=torch.ones_like(x, device=device)#gpu"
      ],
      "execution_count": null,
      "outputs": []
    },
    {
      "cell_type": "code",
      "metadata": {
        "id": "AKAt7pzcNCLK"
      },
      "source": [
        "x = x.to(device)"
      ],
      "execution_count": null,
      "outputs": []
    },
    {
      "cell_type": "code",
      "metadata": {
        "id": "jVsST09CNCIM"
      },
      "source": [
        "z = x + y "
      ],
      "execution_count": null,
      "outputs": []
    },
    {
      "cell_type": "code",
      "metadata": {
        "colab": {
          "base_uri": "https://localhost:8080/"
        },
        "id": "piaP9imkNCC4",
        "outputId": "9585cbea-c588-43c0-8837-8902f87a94f2"
      },
      "source": [
        "print(z)\n",
        "print(z.cpu())"
      ],
      "execution_count": null,
      "outputs": [
        {
          "output_type": "stream",
          "name": "stdout",
          "text": [
            "tensor([[2.5743, 3.6365, 2.7374, 2.4702, 2.5950],\n",
            "        [1.9663, 3.0476, 1.6825, 3.6779, 1.2996],\n",
            "        [2.9634, 2.6593, 2.1972, 2.2801, 1.7070]], device='cuda:0')\n",
            "tensor([[2.5743, 3.6365, 2.7374, 2.4702, 2.5950],\n",
            "        [1.9663, 3.0476, 1.6825, 3.6779, 1.2996],\n",
            "        [2.9634, 2.6593, 2.1972, 2.2801, 1.7070]])\n"
          ]
        }
      ]
    },
    {
      "cell_type": "code",
      "metadata": {
        "colab": {
          "base_uri": "https://localhost:8080/"
        },
        "id": "1NPXh7PCNw66",
        "outputId": "f503e888-fcf6-42fb-9dc6-f837f536fe44"
      },
      "source": [
        "from google.colab import drive\n",
        "drive.mount('/gdrive')"
      ],
      "execution_count": null,
      "outputs": [
        {
          "output_type": "stream",
          "name": "stdout",
          "text": [
            "Mounted at /gdrive\n"
          ]
        }
      ]
    },
    {
      "cell_type": "code",
      "metadata": {
        "id": "EW-QkSDvNw1Q"
      },
      "source": [
        "from torchvision import datasets"
      ],
      "execution_count": null,
      "outputs": []
    },
    {
      "cell_type": "code",
      "metadata": {
        "colab": {
          "base_uri": "https://localhost:8080/"
        },
        "id": "L4l77AiwNwyi",
        "outputId": "711ea740-c637-46f5-eb45-7992ec47bec1"
      },
      "source": [
        "dir(datasets)"
      ],
      "execution_count": null,
      "outputs": [
        {
          "output_type": "execute_result",
          "data": {
            "text/plain": [
              "['CIFAR10',\n",
              " 'CIFAR100',\n",
              " 'Caltech101',\n",
              " 'Caltech256',\n",
              " 'CelebA',\n",
              " 'Cityscapes',\n",
              " 'CocoCaptions',\n",
              " 'CocoDetection',\n",
              " 'DatasetFolder',\n",
              " 'EMNIST',\n",
              " 'FakeData',\n",
              " 'FashionMNIST',\n",
              " 'Flickr30k',\n",
              " 'Flickr8k',\n",
              " 'HMDB51',\n",
              " 'ImageFolder',\n",
              " 'ImageNet',\n",
              " 'KMNIST',\n",
              " 'Kinetics400',\n",
              " 'Kitti',\n",
              " 'LSUN',\n",
              " 'LSUNClass',\n",
              " 'MNIST',\n",
              " 'Omniglot',\n",
              " 'PhotoTour',\n",
              " 'Places365',\n",
              " 'QMNIST',\n",
              " 'SBDataset',\n",
              " 'SBU',\n",
              " 'SEMEION',\n",
              " 'STL10',\n",
              " 'SVHN',\n",
              " 'UCF101',\n",
              " 'USPS',\n",
              " 'VOCDetection',\n",
              " 'VOCSegmentation',\n",
              " 'VisionDataset',\n",
              " 'WIDERFace',\n",
              " '__all__',\n",
              " '__builtins__',\n",
              " '__cached__',\n",
              " '__doc__',\n",
              " '__file__',\n",
              " '__loader__',\n",
              " '__name__',\n",
              " '__package__',\n",
              " '__path__',\n",
              " '__spec__',\n",
              " '_utils',\n",
              " 'caltech',\n",
              " 'celeba',\n",
              " 'cifar',\n",
              " 'cityscapes',\n",
              " 'coco',\n",
              " 'fakedata',\n",
              " 'flickr',\n",
              " 'folder',\n",
              " 'hmdb51',\n",
              " 'imagenet',\n",
              " 'kinetics',\n",
              " 'kitti',\n",
              " 'lsun',\n",
              " 'mnist',\n",
              " 'omniglot',\n",
              " 'phototour',\n",
              " 'places365',\n",
              " 'sbd',\n",
              " 'sbu',\n",
              " 'semeion',\n",
              " 'stl10',\n",
              " 'svhn',\n",
              " 'ucf101',\n",
              " 'usps',\n",
              " 'utils',\n",
              " 'video_utils',\n",
              " 'vision',\n",
              " 'voc',\n",
              " 'widerface']"
            ]
          },
          "metadata": {},
          "execution_count": 14
        }
      ]
    },
    {
      "cell_type": "code",
      "metadata": {
        "colab": {
          "base_uri": "https://localhost:8080/",
          "height": 103,
          "referenced_widgets": [
            "434668bf4f5842108ff554619c5d63b6",
            "418ea749190c4dd89cf2c8515fbe23f0",
            "4211da71449147ceace2b342d0627ef8",
            "320287f4c5e6484aae93f8094c822e30",
            "9d7b1722b8984fd586ee414b4e8037ad",
            "af0b5ef296a44994bc5170b05743404b",
            "b746acfddf1644c6ae7eb4b55ca47bd7",
            "fe857afac60a4b9abbf219ad2fd9342e",
            "eaa3fd0866834f4e8c7d09d3483eab8f",
            "f132b389de614346bd97d18e4a5ef450",
            "3d52c9cea69841e89406da90a51dcf64"
          ]
        },
        "id": "BE92BadLNwt5",
        "outputId": "979d47e1-82ab-4a51-9e6f-cf5993e6ec63"
      },
      "source": [
        "cifar = datasets.CIFAR10('/gdrive/My Drive/dl-pytorch/datasets', download=True)"
      ],
      "execution_count": null,
      "outputs": [
        {
          "output_type": "stream",
          "name": "stdout",
          "text": [
            "Downloading https://www.cs.toronto.edu/~kriz/cifar-10-python.tar.gz to /gdrive/My Drive/dl-pytorch/datasets/cifar-10-python.tar.gz\n"
          ]
        },
        {
          "output_type": "display_data",
          "data": {
            "application/vnd.jupyter.widget-view+json": {
              "model_id": "434668bf4f5842108ff554619c5d63b6",
              "version_minor": 0,
              "version_major": 2
            },
            "text/plain": [
              "  0%|          | 0/170498071 [00:00<?, ?it/s]"
            ]
          },
          "metadata": {}
        },
        {
          "output_type": "stream",
          "name": "stdout",
          "text": [
            "Extracting /gdrive/My Drive/dl-pytorch/datasets/cifar-10-python.tar.gz to /gdrive/My Drive/dl-pytorch/datasets\n"
          ]
        }
      ]
    },
    {
      "cell_type": "code",
      "metadata": {
        "colab": {
          "base_uri": "https://localhost:8080/"
        },
        "id": "FJNFYvBiNwrW",
        "outputId": "c5e74e26-536d-4aae-9f9c-5f5b9640c9bb"
      },
      "source": [
        "len(cifar)"
      ],
      "execution_count": null,
      "outputs": [
        {
          "output_type": "execute_result",
          "data": {
            "text/plain": [
              "50000"
            ]
          },
          "metadata": {},
          "execution_count": 18
        }
      ]
    },
    {
      "cell_type": "code",
      "metadata": {
        "colab": {
          "base_uri": "https://localhost:8080/"
        },
        "id": "VfDcrM8COoss",
        "outputId": "c4578fe1-9f34-4094-a409-20a3569c1d24"
      },
      "source": [
        "cifar.data"
      ],
      "execution_count": null,
      "outputs": [
        {
          "output_type": "execute_result",
          "data": {
            "text/plain": [
              "array([[[[ 59,  62,  63],\n",
              "         [ 43,  46,  45],\n",
              "         [ 50,  48,  43],\n",
              "         ...,\n",
              "         [158, 132, 108],\n",
              "         [152, 125, 102],\n",
              "         [148, 124, 103]],\n",
              "\n",
              "        [[ 16,  20,  20],\n",
              "         [  0,   0,   0],\n",
              "         [ 18,   8,   0],\n",
              "         ...,\n",
              "         [123,  88,  55],\n",
              "         [119,  83,  50],\n",
              "         [122,  87,  57]],\n",
              "\n",
              "        [[ 25,  24,  21],\n",
              "         [ 16,   7,   0],\n",
              "         [ 49,  27,   8],\n",
              "         ...,\n",
              "         [118,  84,  50],\n",
              "         [120,  84,  50],\n",
              "         [109,  73,  42]],\n",
              "\n",
              "        ...,\n",
              "\n",
              "        [[208, 170,  96],\n",
              "         [201, 153,  34],\n",
              "         [198, 161,  26],\n",
              "         ...,\n",
              "         [160, 133,  70],\n",
              "         [ 56,  31,   7],\n",
              "         [ 53,  34,  20]],\n",
              "\n",
              "        [[180, 139,  96],\n",
              "         [173, 123,  42],\n",
              "         [186, 144,  30],\n",
              "         ...,\n",
              "         [184, 148,  94],\n",
              "         [ 97,  62,  34],\n",
              "         [ 83,  53,  34]],\n",
              "\n",
              "        [[177, 144, 116],\n",
              "         [168, 129,  94],\n",
              "         [179, 142,  87],\n",
              "         ...,\n",
              "         [216, 184, 140],\n",
              "         [151, 118,  84],\n",
              "         [123,  92,  72]]],\n",
              "\n",
              "\n",
              "       [[[154, 177, 187],\n",
              "         [126, 137, 136],\n",
              "         [105, 104,  95],\n",
              "         ...,\n",
              "         [ 91,  95,  71],\n",
              "         [ 87,  90,  71],\n",
              "         [ 79,  81,  70]],\n",
              "\n",
              "        [[140, 160, 169],\n",
              "         [145, 153, 154],\n",
              "         [125, 125, 118],\n",
              "         ...,\n",
              "         [ 96,  99,  78],\n",
              "         [ 77,  80,  62],\n",
              "         [ 71,  73,  61]],\n",
              "\n",
              "        [[140, 155, 164],\n",
              "         [139, 146, 149],\n",
              "         [115, 115, 112],\n",
              "         ...,\n",
              "         [ 79,  82,  64],\n",
              "         [ 68,  70,  55],\n",
              "         [ 67,  69,  55]],\n",
              "\n",
              "        ...,\n",
              "\n",
              "        [[175, 167, 166],\n",
              "         [156, 154, 160],\n",
              "         [154, 160, 170],\n",
              "         ...,\n",
              "         [ 42,  34,  36],\n",
              "         [ 61,  53,  57],\n",
              "         [ 93,  83,  91]],\n",
              "\n",
              "        [[165, 154, 128],\n",
              "         [156, 152, 130],\n",
              "         [159, 161, 142],\n",
              "         ...,\n",
              "         [103,  93,  96],\n",
              "         [123, 114, 120],\n",
              "         [131, 121, 131]],\n",
              "\n",
              "        [[163, 148, 120],\n",
              "         [158, 148, 122],\n",
              "         [163, 156, 133],\n",
              "         ...,\n",
              "         [143, 133, 139],\n",
              "         [143, 134, 142],\n",
              "         [143, 133, 144]]],\n",
              "\n",
              "\n",
              "       [[[255, 255, 255],\n",
              "         [253, 253, 253],\n",
              "         [253, 253, 253],\n",
              "         ...,\n",
              "         [253, 253, 253],\n",
              "         [253, 253, 253],\n",
              "         [253, 253, 253]],\n",
              "\n",
              "        [[255, 255, 255],\n",
              "         [255, 255, 255],\n",
              "         [255, 255, 255],\n",
              "         ...,\n",
              "         [255, 255, 255],\n",
              "         [255, 255, 255],\n",
              "         [255, 255, 255]],\n",
              "\n",
              "        [[255, 255, 255],\n",
              "         [254, 254, 254],\n",
              "         [254, 254, 254],\n",
              "         ...,\n",
              "         [254, 254, 254],\n",
              "         [254, 254, 254],\n",
              "         [254, 254, 254]],\n",
              "\n",
              "        ...,\n",
              "\n",
              "        [[113, 120, 112],\n",
              "         [111, 118, 111],\n",
              "         [105, 112, 106],\n",
              "         ...,\n",
              "         [ 72,  81,  80],\n",
              "         [ 72,  80,  79],\n",
              "         [ 72,  80,  79]],\n",
              "\n",
              "        [[111, 118, 110],\n",
              "         [104, 111, 104],\n",
              "         [ 99, 106,  98],\n",
              "         ...,\n",
              "         [ 68,  75,  73],\n",
              "         [ 70,  76,  75],\n",
              "         [ 78,  84,  82]],\n",
              "\n",
              "        [[106, 113, 105],\n",
              "         [ 99, 106,  98],\n",
              "         [ 95, 102,  94],\n",
              "         ...,\n",
              "         [ 78,  85,  83],\n",
              "         [ 79,  85,  83],\n",
              "         [ 80,  86,  84]]],\n",
              "\n",
              "\n",
              "       ...,\n",
              "\n",
              "\n",
              "       [[[ 35, 178, 235],\n",
              "         [ 40, 176, 239],\n",
              "         [ 42, 176, 241],\n",
              "         ...,\n",
              "         [ 99, 177, 219],\n",
              "         [ 79, 147, 197],\n",
              "         [ 89, 148, 189]],\n",
              "\n",
              "        [[ 57, 182, 234],\n",
              "         [ 44, 184, 250],\n",
              "         [ 50, 183, 240],\n",
              "         ...,\n",
              "         [156, 182, 200],\n",
              "         [141, 177, 206],\n",
              "         [116, 149, 175]],\n",
              "\n",
              "        [[ 98, 197, 237],\n",
              "         [ 64, 189, 252],\n",
              "         [ 69, 192, 245],\n",
              "         ...,\n",
              "         [188, 195, 206],\n",
              "         [119, 135, 147],\n",
              "         [ 61,  79,  90]],\n",
              "\n",
              "        ...,\n",
              "\n",
              "        [[ 73,  79,  77],\n",
              "         [ 53,  63,  68],\n",
              "         [ 54,  68,  80],\n",
              "         ...,\n",
              "         [ 17,  40,  64],\n",
              "         [ 21,  36,  51],\n",
              "         [ 33,  48,  49]],\n",
              "\n",
              "        [[ 61,  68,  75],\n",
              "         [ 55,  70,  86],\n",
              "         [ 57,  79, 103],\n",
              "         ...,\n",
              "         [ 24,  48,  72],\n",
              "         [ 17,  35,  53],\n",
              "         [  7,  23,  32]],\n",
              "\n",
              "        [[ 44,  56,  73],\n",
              "         [ 46,  66,  88],\n",
              "         [ 49,  77, 105],\n",
              "         ...,\n",
              "         [ 27,  52,  77],\n",
              "         [ 21,  43,  66],\n",
              "         [ 12,  31,  50]]],\n",
              "\n",
              "\n",
              "       [[[189, 211, 240],\n",
              "         [186, 208, 236],\n",
              "         [185, 207, 235],\n",
              "         ...,\n",
              "         [175, 195, 224],\n",
              "         [172, 194, 222],\n",
              "         [169, 194, 220]],\n",
              "\n",
              "        [[194, 210, 239],\n",
              "         [191, 207, 236],\n",
              "         [190, 206, 235],\n",
              "         ...,\n",
              "         [173, 192, 220],\n",
              "         [171, 191, 218],\n",
              "         [167, 190, 216]],\n",
              "\n",
              "        [[208, 219, 244],\n",
              "         [205, 216, 240],\n",
              "         [204, 215, 239],\n",
              "         ...,\n",
              "         [175, 191, 217],\n",
              "         [172, 190, 216],\n",
              "         [169, 191, 215]],\n",
              "\n",
              "        ...,\n",
              "\n",
              "        [[207, 199, 181],\n",
              "         [203, 195, 175],\n",
              "         [203, 196, 173],\n",
              "         ...,\n",
              "         [135, 132, 127],\n",
              "         [162, 158, 150],\n",
              "         [168, 163, 151]],\n",
              "\n",
              "        [[198, 190, 170],\n",
              "         [189, 181, 159],\n",
              "         [180, 172, 147],\n",
              "         ...,\n",
              "         [178, 171, 160],\n",
              "         [175, 169, 156],\n",
              "         [175, 169, 154]],\n",
              "\n",
              "        [[198, 189, 173],\n",
              "         [189, 181, 162],\n",
              "         [178, 170, 149],\n",
              "         ...,\n",
              "         [195, 184, 169],\n",
              "         [196, 189, 171],\n",
              "         [195, 190, 171]]],\n",
              "\n",
              "\n",
              "       [[[229, 229, 239],\n",
              "         [236, 237, 247],\n",
              "         [234, 236, 247],\n",
              "         ...,\n",
              "         [217, 219, 233],\n",
              "         [221, 223, 234],\n",
              "         [222, 223, 233]],\n",
              "\n",
              "        [[222, 221, 229],\n",
              "         [239, 239, 249],\n",
              "         [233, 234, 246],\n",
              "         ...,\n",
              "         [223, 223, 236],\n",
              "         [227, 228, 238],\n",
              "         [210, 211, 220]],\n",
              "\n",
              "        [[213, 206, 211],\n",
              "         [234, 232, 239],\n",
              "         [231, 233, 244],\n",
              "         ...,\n",
              "         [220, 220, 232],\n",
              "         [220, 219, 232],\n",
              "         [202, 203, 215]],\n",
              "\n",
              "        ...,\n",
              "\n",
              "        [[150, 143, 135],\n",
              "         [140, 135, 127],\n",
              "         [132, 127, 120],\n",
              "         ...,\n",
              "         [224, 222, 218],\n",
              "         [230, 228, 225],\n",
              "         [241, 241, 238]],\n",
              "\n",
              "        [[137, 132, 126],\n",
              "         [130, 127, 120],\n",
              "         [125, 121, 115],\n",
              "         ...,\n",
              "         [181, 180, 178],\n",
              "         [202, 201, 198],\n",
              "         [212, 211, 207]],\n",
              "\n",
              "        [[122, 119, 114],\n",
              "         [118, 116, 110],\n",
              "         [120, 116, 111],\n",
              "         ...,\n",
              "         [179, 177, 173],\n",
              "         [164, 164, 162],\n",
              "         [163, 163, 161]]]], dtype=uint8)"
            ]
          },
          "metadata": {},
          "execution_count": 21
        }
      ]
    },
    {
      "cell_type": "code",
      "metadata": {
        "id": "PcTDEYZCOoqA"
      },
      "source": [
        "data = torch.Tensor(cifar.data)"
      ],
      "execution_count": null,
      "outputs": []
    },
    {
      "cell_type": "code",
      "metadata": {
        "colab": {
          "base_uri": "https://localhost:8080/"
        },
        "id": "cj864RsEOokr",
        "outputId": "50f32144-69e2-4105-f6b4-874ef29a7111"
      },
      "source": [
        "data.size()"
      ],
      "execution_count": null,
      "outputs": [
        {
          "output_type": "execute_result",
          "data": {
            "text/plain": [
              "torch.Size([50000, 32, 32, 3])"
            ]
          },
          "metadata": {},
          "execution_count": 23
        }
      ]
    },
    {
      "cell_type": "markdown",
      "metadata": {
        "id": "O67pv7YBO8IZ"
      },
      "source": [
        "-> del data size vemos que el tensor es de 4 dimensiones; \n",
        "1era -> apilar todas la imagenes del dataset\n",
        "2-> pixeles 32 x 32 (imagenes que tratamos)\n",
        "3-> cantidad de canales (3matrizes RGB -cubo)"
      ]
    },
    {
      "cell_type": "markdown",
      "metadata": {
        "id": "FsFu5pnaPbXl"
      },
      "source": [
        "# CLASE #8"
      ]
    },
    {
      "cell_type": "code",
      "metadata": {
        "id": "vUArsrujOoiD"
      },
      "source": [
        "import torch\n",
        "import torch.nn as nn\n",
        "#instanciar 3 capaz\n",
        "linear = nn.Linear(in_features=4096, out_features=10) # toma solo tensores de dimesion 1 input\n",
        "#crear capa convolucional\n",
        "conv = nn.Conv2d(in_channels=3,out_channels=9, kernel_size=3,stride=1, padding=1) #modificar canales pero no modifica el tamano de la imagen\n",
        "#efecto sobre la dimension del tensor debe ser clara\n",
        "relu = nn.ReLU(False)\n"
      ],
      "execution_count": null,
      "outputs": []
    },
    {
      "cell_type": "code",
      "metadata": {
        "colab": {
          "base_uri": "https://localhost:8080/"
        },
        "id": "da6yAzxFOodH",
        "outputId": "3383e34c-c81e-4c0d-cde8-6a717a5b1f41"
      },
      "source": [
        "#las capas son una funcion, intentemos un x-> y\n",
        "x = torch.randn(4096)\n",
        "y = linear(x) #transformacion lineal -> multiplicacion de por una matriz\n",
        "y.size()"
      ],
      "execution_count": null,
      "outputs": [
        {
          "output_type": "execute_result",
          "data": {
            "text/plain": [
              "torch.Size([10])"
            ]
          },
          "metadata": {},
          "execution_count": 29
        }
      ]
    },
    {
      "cell_type": "code",
      "metadata": {
        "colab": {
          "base_uri": "https://localhost:8080/"
        },
        "id": "k8ong-H6Pa8D",
        "outputId": "a38f5bd8-6c8c-458d-eabd-93bbec6075af"
      },
      "source": [
        "x = torch.randn(1,3,7,7)\n",
        "y = conv(x)\n",
        "z = relu(x)\n",
        "y.size()"
      ],
      "execution_count": null,
      "outputs": [
        {
          "output_type": "execute_result",
          "data": {
            "text/plain": [
              "torch.Size([1, 9, 7, 7])"
            ]
          },
          "metadata": {},
          "execution_count": 30
        }
      ]
    },
    {
      "cell_type": "code",
      "metadata": {
        "colab": {
          "base_uri": "https://localhost:8080/"
        },
        "id": "AtST7zgaOoaG",
        "outputId": "da211b33-ebb9-4d40-c292-46b1bdc5fb30"
      },
      "source": [
        "x"
      ],
      "execution_count": null,
      "outputs": [
        {
          "output_type": "execute_result",
          "data": {
            "text/plain": [
              "tensor([[[[-6.7222e-01,  8.9782e-01, -6.5079e-01, -4.0107e-01, -1.1279e+00,\n",
              "            1.9186e-01,  9.5131e-01],\n",
              "          [-3.0082e-01, -5.9945e-02, -1.9667e-01, -9.7337e-01, -7.7140e-01,\n",
              "           -4.1813e-01,  3.6689e-01],\n",
              "          [ 1.4106e+00, -2.4249e+00, -1.2859e-01, -2.0203e-01,  1.2177e-01,\n",
              "            3.5669e-01, -1.7099e+00],\n",
              "          [ 5.0759e-01, -1.1446e+00, -3.9091e-01,  1.3660e+00, -3.0783e-01,\n",
              "            2.3051e+00,  1.4421e-02],\n",
              "          [-1.9685e-01,  2.9094e-01, -4.1680e-01, -6.1323e-01,  1.2325e+00,\n",
              "           -1.0920e+00, -1.5093e+00],\n",
              "          [ 7.5027e-02,  8.9265e-01, -6.2308e-01, -3.5901e-01, -1.7316e+00,\n",
              "            3.8904e-01, -1.3222e+00],\n",
              "          [ 7.5249e-01,  6.2341e-01, -7.9815e-01,  1.0206e+00,  1.0154e+00,\n",
              "           -9.6533e-01,  7.4109e-01]],\n",
              "\n",
              "         [[ 5.5953e-02, -1.4041e+00, -8.8293e-01,  2.3953e-01, -1.3847e+00,\n",
              "           -9.3247e-01,  1.7131e-01],\n",
              "          [-5.4604e-01,  2.8160e-01, -5.2566e-01,  6.3195e-02, -3.1393e-01,\n",
              "            6.9675e-01, -1.4323e+00],\n",
              "          [-6.9997e-01,  6.5084e-01,  1.2393e+00,  1.4677e+00, -2.3456e+00,\n",
              "            1.7207e+00,  6.4688e-01],\n",
              "          [-6.0856e-01, -4.6191e-01, -6.9128e-02,  4.3593e-01,  2.7153e-03,\n",
              "           -2.0022e+00, -9.7512e-01],\n",
              "          [-2.1001e-01, -5.1206e-02, -1.6785e+00,  1.9667e-01,  5.8506e-01,\n",
              "            7.9940e-02,  2.3063e+00],\n",
              "          [ 2.4579e-01,  5.2251e-01, -3.5476e-01, -1.2449e+00,  2.6555e-01,\n",
              "           -1.6841e+00, -2.8133e+00],\n",
              "          [ 1.2561e-01,  1.8969e+00, -2.7330e+00, -3.9238e-01,  7.3468e-01,\n",
              "            6.9645e-01, -3.6636e-01]],\n",
              "\n",
              "         [[ 5.3930e-01,  8.5448e-02, -8.2746e-01, -4.9501e-01, -2.0695e-01,\n",
              "            9.0000e-03,  8.8055e-01],\n",
              "          [-6.4479e-01, -1.7643e+00, -4.9950e-01,  2.1002e+00, -7.7307e-01,\n",
              "            1.4160e+00, -6.2948e-01],\n",
              "          [-1.4444e+00, -1.6372e-01, -1.3162e+00,  6.5763e-01,  8.0240e-01,\n",
              "            9.4883e-01, -7.5116e-01],\n",
              "          [ 3.8888e-01, -1.0264e+00, -7.0607e-01,  5.7312e-01, -1.7095e+00,\n",
              "            5.3313e-01,  1.7510e+00],\n",
              "          [-1.3918e+00, -1.0859e+00, -1.0549e+00, -3.3685e-01, -6.6038e-01,\n",
              "            1.1065e+00, -4.1719e-01],\n",
              "          [ 1.3744e+00,  9.4727e-01,  1.7767e+00,  4.0868e-01,  2.4557e-02,\n",
              "           -7.7480e-01,  3.8158e-01],\n",
              "          [ 1.5575e+00, -9.8339e-01,  1.5024e+00, -6.8694e-01,  2.2859e-01,\n",
              "           -1.7124e+00,  8.0330e-01]]]])"
            ]
          },
          "metadata": {},
          "execution_count": 31
        }
      ]
    },
    {
      "cell_type": "code",
      "metadata": {
        "colab": {
          "base_uri": "https://localhost:8080/"
        },
        "id": "0qXfzEg_PZDo",
        "outputId": "50c72b2e-861a-4e30-d714-26cb0fb7eaf7"
      },
      "source": [
        "z\n",
        "#aplana a zero los negativos"
      ],
      "execution_count": null,
      "outputs": [
        {
          "output_type": "execute_result",
          "data": {
            "text/plain": [
              "tensor([[[[0.0000, 0.8978, 0.0000, 0.0000, 0.0000, 0.1919, 0.9513],\n",
              "          [0.0000, 0.0000, 0.0000, 0.0000, 0.0000, 0.0000, 0.3669],\n",
              "          [1.4106, 0.0000, 0.0000, 0.0000, 0.1218, 0.3567, 0.0000],\n",
              "          [0.5076, 0.0000, 0.0000, 1.3660, 0.0000, 2.3051, 0.0144],\n",
              "          [0.0000, 0.2909, 0.0000, 0.0000, 1.2325, 0.0000, 0.0000],\n",
              "          [0.0750, 0.8927, 0.0000, 0.0000, 0.0000, 0.3890, 0.0000],\n",
              "          [0.7525, 0.6234, 0.0000, 1.0206, 1.0154, 0.0000, 0.7411]],\n",
              "\n",
              "         [[0.0560, 0.0000, 0.0000, 0.2395, 0.0000, 0.0000, 0.1713],\n",
              "          [0.0000, 0.2816, 0.0000, 0.0632, 0.0000, 0.6967, 0.0000],\n",
              "          [0.0000, 0.6508, 1.2393, 1.4677, 0.0000, 1.7207, 0.6469],\n",
              "          [0.0000, 0.0000, 0.0000, 0.4359, 0.0027, 0.0000, 0.0000],\n",
              "          [0.0000, 0.0000, 0.0000, 0.1967, 0.5851, 0.0799, 2.3063],\n",
              "          [0.2458, 0.5225, 0.0000, 0.0000, 0.2656, 0.0000, 0.0000],\n",
              "          [0.1256, 1.8969, 0.0000, 0.0000, 0.7347, 0.6964, 0.0000]],\n",
              "\n",
              "         [[0.5393, 0.0854, 0.0000, 0.0000, 0.0000, 0.0090, 0.8806],\n",
              "          [0.0000, 0.0000, 0.0000, 2.1002, 0.0000, 1.4160, 0.0000],\n",
              "          [0.0000, 0.0000, 0.0000, 0.6576, 0.8024, 0.9488, 0.0000],\n",
              "          [0.3889, 0.0000, 0.0000, 0.5731, 0.0000, 0.5331, 1.7510],\n",
              "          [0.0000, 0.0000, 0.0000, 0.0000, 0.0000, 1.1065, 0.0000],\n",
              "          [1.3744, 0.9473, 1.7767, 0.4087, 0.0246, 0.0000, 0.3816],\n",
              "          [1.5575, 0.0000, 1.5024, 0.0000, 0.2286, 0.0000, 0.8033]]]])"
            ]
          },
          "metadata": {},
          "execution_count": 32
        }
      ]
    },
    {
      "cell_type": "code",
      "metadata": {
        "colab": {
          "base_uri": "https://localhost:8080/"
        },
        "id": "oPYxr956OoXK",
        "outputId": "a5071b59-6635-4689-f9b6-c49ea1f4515f"
      },
      "source": [
        "for name, p in linear.named_parameters():\n",
        "  print(name)\n",
        "  print(p.size())\n",
        "  print()"
      ],
      "execution_count": null,
      "outputs": [
        {
          "output_type": "stream",
          "name": "stdout",
          "text": [
            "weight\n",
            "torch.Size([10, 4096])\n",
            "\n",
            "bias\n",
            "torch.Size([10])\n",
            "\n"
          ]
        }
      ]
    },
    {
      "cell_type": "code",
      "metadata": {
        "id": "_5RNFnF8SXxV"
      },
      "source": [
        ""
      ],
      "execution_count": null,
      "outputs": []
    }
  ]
}