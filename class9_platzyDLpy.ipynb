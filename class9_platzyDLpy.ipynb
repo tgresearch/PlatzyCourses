{
  "nbformat": 4,
  "nbformat_minor": 0,
  "metadata": {
    "colab": {
      "name": "class9_platzyDLpy.ipynb",
      "provenance": [],
      "collapsed_sections": [],
      "authorship_tag": "ABX9TyM7XAkBAYPytHmcE/vGY4Pk",
      "include_colab_link": true
    },
    "kernelspec": {
      "name": "python3",
      "display_name": "Python 3"
    },
    "language_info": {
      "name": "python"
    }
  },
  "cells": [
    {
      "cell_type": "markdown",
      "metadata": {
        "id": "view-in-github",
        "colab_type": "text"
      },
      "source": [
        "<a href=\"https://colab.research.google.com/github/tgresearch/PlatzyCourses/blob/main/class9_platzyDLpy.ipynb\" target=\"_parent\"><img src=\"https://colab.research.google.com/assets/colab-badge.svg\" alt=\"Open In Colab\"/></a>"
      ]
    },
    {
      "cell_type": "markdown",
      "metadata": {
        "id": "L-1wLyIoXmqJ"
      },
      "source": [
        "\n",
        "\n",
        "```\n",
        "## Class 9\n",
        "```\n",
        "\n"
      ]
    },
    {
      "cell_type": "code",
      "metadata": {
        "id": "tvFYNieTN5YZ"
      },
      "source": [
        "import torch\n",
        "import torch.nn as nn\n",
        "import torch.nn.functional as F #capas sin parametros\n"
      ],
      "execution_count": 1,
      "outputs": []
    },
    {
      "cell_type": "code",
      "metadata": {
        "id": "jxJj47z1UHMH"
      },
      "source": [
        "class Net(nn.Module):\n",
        "  #necesita 2 metodos (inicializacion y forward)\n",
        "  def __init__(self, num_channels):\n",
        "    super(Net,self).__init__()\n",
        "    \n",
        "    self.num_channels = num_channels\n",
        "\n",
        "    self.conv1 = nn.Conv2d(3, self.num_chanels, 3, stride = 1, padding=1)\n",
        "    self.conv2 = nn.Conv2d(self.num_channels, self.num_chanels*2, 3, stride = 1, padding=1)\n",
        "    self.conv3 = nn.Conv2d(self.num_chanels*2, self.num_chanels*4, 3, stride = 1, padding=1)\n",
        "\n",
        "    self.fc1 = nn.Linear(self.num_channels*4*8*8, self.num_channels*4)\n",
        "    self.fc2 = nn.Linear(self.num_channels*4, 6)\n",
        "\n",
        "    def forward(self,x):\n",
        "      #empieza con images 3x64x64\n",
        "      x = self.conv1(x) #num_channels x 64 x 64\n",
        "      x = F.relu(F.max_pool2d(x,2)) #num_channels x 32 x 32\n",
        "      x = self.conv2(x) #num_Channels*2 x 32 x32\n",
        "      x = F.relu(F.max_pool2d(x,2)) #num_channels*2 x 16 x 16\n",
        "      x = self.conv3(x) #num_Channels*4 x 16 x 16\n",
        "      x = F.relu(F.max_pool2d(x,2)) #num_channels*4 x 8 x 8\n",
        "\n",
        "      #flatten usar metodo view\n",
        "      x = x.view(-1, self.num_channels*4*8*8)\n",
        "\n",
        "      #fc\n",
        "      x = self.fc(x)\n",
        "      x = F.ralu(x)\n",
        "      x = self.fc2(x)\n",
        "\n",
        "      #log_softmax\n",
        "      x = F.log_softmax(x, dim=1)\n",
        "      \n",
        "      return x\n"
      ],
      "execution_count": null,
      "outputs": []
    },
    {
      "cell_type": "code",
      "metadata": {
        "id": "E2Ko9-U4UXIc"
      },
      "source": [
        ""
      ],
      "execution_count": null,
      "outputs": []
    }
  ]
}