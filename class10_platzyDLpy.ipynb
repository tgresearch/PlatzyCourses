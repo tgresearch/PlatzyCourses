{
  "nbformat": 4,
  "nbformat_minor": 0,
  "metadata": {
    "colab": {
      "name": "class10_platzyDLpy.ipynb",
      "provenance": [],
      "collapsed_sections": [],
      "authorship_tag": "ABX9TyPS1Fg2+dHuCHLYIEfpxxAs",
      "include_colab_link": true
    },
    "kernelspec": {
      "name": "python3",
      "display_name": "Python 3"
    },
    "language_info": {
      "name": "python"
    }
  },
  "cells": [
    {
      "cell_type": "markdown",
      "metadata": {
        "id": "view-in-github",
        "colab_type": "text"
      },
      "source": [
        "<a href=\"https://colab.research.google.com/github/tgresearch/PlatzyCourses/blob/main/class10_platzyDLpy.ipynb\" target=\"_parent\"><img src=\"https://colab.research.google.com/assets/colab-badge.svg\" alt=\"Open In Colab\"/></a>"
      ]
    },
    {
      "cell_type": "markdown",
      "metadata": {
        "id": "L-1wLyIoXmqJ"
      },
      "source": [
        "\n",
        "\n",
        "```\n",
        "## Class 9\n",
        "```\n",
        "\n"
      ]
    },
    {
      "cell_type": "code",
      "metadata": {
        "id": "tvFYNieTN5YZ"
      },
      "source": [
        "import torch\n",
        "import torch.nn as nn\n",
        "import torch.nn.functional as F #capas sin parametros\n"
      ],
      "execution_count": 1,
      "outputs": []
    },
    {
      "cell_type": "code",
      "metadata": {
        "id": "jxJj47z1UHMH"
      },
      "source": [
        "class Net(nn.Module):\n",
        "  #necesita 2 metodos (inicializacion y forward)\n",
        "  def __init__(self, num_channels):\n",
        "    super(Net,self).__init__()\n",
        "    \n",
        "    self.num_channels = num_channels\n",
        "\n",
        "    self.conv1 = nn.Conv2d(3, self.num_chanels, 3, stride = 1, padding=1)\n",
        "    self.conv2 = nn.Conv2d(self.num_channels, self.num_chanels*2, 3, stride = 1, padding=1)\n",
        "    self.conv3 = nn.Conv2d(self.num_chanels*2, self.num_chanels*4, 3, stride = 1, padding=1)\n",
        "\n",
        "    self.fc1 = nn.Linear(self.num_channels*4*8*8, self.num_channels*4)\n",
        "    self.fc2 = nn.Linear(self.num_channels*4, 6)\n",
        "\n",
        "    def forward(self,x):\n",
        "      #empieza con images 3x64x64\n",
        "      x = self.conv1(x) #num_channels x 64 x 64\n",
        "      x = F.relu(F.max_pool2d(x,2)) #num_channels x 32 x 32\n",
        "      x = self.conv2(x) #num_Channels*2 x 32 x32\n",
        "      x = F.relu(F.max_pool2d(x,2)) #num_channels*2 x 16 x 16\n",
        "      x = self.conv3(x) #num_Channels*4 x 16 x 16\n",
        "      x = F.relu(F.max_pool2d(x,2)) #num_channels*4 x 8 x 8\n",
        "\n",
        "      #flatten usar metodo view\n",
        "      x = x.view(-1, self.num_channels*4*8*8)\n",
        "\n",
        "      #fc\n",
        "      x = self.fc(x)\n",
        "      x = F.ralu(x)\n",
        "      x = self.fc2(x)\n",
        "\n",
        "      #log_softmax\n",
        "      x = F.log_softmax(x, dim=1)\n",
        "      \n",
        "      return x\n"
      ],
      "execution_count": 10,
      "outputs": []
    },
    {
      "cell_type": "code",
      "metadata": {
        "colab": {
          "base_uri": "https://localhost:8080/"
        },
        "id": "E2Ko9-U4UXIc",
        "outputId": "fe328ee2-a296-4d2b-f79f-c45d5a405500"
      },
      "source": [
        "from google.colab import drive\n",
        "drive.mount('/gdrive')"
      ],
      "execution_count": 3,
      "outputs": [
        {
          "output_type": "stream",
          "name": "stdout",
          "text": [
            "Mounted at /gdrive\n"
          ]
        }
      ]
    },
    {
      "cell_type": "code",
      "metadata": {
        "colab": {
          "base_uri": "https://localhost:8080/"
        },
        "id": "SEoa1t-YcrHi",
        "outputId": "fa821c10-60b7-4f1d-feee-0c360bc20b48"
      },
      "source": [
        "!ls '/gdrive/My Drive/dl-pytorch/datasets/64x64_SIGNS'"
      ],
      "execution_count": 4,
      "outputs": [
        {
          "output_type": "stream",
          "name": "stdout",
          "text": [
            "test_signs  train_signs  val_signs\n"
          ]
        }
      ]
    },
    {
      "cell_type": "code",
      "metadata": {
        "id": "05HJJWPbcsHz"
      },
      "source": [
        "import sys\n",
        "sys.path.append('/gdrive/My Drive/dl-pytorch/')"
      ],
      "execution_count": 5,
      "outputs": []
    },
    {
      "cell_type": "code",
      "metadata": {
        "id": "N0a8cM8kcsEl"
      },
      "source": [
        "from plot_helpers import imshow"
      ],
      "execution_count": 6,
      "outputs": []
    },
    {
      "cell_type": "code",
      "metadata": {
        "id": "VqnIqdtGcsBl"
      },
      "source": [
        "import os\n",
        "from PIL import Image\n",
        "from torch.utils.data import Dataset, DataLoader\n",
        "\n",
        "class SIGNSDataset(Dataset):\n",
        "  def __init__(self, base_dir, split='train',transform=None):\n",
        "    path = os.path.join(base_dir, \"{}_signs\".format(split))\n",
        "    files = os.listdir(path)\n",
        "\n",
        "    self.filenames = [os.path.join(path,f) for f in files if f.endswith(\".jpg\")]\n",
        "\n",
        "    self.targets = [int(f[0]) for f in files]\n",
        "    self.transform = transform\n",
        "  \n",
        "  def __len__(self):\n",
        "    return len(self.filenames)\n",
        "\n",
        "  def __getitem__(self,idx):\n",
        "    image = Image.open(self.filenames[idx])\n",
        "    if self.transform:\n",
        "      image = self.transform(image)\n",
        "    return image, self.targets[idx]\n",
        "\n"
      ],
      "execution_count": 30,
      "outputs": []
    },
    {
      "cell_type": "code",
      "metadata": {
        "id": "jar4cBIqcr-r"
      },
      "source": [
        "signs = SIGNSDataset('/gdrive/My Drive/dl-pytorch/datasets/64x64_SIGNS', split='train')"
      ],
      "execution_count": 31,
      "outputs": []
    },
    {
      "cell_type": "code",
      "metadata": {
        "colab": {
          "base_uri": "https://localhost:8080/"
        },
        "id": "pCFouYTxgIg-",
        "outputId": "85808681-24c4-4c34-ddb6-cb177b2fb9cd"
      },
      "source": [
        "len(signs)"
      ],
      "execution_count": 22,
      "outputs": [
        {
          "output_type": "execute_result",
          "data": {
            "text/plain": [
              "864"
            ]
          },
          "metadata": {},
          "execution_count": 22
        }
      ]
    },
    {
      "cell_type": "code",
      "metadata": {
        "colab": {
          "base_uri": "https://localhost:8080/",
          "height": 81
        },
        "id": "JC-f1VOHgId9",
        "outputId": "6fbee63b-6693-43b1-b21b-4bad0b6a2be1"
      },
      "source": [
        "signs[0][0]"
      ],
      "execution_count": 32,
      "outputs": [
        {
          "output_type": "execute_result",
          "data": {
            "image/png": "[encoded data removed]",
            "text/plain": [
              "<PIL.JpegImagePlugin.JpegImageFile image mode=RGB size=64x64 at 0x7FB4A0F3FAD0>"
            ]
          },
          "metadata": {},
          "execution_count": 32
        }
      ]
    },
    {
      "cell_type": "code",
      "metadata": {
        "id": "16zxY9AMcr7r"
      },
      "source": [
        ""
      ],
      "execution_count": null,
      "outputs": []
    }
  ]
}